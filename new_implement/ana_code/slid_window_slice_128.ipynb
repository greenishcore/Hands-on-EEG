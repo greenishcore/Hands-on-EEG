{
 "cells": [
  {
   "cell_type": "code",
   "execution_count": 1,
   "metadata": {
    "collapsed": true,
    "ExecuteTime": {
     "end_time": "2023-05-08T03:01:52.428903400Z",
     "start_time": "2023-05-08T03:00:44.511781800Z"
    }
   },
   "outputs": [],
   "source": [
    "import numpy as np\n",
    "import pandas as pd\n",
    "import os\n",
    "# C:\\Users\\14870\\PycharmProjects\\Hands-on-EEG\\new_implement\\data\\origin_raw_data_slid_window_slice_3000\n",
    "data_dir = 'C:\\\\Users\\\\14870\\\\PycharmProjects\\\\Hands-on-EEG\\\\new_implement\\\\data\\\\origin_raw_data'\n",
    "output_dir = 'C:\\\\Users\\\\14870\\\\PycharmProjects\\\\Hands-on-EEG\\\\new_implement\\\\data\\\\128'\n",
    "\n",
    "window_size = 128\n",
    "step_size = 100\n",
    "\n",
    "def sliding_window(signal, window_size, step_size):\n",
    "    n_channels, n_samples = signal.shape\n",
    "    n_windows = int((n_samples - window_size) / step_size) + 1\n",
    "    window = np.zeros((n_channels, window_size, n_windows))\n",
    "    for i in range(n_windows):\n",
    "        window= signal.iloc[:, i*step_size:i*step_size+window_size]\n",
    "        putput_path = os.path.join(output_dir,file_name.split('.')[0] + '_window_' + str(i) + '.csv')\n",
    "        window.to_csv(putput_path, index = False)\n",
    "        #print('window ' + str(i) + ' saved')\n",
    "    return window\n",
    "\n",
    "for file_name in os.listdir(data_dir):\n",
    "    file_path = os.path.join(data_dir, file_name)\n",
    "    signal = pd.read_csv(file_path)\n",
    "    sliding_window(signal, window_size, step_size)"
   ]
  },
  {
   "cell_type": "code",
   "execution_count": null,
   "outputs": [],
   "source": [],
   "metadata": {
    "collapsed": false
   }
  }
 ],
 "metadata": {
  "kernelspec": {
   "display_name": "Python 3",
   "language": "python",
   "name": "python3"
  },
  "language_info": {
   "codemirror_mode": {
    "name": "ipython",
    "version": 2
   },
   "file_extension": ".py",
   "mimetype": "text/x-python",
   "name": "python",
   "nbconvert_exporter": "python",
   "pygments_lexer": "ipython2",
   "version": "2.7.6"
  }
 },
 "nbformat": 4,
 "nbformat_minor": 0
}
