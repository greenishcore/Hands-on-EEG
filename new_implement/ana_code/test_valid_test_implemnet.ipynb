{
 "cells": [
  {
   "cell_type": "code",
   "execution_count": 56,
   "metadata": {
    "collapsed": true,
    "ExecuteTime": {
     "start_time": "2023-05-01T18:12:07.365854Z",
     "end_time": "2023-05-01T18:12:07.385849Z"
    }
   },
   "outputs": [],
   "source": [
    "import os\n",
    "import pandas as pd\n",
    "import numpy as np\n",
    "import matplotlib.pyplot as plt\n",
    "\n",
    "import torch\n",
    "import torch.nn as nn\n",
    "from torch.utils.data import Dataset, DataLoader\n",
    "from torch.utils.data.sampler import SubsetRandomSampler\n",
    "from torch.utils.data import random_split\n",
    "from torch.optim.lr_scheduler import StepLR\n"
   ]
  },
  {
   "cell_type": "code",
   "execution_count": 60,
   "outputs": [],
   "source": [
    "orgin_raw_data_dir = 'C:\\\\Users\\\\21945\\\\PycharmProjects\\\\Hands-on-EEG\\\\new_implement\\\\data\\\\orgin_raw_data_slid_window_slice_3000'\n",
    "model_save ='C:\\\\Users\\\\21945\\\\PycharmProjects\\\\Hands-on-EEG\\\\new_implement\\\\model'\n",
    "pic_dir = 'C:\\\\Users\\\\21945\\\\PycharmProjects\\\\Hands-on-EEG\\\\new_implement\\\\pic'"
   ],
   "metadata": {
    "collapsed": false,
    "ExecuteTime": {
     "start_time": "2023-05-01T18:13:37.752677Z",
     "end_time": "2023-05-01T18:13:37.764157Z"
    }
   }
  },
  {
   "cell_type": "code",
   "execution_count": 61,
   "outputs": [],
   "source": [
    "class EEG_Dataset(Dataset):\n",
    "    def __init__(self, data_dir):\n",
    "        self.data_dir = orgin_raw_data_dir\n",
    "        self.file_list = os.listdir(self.data_dir)\n",
    "\n",
    "    def __len__(self):\n",
    "        return len(self.file_list)\n",
    "\n",
    "    def __getitem__(self, idx):\n",
    "        file_name = self.file_list[idx]\n",
    "        file_path = os.path.join(self.data_dir, file_name)\n",
    "        data = pd.read_csv(file_path, header=None)\n",
    "        data = data.values\n",
    "        data = torch.from_numpy(data)\n",
    "        label_map = {'lefthand': 0, 'read': 1, 'rest': 2, 'walkbase': 3, 'walkl': 4 ,'walkfocus': 5}\n",
    "        data_label = label_map[file_name.split('_')[0]]\n",
    "        return data, data_label"
   ],
   "metadata": {
    "collapsed": false,
    "ExecuteTime": {
     "start_time": "2023-05-01T18:13:38.690030Z",
     "end_time": "2023-05-01T18:13:38.711216Z"
    }
   }
  },
  {
   "cell_type": "code",
   "execution_count": 62,
   "outputs": [],
   "source": [
    "dataset = EEG_Dataset(orgin_raw_data_dir)\n",
    "\n",
    "train_size = int(0.6 * len(dataset))\n",
    "valid_size = int(0.2 * len(dataset))\n",
    "test_size = len(dataset) - train_size - valid_size\n",
    "\n",
    "train_dataset,valid_dataset, test_dataset = torch.utils.data.random_split(dataset, [train_size,valid_size, test_size])\n",
    "\n",
    "train_loader = torch.utils.data.DataLoader(train_dataset, batch_size=4, shuffle=True)\n",
    "valid_loader = torch.utils.data.DataLoader(valid_dataset,batch_size=4, shuffle=True)\n",
    "test_loader = torch.utils.data.DataLoader(test_dataset, batch_size=4, shuffle=False)"
   ],
   "metadata": {
    "collapsed": false,
    "ExecuteTime": {
     "start_time": "2023-05-01T18:13:39.369702Z",
     "end_time": "2023-05-01T18:13:39.385228Z"
    }
   }
  },
  {
   "cell_type": "code",
   "execution_count": 63,
   "outputs": [],
   "source": [
    "class EEGNet(nn.Module):\n",
    "    def __init__(self, num_classes=3):\n",
    "        super(EEGNet, self).__init__()\n",
    "        self.conv1 = nn.Conv2d(1, 16, kernel_size=(1, 4), stride=(1, 2))\n",
    "        self.bn1 = nn.BatchNorm2d(16, eps=1e-05, momentum=0.1, affine=True, track_running_stats=True)\n",
    "        self.pool1 = nn.MaxPool2d(kernel_size=(1, 4), stride=(1, 4))\n",
    "        self.dropout1 = nn.Dropout(p=0.25)\n",
    "        self.conv2 = nn.Conv2d(16, 32, kernel_size=(1, 2), stride=(1, 2))\n",
    "        self.bn2 = nn.BatchNorm2d(32, eps=1e-05, momentum=0.1, affine=True, track_running_stats=True)\n",
    "        self.pool2 = nn.MaxPool2d(kernel_size=(1, 4), stride=(1, 4))\n",
    "        self.dropout2 = nn.Dropout(p=0.25)\n",
    "        self.fc1 = nn.Linear(48576, 128)\n",
    "        self.dropout3 = nn.Dropout(p=0.5)\n",
    "        self.fc2 = nn.Linear(128, 6)\n",
    "\n",
    "\n",
    "    def forward(self, x):\n",
    "        x = torch.unsqueeze(x, 1)\n",
    "        #print('x:', x.shape)\n",
    "        x = self.conv1(x)\n",
    "        #print('conv1:', x.shape)\n",
    "        x = self.bn1(x)\n",
    "        x = torch.relu(x)\n",
    "        x = self.pool1(x)\n",
    "        x = self.dropout1(x)\n",
    "        x = self.conv2(x)\n",
    "        #print('conv2:', x.shape)\n",
    "        x = self.bn2(x)\n",
    "        x = torch.relu(x)\n",
    "        x = self.pool2(x)\n",
    "        x = self.dropout2(x)\n",
    "        x = x.view(x.size(0), -1)\n",
    "        #print('flatten:', x.shape)\n",
    "        x = self.fc1(x)\n",
    "        x = torch.relu(x)\n",
    "        x = self.dropout3(x)\n",
    "        x = self.fc2(x)\n",
    "        return x"
   ],
   "metadata": {
    "collapsed": false,
    "ExecuteTime": {
     "start_time": "2023-05-01T18:13:39.788957Z",
     "end_time": "2023-05-01T18:13:39.804785Z"
    }
   }
  },
  {
   "cell_type": "code",
   "execution_count": 64,
   "outputs": [
    {
     "name": "stdout",
     "output_type": "stream",
     "text": [
      "torch.Size([1, 6])\n",
      "tensor([[-0.1539,  0.2126, -0.2103,  0.6898,  0.1922,  0.1048]],\n",
      "       grad_fn=<AddmmBackward0>)\n"
     ]
    }
   ],
   "source": [
    "X = torch.randn(size=( 1, 33, 3000), dtype=torch.float32)\n",
    "model = EEGNet()\n",
    "output = model(X)\n",
    "print(output.shape)\n",
    "print(output)"
   ],
   "metadata": {
    "collapsed": false,
    "ExecuteTime": {
     "start_time": "2023-05-01T18:13:40.179579Z",
     "end_time": "2023-05-01T18:13:40.221661Z"
    }
   }
  },
  {
   "cell_type": "code",
   "execution_count": 65,
   "outputs": [
    {
     "name": "stdout",
     "output_type": "stream",
     "text": [
      "Using cuda device\n"
     ]
    }
   ],
   "source": [
    "device = (\n",
    "    \"cuda\"\n",
    "    if torch.cuda.is_available()\n",
    "    else \"mps\"\n",
    "    if torch.cuda.is_available()\n",
    "    else \"cpu\"\n",
    ")\n",
    "# device = (\"cpu\")\n",
    "print(f\"Using {device} device\")"
   ],
   "metadata": {
    "collapsed": false,
    "ExecuteTime": {
     "start_time": "2023-05-01T18:13:40.593849Z",
     "end_time": "2023-05-01T18:13:40.616652Z"
    }
   }
  },
  {
   "cell_type": "code",
   "execution_count": 66,
   "outputs": [],
   "source": [
    "learning_rate = 0.0001\n",
    "num_epochs = 10\n",
    "loss_fn = nn.CrossEntropyLoss()\n",
    "optimizer = torch.optim.Adam(model.parameters(), lr=learning_rate)\n",
    "scheduler = StepLR(optimizer, step_size=30, gamma=0.1)"
   ],
   "metadata": {
    "collapsed": false,
    "ExecuteTime": {
     "start_time": "2023-05-01T18:13:41.000308Z",
     "end_time": "2023-05-01T18:13:41.016444Z"
    }
   }
  },
  {
   "cell_type": "code",
   "execution_count": 67,
   "outputs": [],
   "source": [
    "def train(dataloader, model, loss_fn, optimizer):\n",
    "    size = len(dataloader.dataset)\n",
    "    for batch, (X, y) in enumerate(dataloader):\n",
    "        X, y = X.to(device), y.to(device)\n",
    "        # Compute prediction error\n",
    "        pred = model(X.float())\n",
    "        loss = loss_fn(pred, y)\n",
    "        # Backpropagation\n",
    "        optimizer.zero_grad()\n",
    "        loss.backward()\n",
    "        optimizer.step()\n",
    "        if batch % 100 == 0:\n",
    "            loss, current = loss.item(), batch * len(X)\n",
    "            print(f\"loss: {loss:>7f}  [{current:>5d}/{size:>5d}]\")\n",
    "            global train_loss\n",
    "            train_loss.append(loss)\n",
    "\n",
    "\n",
    "def valid(dataloader, model,loss_fn):\n",
    "    size = len(dataloader.dataset)\n",
    "    num_batches = len(dataloader)\n",
    "    model.eval()\n",
    "    valid_loss, valid_correct = 0, 0\n",
    "    with torch.no_grad():\n",
    "        for X, y in dataloader:\n",
    "            X, y = X.to(device), y.to(device)\n",
    "            pred = model(X.float())\n",
    "            valid_loss += loss_fn(pred, y).item()\n",
    "            valid_correct += (pred.argmax(1) == y).type(torch.float).sum().item()\n",
    "    valid_loss /= num_batches\n",
    "    valid_correct /= size\n",
    "    print(f\"Valid Error:\\n Accuracy: {(100 * valid_correct):>0.1f}%, Avg loss: {valid_loss:>8f} \\n\")\n",
    "    global validloss\n",
    "    validloss.append(valid_loss)\n",
    "    global validaccuracy\n",
    "    validaccuracy.append(valid_correct)\n",
    "\n",
    "\n",
    "def test(dataloader, model,loss_fn):\n",
    "    size = len(dataloader.dataset)\n",
    "    num_batches = len(dataloader)\n",
    "    model.eval()\n",
    "    test_loss, correct = 0, 0\n",
    "    with torch.no_grad():\n",
    "        for X, y in dataloader:\n",
    "            X, y = X.to(device), y.to(device)\n",
    "            pred = model(X.float())\n",
    "            test_loss += loss_fn(pred, y).item()\n",
    "            correct += (pred.argmax(1) == y).type(torch.float).sum().item()\n",
    "    test_loss /= num_batches\n",
    "    correct /= size\n",
    "    print(f\"Test Error:\\n Accuracy: {(100 * correct):>0.1f}%, Avg loss: {test_loss:>8f} \\n\")\n",
    "    global testloss\n",
    "    testloss.append(test_loss)\n",
    "    global testaccuracy\n",
    "    testaccuracy.append(correct)"
   ],
   "metadata": {
    "collapsed": false,
    "ExecuteTime": {
     "start_time": "2023-05-01T18:13:41.455883Z",
     "end_time": "2023-05-01T18:13:41.481596Z"
    }
   }
  },
  {
   "cell_type": "code",
   "execution_count": 69,
   "outputs": [
    {
     "name": "stdout",
     "output_type": "stream",
     "text": [
      "Epoch 1\n",
      "-------------------------------\n",
      "loss: 1.332402  [    0/ 2375]\n",
      "loss: 0.693561  [  400/ 2375]\n",
      "loss: 0.462562  [  800/ 2375]\n",
      "loss: 1.403721  [ 1200/ 2375]\n",
      "loss: 2.622665  [ 1600/ 2375]\n",
      "loss: 0.725647  [ 2000/ 2375]\n",
      "Test Error:\n",
      " Accuracy: 87.0%, Avg loss: 0.479059 \n",
      "\n",
      "Test Error:\n",
      " Accuracy: 86.9%, Avg loss: 0.483184 \n",
      "\n",
      "Epoch 2\n",
      "-------------------------------\n",
      "loss: 1.088360  [    0/ 2375]\n",
      "loss: 0.436631  [  400/ 2375]\n",
      "loss: 0.730015  [  800/ 2375]\n",
      "loss: 0.354444  [ 1200/ 2375]\n",
      "loss: 0.322866  [ 1600/ 2375]\n",
      "loss: 1.610103  [ 2000/ 2375]\n",
      "Test Error:\n",
      " Accuracy: 89.0%, Avg loss: 0.334671 \n",
      "\n",
      "Test Error:\n",
      " Accuracy: 91.3%, Avg loss: 0.339819 \n",
      "\n",
      "Epoch 3\n",
      "-------------------------------\n",
      "loss: 0.808428  [    0/ 2375]\n",
      "loss: 1.297902  [  400/ 2375]\n",
      "loss: 0.469280  [  800/ 2375]\n",
      "loss: 0.022298  [ 1200/ 2375]\n",
      "loss: 0.777473  [ 1600/ 2375]\n",
      "loss: 0.372492  [ 2000/ 2375]\n",
      "Test Error:\n",
      " Accuracy: 90.9%, Avg loss: 0.300654 \n",
      "\n",
      "Test Error:\n",
      " Accuracy: 93.6%, Avg loss: 0.292646 \n",
      "\n",
      "Epoch 4\n",
      "-------------------------------\n",
      "loss: 0.045715  [    0/ 2375]\n",
      "loss: 0.041589  [  400/ 2375]\n",
      "loss: 0.214078  [  800/ 2375]\n",
      "loss: 0.229867  [ 1200/ 2375]\n",
      "loss: 0.251469  [ 1600/ 2375]\n",
      "loss: 0.172726  [ 2000/ 2375]\n",
      "Test Error:\n",
      " Accuracy: 89.0%, Avg loss: 0.314911 \n",
      "\n",
      "Test Error:\n",
      " Accuracy: 91.3%, Avg loss: 0.311667 \n",
      "\n",
      "Epoch 5\n",
      "-------------------------------\n",
      "loss: 0.514623  [    0/ 2375]\n",
      "loss: 0.602901  [  400/ 2375]\n",
      "loss: 0.025120  [  800/ 2375]\n",
      "loss: 0.132889  [ 1200/ 2375]\n",
      "loss: 0.318644  [ 1600/ 2375]\n",
      "loss: 0.203672  [ 2000/ 2375]\n",
      "Test Error:\n",
      " Accuracy: 95.4%, Avg loss: 0.218032 \n",
      "\n",
      "Test Error:\n",
      " Accuracy: 95.8%, Avg loss: 0.215347 \n",
      "\n",
      "Epoch 6\n",
      "-------------------------------\n",
      "loss: 0.040277  [    0/ 2375]\n",
      "loss: 0.718911  [  400/ 2375]\n",
      "loss: 0.009631  [  800/ 2375]\n",
      "loss: 0.729805  [ 1200/ 2375]\n",
      "loss: 0.985799  [ 1600/ 2375]\n",
      "loss: 0.451775  [ 2000/ 2375]\n",
      "Test Error:\n",
      " Accuracy: 96.7%, Avg loss: 0.206164 \n",
      "\n",
      "Test Error:\n",
      " Accuracy: 95.7%, Avg loss: 0.215642 \n",
      "\n",
      "Epoch 7\n",
      "-------------------------------\n",
      "loss: 0.375098  [    0/ 2375]\n",
      "loss: 0.531669  [  400/ 2375]\n",
      "loss: 0.414031  [  800/ 2375]\n",
      "loss: 0.773525  [ 1200/ 2375]\n",
      "loss: 0.480356  [ 1600/ 2375]\n",
      "loss: 0.711357  [ 2000/ 2375]\n",
      "Test Error:\n",
      " Accuracy: 94.2%, Avg loss: 0.167565 \n",
      "\n",
      "Test Error:\n",
      " Accuracy: 95.3%, Avg loss: 0.167474 \n",
      "\n",
      "Epoch 8\n",
      "-------------------------------\n",
      "loss: 0.128460  [    0/ 2375]\n",
      "loss: 0.300600  [  400/ 2375]\n",
      "loss: 0.545671  [  800/ 2375]\n",
      "loss: 0.647226  [ 1200/ 2375]\n",
      "loss: 0.188627  [ 1600/ 2375]\n",
      "loss: 0.370320  [ 2000/ 2375]\n",
      "Test Error:\n",
      " Accuracy: 95.3%, Avg loss: 0.162703 \n",
      "\n",
      "Test Error:\n",
      " Accuracy: 96.2%, Avg loss: 0.161370 \n",
      "\n",
      "Epoch 9\n",
      "-------------------------------\n",
      "loss: 0.391735  [    0/ 2375]\n",
      "loss: 0.136576  [  400/ 2375]\n",
      "loss: 0.043950  [  800/ 2375]\n",
      "loss: 1.076525  [ 1200/ 2375]\n",
      "loss: 0.005123  [ 1600/ 2375]\n",
      "loss: 0.661797  [ 2000/ 2375]\n",
      "Test Error:\n",
      " Accuracy: 91.7%, Avg loss: 0.229957 \n",
      "\n",
      "Test Error:\n",
      " Accuracy: 92.6%, Avg loss: 0.214893 \n",
      "\n",
      "Epoch 10\n",
      "-------------------------------\n",
      "loss: 0.252915  [    0/ 2375]\n",
      "loss: 0.161369  [  400/ 2375]\n",
      "loss: 0.475614  [  800/ 2375]\n",
      "loss: 0.218413  [ 1200/ 2375]\n",
      "loss: 0.762380  [ 1600/ 2375]\n",
      "loss: 0.579860  [ 2000/ 2375]\n",
      "Test Error:\n",
      " Accuracy: 94.6%, Avg loss: 0.147193 \n",
      "\n",
      "Test Error:\n",
      " Accuracy: 95.2%, Avg loss: 0.143653 \n",
      "\n",
      "Done!\n"
     ]
    }
   ],
   "source": [
    "model = model.cuda()\n",
    "train_loss = []\n",
    "validloss = []\n",
    "testloss = []\n",
    "validaccuracy = []\n",
    "testaccuracy = []\n",
    "for t in range(num_epochs):\n",
    "    print(f\"Epoch {t + 1}\\n-------------------------------\")\n",
    "    model.train(True)\n",
    "    train(train_loader, model, loss_fn, optimizer)\n",
    "\n",
    "    model.train(False)\n",
    "    test(valid_loader, model, loss_fn)\n",
    "\n",
    "    model.train(False)\n",
    "    test(test_loader, model, loss_fn)\n",
    "\n",
    "print(\"Done!\")"
   ],
   "metadata": {
    "collapsed": false,
    "ExecuteTime": {
     "start_time": "2023-05-01T18:28:52.375448Z",
     "end_time": "2023-05-01T19:19:17.895238Z"
    }
   }
  },
  {
   "cell_type": "code",
   "execution_count": null,
   "outputs": [],
   "source": [],
   "metadata": {
    "collapsed": false
   }
  }
 ],
 "metadata": {
  "kernelspec": {
   "display_name": "Python 3",
   "language": "python",
   "name": "python3"
  },
  "language_info": {
   "codemirror_mode": {
    "name": "ipython",
    "version": 2
   },
   "file_extension": ".py",
   "mimetype": "text/x-python",
   "name": "python",
   "nbconvert_exporter": "python",
   "pygments_lexer": "ipython2",
   "version": "2.7.6"
  }
 },
 "nbformat": 4,
 "nbformat_minor": 0
}
