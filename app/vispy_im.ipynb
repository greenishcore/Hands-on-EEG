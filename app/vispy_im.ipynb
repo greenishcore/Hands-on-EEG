{
 "cells": [
  {
   "cell_type": "code",
   "execution_count": 19,
   "outputs": [
    {
     "ename": "RuntimeError",
     "evalue": "Could not import backend \"jupyter_rfb\":\nThe jupyter_rfb backend relies on a the jupyter_rfb library: ``pip install jupyter_rfb``",
     "output_type": "error",
     "traceback": [
      "\u001B[1;31m---------------------------------------------------------------------------\u001B[0m",
      "\u001B[1;31mRuntimeError\u001B[0m                              Traceback (most recent call last)",
      "Cell \u001B[1;32mIn[19], line 11\u001B[0m\n\u001B[0;32m      8\u001B[0m data_c \u001B[38;5;241m=\u001B[39m df\u001B[38;5;241m.\u001B[39miloc[\u001B[38;5;241m1\u001B[39m:,\u001B[38;5;241m1\u001B[39m:]\u001B[38;5;241m.\u001B[39mastype(\u001B[38;5;28mfloat\u001B[39m)\u001B[38;5;241m.\u001B[39mvalues\u001B[38;5;241m.\u001B[39mT\n\u001B[0;32m     10\u001B[0m \u001B[38;5;66;03m# 创建可视化场景\u001B[39;00m\n\u001B[1;32m---> 11\u001B[0m canvas \u001B[38;5;241m=\u001B[39m \u001B[43mvispy\u001B[49m\u001B[38;5;241;43m.\u001B[39;49m\u001B[43mscene\u001B[49m\u001B[38;5;241;43m.\u001B[39;49m\u001B[43mSceneCanvas\u001B[49m\u001B[43m(\u001B[49m\u001B[43mkeys\u001B[49m\u001B[38;5;241;43m=\u001B[39;49m\u001B[38;5;124;43m'\u001B[39;49m\u001B[38;5;124;43minteractive\u001B[39;49m\u001B[38;5;124;43m'\u001B[39;49m\u001B[43m,\u001B[49m\u001B[43m \u001B[49m\u001B[43mshow\u001B[49m\u001B[38;5;241;43m=\u001B[39;49m\u001B[38;5;28;43;01mTrue\u001B[39;49;00m\u001B[43m)\u001B[49m\n\u001B[0;32m     12\u001B[0m view \u001B[38;5;241m=\u001B[39m canvas\u001B[38;5;241m.\u001B[39mcentral_widget\u001B[38;5;241m.\u001B[39madd_view()\n\u001B[0;32m     14\u001B[0m \u001B[38;5;66;03m# 创建32个线条对象\u001B[39;00m\n",
      "File \u001B[1;32m~\\anaconda3\\lib\\site-packages\\vispy\\scene\\canvas.py:135\u001B[0m, in \u001B[0;36mSceneCanvas.__init__\u001B[1;34m(self, title, size, position, show, autoswap, app, create_native, vsync, resizable, decorate, fullscreen, config, shared, keys, parent, dpi, always_on_top, px_scale, bgcolor)\u001B[0m\n\u001B[0;32m    130\u001B[0m \u001B[38;5;66;03m# Set to True to enable sending mouse events even when no button is\u001B[39;00m\n\u001B[0;32m    131\u001B[0m \u001B[38;5;66;03m# pressed. Disabled by default because it is very expensive. Also\u001B[39;00m\n\u001B[0;32m    132\u001B[0m \u001B[38;5;66;03m# private for now because this behavior / API needs more thought.\u001B[39;00m\n\u001B[0;32m    133\u001B[0m \u001B[38;5;28mself\u001B[39m\u001B[38;5;241m.\u001B[39m_send_hover_events \u001B[38;5;241m=\u001B[39m \u001B[38;5;28;01mFalse\u001B[39;00m\n\u001B[1;32m--> 135\u001B[0m \u001B[38;5;28;43msuper\u001B[39;49m\u001B[43m(\u001B[49m\u001B[43mSceneCanvas\u001B[49m\u001B[43m,\u001B[49m\u001B[43m \u001B[49m\u001B[38;5;28;43mself\u001B[39;49m\u001B[43m)\u001B[49m\u001B[38;5;241;43m.\u001B[39;49m\u001B[38;5;21;43m__init__\u001B[39;49m\u001B[43m(\u001B[49m\n\u001B[0;32m    136\u001B[0m \u001B[43m    \u001B[49m\u001B[43mtitle\u001B[49m\u001B[43m,\u001B[49m\u001B[43m \u001B[49m\u001B[43msize\u001B[49m\u001B[43m,\u001B[49m\u001B[43m \u001B[49m\u001B[43mposition\u001B[49m\u001B[43m,\u001B[49m\u001B[43m \u001B[49m\u001B[43mshow\u001B[49m\u001B[43m,\u001B[49m\u001B[43m \u001B[49m\u001B[43mautoswap\u001B[49m\u001B[43m,\u001B[49m\u001B[43m \u001B[49m\u001B[43mapp\u001B[49m\u001B[43m,\u001B[49m\u001B[43m \u001B[49m\u001B[43mcreate_native\u001B[49m\u001B[43m,\u001B[49m\u001B[43m \u001B[49m\u001B[43mvsync\u001B[49m\u001B[43m,\u001B[49m\n\u001B[0;32m    137\u001B[0m \u001B[43m    \u001B[49m\u001B[43mresizable\u001B[49m\u001B[43m,\u001B[49m\u001B[43m \u001B[49m\u001B[43mdecorate\u001B[49m\u001B[43m,\u001B[49m\u001B[43m \u001B[49m\u001B[43mfullscreen\u001B[49m\u001B[43m,\u001B[49m\u001B[43m \u001B[49m\u001B[43mconfig\u001B[49m\u001B[43m,\u001B[49m\u001B[43m \u001B[49m\u001B[43mshared\u001B[49m\u001B[43m,\u001B[49m\u001B[43m \u001B[49m\u001B[43mkeys\u001B[49m\u001B[43m,\u001B[49m\u001B[43m \u001B[49m\u001B[43mparent\u001B[49m\u001B[43m,\u001B[49m\u001B[43m \u001B[49m\u001B[43mdpi\u001B[49m\u001B[43m,\u001B[49m\n\u001B[0;32m    138\u001B[0m \u001B[43m    \u001B[49m\u001B[43malways_on_top\u001B[49m\u001B[43m,\u001B[49m\u001B[43m \u001B[49m\u001B[43mpx_scale\u001B[49m\u001B[43m)\u001B[49m\n\u001B[0;32m    139\u001B[0m \u001B[38;5;28mself\u001B[39m\u001B[38;5;241m.\u001B[39mevents\u001B[38;5;241m.\u001B[39mmouse_press\u001B[38;5;241m.\u001B[39mconnect(\u001B[38;5;28mself\u001B[39m\u001B[38;5;241m.\u001B[39m_process_mouse_event)\n\u001B[0;32m    140\u001B[0m \u001B[38;5;28mself\u001B[39m\u001B[38;5;241m.\u001B[39mevents\u001B[38;5;241m.\u001B[39mmouse_move\u001B[38;5;241m.\u001B[39mconnect(\u001B[38;5;28mself\u001B[39m\u001B[38;5;241m.\u001B[39m_process_mouse_event)\n",
      "File \u001B[1;32m~\\anaconda3\\lib\\site-packages\\vispy\\app\\canvas.py:173\u001B[0m, in \u001B[0;36mCanvas.__init__\u001B[1;34m(self, title, size, position, show, autoswap, app, create_native, vsync, resizable, decorate, fullscreen, config, shared, keys, parent, dpi, always_on_top, px_scale, backend_kwargs)\u001B[0m\n\u001B[0;32m    171\u001B[0m \u001B[38;5;66;03m# Get app instance\u001B[39;00m\n\u001B[0;32m    172\u001B[0m \u001B[38;5;28;01mif\u001B[39;00m app \u001B[38;5;129;01mis\u001B[39;00m \u001B[38;5;28;01mNone\u001B[39;00m:\n\u001B[1;32m--> 173\u001B[0m     \u001B[38;5;28mself\u001B[39m\u001B[38;5;241m.\u001B[39m_app \u001B[38;5;241m=\u001B[39m \u001B[43muse_app\u001B[49m\u001B[43m(\u001B[49m\u001B[43mcall_reuse\u001B[49m\u001B[38;5;241;43m=\u001B[39;49m\u001B[38;5;28;43;01mFalse\u001B[39;49;00m\u001B[43m)\u001B[49m\n\u001B[0;32m    174\u001B[0m \u001B[38;5;28;01melif\u001B[39;00m \u001B[38;5;28misinstance\u001B[39m(app, Application):\n\u001B[0;32m    175\u001B[0m     \u001B[38;5;28mself\u001B[39m\u001B[38;5;241m.\u001B[39m_app \u001B[38;5;241m=\u001B[39m app\n",
      "File \u001B[1;32m~\\anaconda3\\lib\\site-packages\\vispy\\app\\_default_app.py:47\u001B[0m, in \u001B[0;36muse_app\u001B[1;34m(backend_name, call_reuse)\u001B[0m\n\u001B[0;32m     44\u001B[0m         \u001B[38;5;28;01mreturn\u001B[39;00m default_app  \u001B[38;5;66;03m# Current backend matches backend_name\u001B[39;00m\n\u001B[0;32m     46\u001B[0m \u001B[38;5;66;03m# Create default app\u001B[39;00m\n\u001B[1;32m---> 47\u001B[0m default_app \u001B[38;5;241m=\u001B[39m \u001B[43mApplication\u001B[49m\u001B[43m(\u001B[49m\u001B[43mbackend_name\u001B[49m\u001B[43m)\u001B[49m\n\u001B[0;32m     48\u001B[0m \u001B[38;5;28;01mreturn\u001B[39;00m default_app\n",
      "File \u001B[1;32m~\\anaconda3\\lib\\site-packages\\vispy\\app\\application.py:47\u001B[0m, in \u001B[0;36mApplication.__init__\u001B[1;34m(self, backend_name)\u001B[0m\n\u001B[0;32m     45\u001B[0m \u001B[38;5;28mself\u001B[39m\u001B[38;5;241m.\u001B[39m_backend_module \u001B[38;5;241m=\u001B[39m \u001B[38;5;28;01mNone\u001B[39;00m\n\u001B[0;32m     46\u001B[0m \u001B[38;5;28mself\u001B[39m\u001B[38;5;241m.\u001B[39m_backend \u001B[38;5;241m=\u001B[39m \u001B[38;5;28;01mNone\u001B[39;00m\n\u001B[1;32m---> 47\u001B[0m \u001B[38;5;28;43mself\u001B[39;49m\u001B[38;5;241;43m.\u001B[39;49m\u001B[43m_use\u001B[49m\u001B[43m(\u001B[49m\u001B[43mbackend_name\u001B[49m\u001B[43m)\u001B[49m\n",
      "File \u001B[1;32m~\\anaconda3\\lib\\site-packages\\vispy\\app\\application.py:240\u001B[0m, in \u001B[0;36mApplication._use\u001B[1;34m(self, backend_name)\u001B[0m\n\u001B[0;32m    236\u001B[0m msg \u001B[38;5;241m=\u001B[39m (\u001B[38;5;124m'\u001B[39m\u001B[38;5;124mCould not import backend \u001B[39m\u001B[38;5;124m\"\u001B[39m\u001B[38;5;132;01m%s\u001B[39;00m\u001B[38;5;124m\"\u001B[39m\u001B[38;5;124m:\u001B[39m\u001B[38;5;130;01m\\n\u001B[39;00m\u001B[38;5;132;01m%s\u001B[39;00m\u001B[38;5;124m'\u001B[39m\n\u001B[0;32m    237\u001B[0m        \u001B[38;5;241m%\u001B[39m (name, \u001B[38;5;28mstr\u001B[39m(mod\u001B[38;5;241m.\u001B[39mwhy_not)))\n\u001B[0;32m    238\u001B[0m \u001B[38;5;28;01mif\u001B[39;00m \u001B[38;5;129;01mnot\u001B[39;00m try_others:\n\u001B[0;32m    239\u001B[0m     \u001B[38;5;66;03m# Fail if user wanted to use a specific backend\u001B[39;00m\n\u001B[1;32m--> 240\u001B[0m     \u001B[38;5;28;01mraise\u001B[39;00m \u001B[38;5;167;01mRuntimeError\u001B[39;00m(msg)\n\u001B[0;32m    241\u001B[0m \u001B[38;5;28;01melif\u001B[39;00m key \u001B[38;5;129;01min\u001B[39;00m imported_toolkits:\n\u001B[0;32m    242\u001B[0m     \u001B[38;5;66;03m# Warn if were unable to use an already imported toolkit\u001B[39;00m\n\u001B[0;32m    243\u001B[0m     msg \u001B[38;5;241m=\u001B[39m (\u001B[38;5;124m'\u001B[39m\u001B[38;5;124mAlthough \u001B[39m\u001B[38;5;132;01m%s\u001B[39;00m\u001B[38;5;124m is already imported, the \u001B[39m\u001B[38;5;132;01m%s\u001B[39;00m\u001B[38;5;124m backend \u001B[39m\u001B[38;5;124m'\u001B[39m\n\u001B[0;32m    244\u001B[0m            \u001B[38;5;124m'\u001B[39m\u001B[38;5;124mcould not\u001B[39m\u001B[38;5;130;01m\\n\u001B[39;00m\u001B[38;5;124mbe used (\u001B[39m\u001B[38;5;124m\"\u001B[39m\u001B[38;5;132;01m%s\u001B[39;00m\u001B[38;5;124m\"\u001B[39m\u001B[38;5;124m). \u001B[39m\u001B[38;5;130;01m\\n\u001B[39;00m\u001B[38;5;124mNote that running \u001B[39m\u001B[38;5;124m'\u001B[39m\n\u001B[0;32m    245\u001B[0m            \u001B[38;5;124m'\u001B[39m\u001B[38;5;124mmultiple GUI toolkits simultaneously can cause \u001B[39m\u001B[38;5;124m'\u001B[39m\n\u001B[0;32m    246\u001B[0m            \u001B[38;5;124m'\u001B[39m\u001B[38;5;124mside effects.\u001B[39m\u001B[38;5;124m'\u001B[39m \u001B[38;5;241m%\u001B[39m\n\u001B[0;32m    247\u001B[0m            (native_module_name, name, \u001B[38;5;28mstr\u001B[39m(mod\u001B[38;5;241m.\u001B[39mwhy_not)))\n",
      "\u001B[1;31mRuntimeError\u001B[0m: Could not import backend \"jupyter_rfb\":\nThe jupyter_rfb backend relies on a the jupyter_rfb library: ``pip install jupyter_rfb``"
     ]
    }
   ],
   "source": [
    "import numpy as np\n",
    "import vispy.scene\n",
    "from vispy.scene import visuals\n",
    "import pandas as pd\n",
    "\n",
    "# 读取数据\n",
    "df = pd.read_csv(\"C:\\\\Users\\\\a1882\\\\Desktop\\\\EEG\\\\new_implement\\\\data\\\\origin_raw_data\\\\lefthand_zyy_04_epocflex_2023.03.22t16.48.29+08.00.md.bp.csv\",header=None)\n",
    "data_c = df.iloc[1:,1:].astype(float).values.T\n",
    "\n",
    "# 创建可视化场景\n",
    "canvas = vispy.scene.SceneCanvas(keys='interactive', show=True)\n",
    "view = canvas.central_widget.add_view()\n",
    "\n",
    "# 创建32个线条对象\n",
    "lines = []\n",
    "for i in range(32):\n",
    "    line = visuals.Line(pos=np.array([[0, 0], [1, 1]]), width=2, color='#00251C')\n",
    "    lines.append(line)\n",
    "    view.add(line)\n",
    "\n",
    "# 设置坐标轴范围和标签\n",
    "view.camera.rect = (0, -800, data_c.shape[1], 800)\n",
    "view.camera.scale = (1, 0.1)\n",
    "view.camera.flip = (False, True)\n",
    "view.camera.set_range()\n",
    "\n",
    "view.camera.axis = 'left'\n",
    "view.camera.axis_label = 'Amplitude (uV)'\n",
    "view.camera.axis_direction = (1, -1)\n",
    "\n",
    "view.camera._axis._font_size = 12\n",
    "view.camera._axis._tick_label_margin = 20\n",
    "\n",
    "view.camera._axis._major_tick_in = 5\n",
    "view.camera._axis._major_tick_out = 10\n",
    "view.camera._axis._minor_tick_in = 2\n",
    "view.camera._axis._minor_tick_out = 5\n",
    "\n",
    "view.camera._axis._label_margin = 40\n",
    "view.camera._axis._tick_label_margin = 20\n",
    "view.camera._axis._visible = True\n",
    "\n",
    "# 添加标题\n",
    "title = vispy.scene.visuals.Text('32-Channel EEG Data', font_size=16, anchor_x='center', anchor_y='top', pos=[view.camera.rect[2] / 2, view.camera.rect[1] - 50])\n",
    "view.add(title)\n",
    "\n",
    "# 创建滑窗高亮动画\n",
    "window_size = 128\n",
    "start_pos = 0\n",
    "end_pos = start_pos + window_size - 1\n",
    "\n",
    "def update(event):\n",
    "    global start_pos, end_pos\n",
    "    lines_pos = []\n",
    "    for i in range(32):\n",
    "        line_pos = data_c[i, start_pos:end_pos+1]\n",
    "        line_pos = np.stack([np.arange(window_size), line_pos], axis=1)\n",
    "        line_pos[:, 0] += start_pos\n",
    "        lines_pos.append(line_pos)\n",
    "    for i in range(32):\n",
    "        lines[i].set_data(pos=lines_pos[i])\n",
    "    start_pos += 1\n",
    "    end_pos += 1\n",
    "    if end_pos >= data_c.shape[1]:\n",
    "        start_pos = 0\n",
    "        end_pos = start_pos + window_size - 1\n",
    "\n",
    "timer = vispy.app.Timer(connect=update, interval=0.01)\n",
    "timer.start()\n",
    "\n",
    "if __name__ == '__main__':\n",
    "    vispy.app.run()\n"
   ],
   "metadata": {
    "collapsed": false,
    "ExecuteTime": {
     "end_time": "2023-05-10T14:04:17.470515300Z",
     "start_time": "2023-05-10T14:04:15.433024Z"
    }
   }
  },
  {
   "cell_type": "code",
   "execution_count": null,
   "outputs": [],
   "source": [],
   "metadata": {
    "collapsed": false
   }
  },
  {
   "cell_type": "code",
   "execution_count": null,
   "outputs": [],
   "source": [],
   "metadata": {
    "collapsed": false
   }
  },
  {
   "cell_type": "code",
   "execution_count": null,
   "outputs": [],
   "source": [],
   "metadata": {
    "collapsed": false
   }
  },
  {
   "cell_type": "code",
   "execution_count": null,
   "outputs": [],
   "source": [],
   "metadata": {
    "collapsed": false
   }
  }
 ],
 "metadata": {
  "kernelspec": {
   "display_name": "Python 3",
   "language": "python",
   "name": "python3"
  },
  "language_info": {
   "codemirror_mode": {
    "name": "ipython",
    "version": 2
   },
   "file_extension": ".py",
   "mimetype": "text/x-python",
   "name": "python",
   "nbconvert_exporter": "python",
   "pygments_lexer": "ipython2",
   "version": "2.7.6"
  }
 },
 "nbformat": 4,
 "nbformat_minor": 0
}
