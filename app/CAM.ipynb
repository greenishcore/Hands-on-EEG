{
 "cells": [
  {
   "cell_type": "code",
   "execution_count": 3,
   "metadata": {
    "collapsed": true,
    "ExecuteTime": {
     "end_time": "2023-05-14T11:20:29.541779300Z",
     "start_time": "2023-05-14T11:20:27.966301700Z"
    }
   },
   "outputs": [],
   "source": [
    "import os\n",
    "import pandas as pd\n",
    "import numpy as np\n",
    "import matplotlib.pyplot as plt\n",
    "import torch\n",
    "import torch.nn as nn\n",
    "import torch.optim as optim\n",
    "from torch.utils.data import Dataset, DataLoader\n",
    "from torch.optim.lr_scheduler import StepLR"
   ]
  },
  {
   "cell_type": "code",
   "execution_count": 7,
   "outputs": [],
   "source": [
    "#read the model\n",
    "class EEGNet(nn.Module):\n",
    "    def __init__(self, num_classes=6):\n",
    "        super(EEGNet, self).__init__()\n",
    "        self.conv1 = nn.Conv2d(1, 16, kernel_size=(1, 2), stride=(1, 2))\n",
    "        self.bn1 = nn.BatchNorm2d(16, eps=1e-05, momentum=0.1, affine=True, track_running_stats=True)\n",
    "        self.pool1 = nn.MaxPool2d(kernel_size=(1, 2), stride=(1, 2))\n",
    "        self.dropout1 = nn.Dropout(p=0.25)\n",
    "        self.conv2 = nn.Conv2d(16, 32, kernel_size=(1, 2), stride=(1, 2))\n",
    "        self.bn2 = nn.BatchNorm2d(32, eps=1e-05, momentum=0.1, affine=True, track_running_stats=True)\n",
    "        self.pool2 = nn.MaxPool2d(kernel_size=(1, 2), stride=(1, 2))\n",
    "        self.dropout2 = nn.Dropout(p=0.25)\n",
    "        self.conv3 = nn.Conv2d(32, 32, kernel_size=(2, 1), stride=(2, 1))\n",
    "        self.bn3 = nn.BatchNorm2d(32, eps=1e-05, momentum=0.1, affine=True, track_running_stats=True)\n",
    "        self.pool3 = nn.MaxPool2d(kernel_size=(1, 2), stride=(1, 2))\n",
    "        self.dropout3 = nn.Dropout(p=0.25)\n",
    "        self.fc1 = nn.Linear(2048, 128)\n",
    "        self.dropout3 = nn.Dropout(p=0.5)\n",
    "        self.fc2 = nn.Linear(128, 6)\n",
    "\n",
    "\n",
    "    def forward(self, x):\n",
    "        x = torch.unsqueeze(x, 1)\n",
    "        # print('x:', x.shape)\n",
    "        x = self.conv1(x)\n",
    "        # print('conv1:', x.shape)\n",
    "        x = self.bn1(x)\n",
    "        x = torch.relu(x)\n",
    "        x = self.pool1(x)\n",
    "        # print('pool1:', x.shape)\n",
    "        x = self.dropout1(x)\n",
    "        x = self.conv2(x)\n",
    "        # print('conv2:', x.shape)\n",
    "        x = self.bn2(x)\n",
    "        x = torch.relu(x)\n",
    "        x = self.pool2(x)\n",
    "        # print('pool2:', x.shape)\n",
    "        x = self.dropout2(x)\n",
    "        x = self.conv3(x)\n",
    "        # print('conv3:',x.shape)\n",
    "        x = self.bn3(x)\n",
    "        # x = torch.relu(x)\n",
    "        x = self.pool3(x)\n",
    "        # print('pool3:',x.shape)\n",
    "        x = x.view(x.size(0), -1)\n",
    "        # print('flatten:', x.shape)\n",
    "        x = self.fc1(x)\n",
    "        # print('fc1:', x.shape)\n",
    "        x = torch.relu(x)\n",
    "        x = self.dropout3(x)\n",
    "        x = self.fc2(x)\n",
    "        # print('fc2:', x.shape)\n",
    "        return x\n",
    "model = EEGNet()"
   ],
   "metadata": {
    "collapsed": false,
    "ExecuteTime": {
     "end_time": "2023-05-14T12:21:42.980131400Z",
     "start_time": "2023-05-14T12:21:42.878567400Z"
    }
   }
  },
  {
   "cell_type": "code",
   "execution_count": 8,
   "outputs": [
    {
     "name": "stdout",
     "output_type": "stream",
     "text": [
      "滑窗后信号形状： (32, 128, 155)\n"
     ]
    }
   ],
   "source": [
    "import numpy as np\n",
    "\n",
    "def sliding_window(signal, window_size, step_size):\n",
    "    n_channels, n_samples = signal.shape\n",
    "    n_windows = int((n_samples - window_size) / step_size) + 1\n",
    "    windows = np.zeros((n_channels, window_size, n_windows))\n",
    "    for i in range(n_windows):\n",
    "        windows[:, :,i ] = signal.iloc[:, i*step_size:i*step_size+window_size]\n",
    "    return windows\n",
    "\n",
    "signal = pd.read_csv(\"C:\\\\Users\\\\a1882\\Desktop\\EEG\\eegdata\\\\raw\\lefthand_zyy_05_epocflex_2023.03.22t16.50.54+08.00.md.bp.csv\")\n",
    "signal = pd.DataFrame(signal)\n",
    "# 定义滑窗大小和滑动步长\n",
    "window_size = 128\n",
    "step_size = 100\n",
    "\n",
    "# 对信号进行滑窗处理\n",
    "windows = sliding_window(signal, window_size, step_size)\n",
    "\n",
    "# 输出滑窗后的信号形状\n",
    "print(\"滑窗后信号形状：\", windows.shape)\n",
    "#print(windows)"
   ],
   "metadata": {
    "collapsed": false,
    "ExecuteTime": {
     "end_time": "2023-05-14T12:21:48.397883300Z",
     "start_time": "2023-05-14T12:21:44.177797300Z"
    }
   }
  },
  {
   "cell_type": "code",
   "execution_count": 9,
   "outputs": [
    {
     "name": "stdout",
     "output_type": "stream",
     "text": [
      "rest\n",
      "rest\n",
      "rest\n",
      "lefthand\n",
      "lefthand\n",
      "lefthand\n",
      "rest\n",
      "lefthand\n",
      "lefthand\n",
      "lefthand\n",
      "lefthand\n",
      "lefthand\n",
      "lefthand\n",
      "lefthand\n",
      "rest\n",
      "lefthand\n",
      "lefthand\n",
      "rest\n",
      "lefthand\n",
      "lefthand\n",
      "lefthand\n",
      "lefthand\n",
      "lefthand\n",
      "lefthand\n",
      "lefthand\n",
      "lefthand\n",
      "lefthand\n",
      "lefthand\n",
      "lefthand\n",
      "lefthand\n",
      "lefthand\n",
      "lefthand\n",
      "lefthand\n",
      "lefthand\n",
      "lefthand\n",
      "lefthand\n",
      "lefthand\n",
      "lefthand\n",
      "lefthand\n",
      "lefthand\n",
      "lefthand\n",
      "lefthand\n",
      "lefthand\n",
      "lefthand\n",
      "lefthand\n",
      "lefthand\n",
      "lefthand\n",
      "lefthand\n",
      "lefthand\n",
      "lefthand\n",
      "lefthand\n",
      "lefthand\n",
      "lefthand\n",
      "lefthand\n",
      "lefthand\n",
      "lefthand\n",
      "lefthand\n",
      "lefthand\n",
      "lefthand\n",
      "lefthand\n",
      "lefthand\n",
      "lefthand\n",
      "lefthand\n",
      "lefthand\n",
      "lefthand\n",
      "lefthand\n",
      "lefthand\n",
      "lefthand\n",
      "lefthand\n",
      "lefthand\n",
      "lefthand\n",
      "lefthand\n",
      "lefthand\n",
      "lefthand\n",
      "lefthand\n",
      "lefthand\n",
      "lefthand\n",
      "rest\n",
      "lefthand\n",
      "rest\n",
      "lefthand\n",
      "lefthand\n",
      "rest\n",
      "rest\n",
      "lefthand\n",
      "lefthand\n",
      "lefthand\n",
      "lefthand\n",
      "lefthand\n",
      "lefthand\n",
      "lefthand\n",
      "lefthand\n",
      "lefthand\n",
      "lefthand\n",
      "lefthand\n",
      "lefthand\n",
      "lefthand\n",
      "lefthand\n",
      "lefthand\n",
      "lefthand\n",
      "lefthand\n",
      "lefthand\n",
      "lefthand\n",
      "lefthand\n",
      "lefthand\n",
      "lefthand\n",
      "lefthand\n",
      "lefthand\n",
      "lefthand\n",
      "lefthand\n",
      "lefthand\n",
      "lefthand\n",
      "lefthand\n",
      "lefthand\n",
      "rest\n",
      "lefthand\n",
      "lefthand\n",
      "rest\n",
      "lefthand\n",
      "lefthand\n",
      "lefthand\n",
      "lefthand\n",
      "lefthand\n",
      "lefthand\n",
      "lefthand\n",
      "lefthand\n",
      "lefthand\n",
      "lefthand\n",
      "rest\n",
      "rest\n",
      "lefthand\n",
      "rest\n",
      "rest\n",
      "lefthand\n",
      "lefthand\n",
      "lefthand\n",
      "lefthand\n",
      "lefthand\n",
      "lefthand\n",
      "lefthand\n",
      "lefthand\n",
      "lefthand\n",
      "lefthand\n",
      "rest\n",
      "lefthand\n",
      "lefthand\n",
      "lefthand\n",
      "lefthand\n",
      "lefthand\n",
      "lefthand\n",
      "lefthand\n",
      "lefthand\n",
      "lefthand\n",
      "lefthand\n",
      "rest\n"
     ]
    }
   ],
   "source": [
    "save_path = 'C:\\\\Users\\\\a1882\\Desktop\\EEG\\\\normal\\model\\cnn_conv3_128_100e_97.pt'\n",
    "model = EEGNet()\n",
    "model.load_state_dict(torch.load(save_path, map_location=torch.device('cpu')))\n",
    "model.eval()\n",
    "for i in range(windows.shape[2]):\n",
    "    signal = pd.DataFrame(windows[:,:,i])\n",
    "    input = torch.from_numpy(signal.values)\n",
    "    input = input.unsqueeze(0)\n",
    "    output = model(input.float())\n",
    "\n",
    "    # # print(output)\n",
    "    # probabilities = torch.nn.functional.softmax(output, dim=1)\n",
    "    # print(probabilities)\n",
    "\n",
    "    _, pred = torch.max(output, dim=1)  # 找到预测分数最大的类别，得到预测类别\n",
    "    label_map = {0: 'lefthand', 1:'read' ,  2:'rest', 3: 'walkbase', 4: 'walkl' ,5: 'walkfocus'}\n",
    "    print(label_map[pred.item()])"
   ],
   "metadata": {
    "collapsed": false,
    "ExecuteTime": {
     "end_time": "2023-05-14T12:21:54.307308700Z",
     "start_time": "2023-05-14T12:21:52.692427400Z"
    }
   }
  },
  {
   "cell_type": "code",
   "execution_count": 13,
   "outputs": [],
   "source": [
    "import torch\n",
    "from matplotlib import pyplot as plt\n",
    "\n",
    "def normalize_tensor(tensor):\n",
    "    # Normalize the tensor along the channel dimension\n",
    "    mean = tensor.mean(dim=(1,2), keepdim=True)\n",
    "    std = tensor.std(dim=(1,2), keepdim=True)\n",
    "    normalized_tensor = (tensor - mean) / std\n",
    "    return normalized_tensor\n",
    "\n",
    "def show_normalized_tensor(tensor):\n",
    "    # Normalize the tensor and convert it to a numpy array\n",
    "    normalized_tensor = normalize_tensor(tensor)\n",
    "    normalized_array = normalized_tensor.squeeze().numpy()\n",
    "\n",
    "    # Display the normalized tensor using Matplotlib\n",
    "    plt.imshow(normalized_array, cmap='seismic',aspect='auto')\n",
    "    plt.axis('off')\n",
    "    plt.savefig('for_cam.png')\n",
    "    plt.show()"
   ],
   "metadata": {
    "collapsed": false,
    "ExecuteTime": {
     "end_time": "2023-05-14T12:25:54.708014300Z",
     "start_time": "2023-05-14T12:25:54.670484900Z"
    }
   }
  },
  {
   "cell_type": "code",
   "execution_count": 14,
   "outputs": [
    {
     "name": "stdout",
     "output_type": "stream",
     "text": [
      "torch.Size([1, 32, 128])\n"
     ]
    }
   ],
   "source": [
    "data = pd.read_csv(\"C:\\\\Users\\\\a1882\\\\Desktop\\\\EEG\\\\normal\\\\data\\\\128_s100\\\\lefthand_zyy_04_epocflex_2023_window_2.csv\", header=None)\n",
    "data = data.values\n",
    "data = torch.from_numpy(data)\n",
    "data = data.unsqueeze(0)\n",
    "print(data.shape)"
   ],
   "metadata": {
    "collapsed": false,
    "ExecuteTime": {
     "end_time": "2023-05-14T12:25:56.370215Z",
     "start_time": "2023-05-14T12:25:56.259656700Z"
    }
   }
  },
  {
   "cell_type": "code",
   "execution_count": 15,
   "outputs": [
    {
     "data": {
      "text/plain": "<Figure size 640x480 with 1 Axes>",
      "image/png": "[encoded data removed]"
     },
     "metadata": {},
     "output_type": "display_data"
    }
   ],
   "source": [
    "model = EEGNet()\n",
    "input_tensor = data # example batch of input images\n",
    "show_normalized_tensor(input_tensor)\n"
   ],
   "metadata": {
    "collapsed": false,
    "ExecuteTime": {
     "end_time": "2023-05-14T12:25:59.232306800Z",
     "start_time": "2023-05-14T12:25:57.925777500Z"
    }
   }
  },
  {
   "cell_type": "code",
   "execution_count": 20,
   "outputs": [],
   "source": [
    "# import numpy as np\n",
    "# import torch\n",
    "# import cv2\n",
    "# import matplotlib.pyplot as plt\n",
    "# import torchvision.models as models\n",
    "# from torchvision.transforms import Compose, Normalize, ToTensor\n",
    "#\n",
    "# class GradCAM():\n",
    "#     '''\n",
    "#     Grad-cam: Visual explanations from deep networks via gradient-based localization\n",
    "#     Selvaraju R R, Cogswell M, Das A, et al.\n",
    "#     https://openaccess.thecvf.com/content_iccv_2017/html/Selvaraju_Grad-CAM_Visual_Explanations_ICCV_2017_paper.html\n",
    "#     '''\n",
    "#     def __init__(self, model, target_layers, use_cuda=False):\n",
    "#         super(GradCAM).__init__()\n",
    "#         self.use_cuda = use_cuda\n",
    "#         self.model = model\n",
    "#         self.target_layers = target_layers\n",
    "#\n",
    "#         self.target_layers.register_forward_hook(self.forward_hook)\n",
    "#         self.target_layers.register_full_backward_hook(self.backward_hook)\n",
    "#\n",
    "#         self.activations = []\n",
    "#         self.grads = []\n",
    "#\n",
    "#     def forward_hook(self, module, input, output):\n",
    "#         self.activations.append(output[0])\n",
    "#\n",
    "#     def backward_hook(self, module, grad_input, grad_output):\n",
    "#         self.grads.append(grad_output[0].detach())\n",
    "#\n",
    "#     def calculate_cam(self, model_input):\n",
    "#         if self.use_cuda:\n",
    "#             device = torch.device('cuda')\n",
    "#             self.model.to(device)                 # Module.to() is in-place method\n",
    "#             model_input = model_input.to(device)  # Tensor.to() is not a in-place method\n",
    "#         self.model.eval()\n",
    "#\n",
    "#         # forward\n",
    "#         y_hat = self.model(model_input)\n",
    "#         max_class = np.argmax(y_hat.cpu().data.numpy(), axis=1)\n",
    "#\n",
    "#         # backward\n",
    "#         model.zero_grad()\n",
    "#         y_c = y_hat[0, max_class]\n",
    "#         y_c.backward()\n",
    "#\n",
    "#         # get activations and gradients\n",
    "#         activations = self.activations[0].cpu().data.numpy().squeeze()\n",
    "#         grads = self.grads[0].cpu().data.numpy().squeeze()\n",
    "#\n",
    "#         # calculate weights\n",
    "#         weights = np.mean(grads.reshape(grads.shape[0], -1), axis=1)\n",
    "#         weights = weights.reshape(-1, 1, 1)\n",
    "#         cam = (weights * activations).sum(axis=0)\n",
    "#         cam = np.maximum(cam, 0) # ReLU\n",
    "#         cam = cam / cam.max()\n",
    "#         return cam\n",
    "#\n",
    "#     @staticmethod\n",
    "#     def show_cam_on_image(image, cam):\n",
    "#         # image: [H,W,C]\n",
    "#         h, w = image.shape[:2]\n",
    "#\n",
    "#         cam = cv2.resize(cam, (h,w))\n",
    "#         cam = cam / cam.max()\n",
    "#         heatmap = cv2.applyColorMap((255*cam).astype(np.uint8), cv2.COLORMAP_JET) # [H,W,C]\n",
    "#         heatmap = cv2.cvtColor(heatmap, cv2.COLOR_BGR2RGB)\n",
    "#\n",
    "#         image = image / image.max()\n",
    "#         heatmap = heatmap / heatmap.max()\n",
    "#\n",
    "#         result = 0.4*heatmap + 0.6*image\n",
    "#         result = result / result.max()\n",
    "#\n",
    "#         plt.figure()\n",
    "#         plt.imshow((result*255).astype(np.uint8))\n",
    "#         plt.colorbar(shrink=0.8)\n",
    "#         plt.tight_layout()\n",
    "#         plt.show()\n",
    "#\n",
    "#     @staticmethod\n",
    "#     def preprocess_image(img, mean=[0.5, 0.5, 0.5], std=[0.5, 0.5, 0.5]):\n",
    "#         preprocessing = Compose([\n",
    "#         \tToTensor(),\n",
    "#         \tNormalize(mean=mean, std=std)\n",
    "#             ])\n",
    "#         return preprocessing(img.copy()).unsqueeze(0)\n",
    "#\n",
    "#\n",
    "# if __name__ == '__main__':\n",
    "#     image = cv2.imread('both.png') # (224,224,3)\n",
    "#     input_tensor = GradCAM.preprocess_image(image)\n",
    "#     # model = models.resnet18(pretrained=True)\n",
    "#     model = EEGNet()\n",
    "#     grad_cam = GradCAM(model, model.layer4[-1], 224)\n",
    "#     cam = grad_cam.calculate_cam(input_tensor)\n",
    "#     GradCAM.show_cam_on_image(image, cam)\n"
   ],
   "metadata": {
    "collapsed": false,
    "ExecuteTime": {
     "end_time": "2023-05-14T15:26:46.893460100Z",
     "start_time": "2023-05-14T15:26:46.842935300Z"
    }
   }
  },
  {
   "cell_type": "code",
   "execution_count": 21,
   "outputs": [],
   "source": [
    "class EEGNet(nn.Module):\n",
    "    def __init__(self, num_classes=6):\n",
    "        super(EEGNet, self).__init__()\n",
    "        self.conv1 = nn.Conv2d(1, 16, kernel_size=(1, 2), stride=(1, 2))\n",
    "        self.bn1 = nn.BatchNorm2d(16, eps=1e-05, momentum=0.1, affine=True, track_running_stats=True)\n",
    "        self.pool1 = nn.MaxPool2d(kernel_size=(1, 2), stride=(1, 2))\n",
    "        self.dropout1 = nn.Dropout(p=0.25)\n",
    "        self.conv2 = nn.Conv2d(16, 32, kernel_size=(1, 2), stride=(1, 2))\n",
    "        self.bn2 = nn.BatchNorm2d(32, eps=1e-05, momentum=0.1, affine=True, track_running_stats=True)\n",
    "        self.pool2 = nn.MaxPool2d(kernel_size=(1, 2), stride=(1, 2))\n",
    "        self.dropout2 = nn.Dropout(p=0.25)\n",
    "        self.conv3 = nn.Conv2d(32, 32, kernel_size=(2, 1), stride=(2, 1))\n",
    "        self.bn3 = nn.BatchNorm2d(32, eps=1e-05, momentum=0.1, affine=True, track_running_stats=True)\n",
    "        self.pool3 = nn.MaxPool2d(kernel_size=(1, 2), stride=(1, 2))\n",
    "        self.dropout3 = nn.Dropout(p=0.25)\n",
    "        self.fc1 = nn.Linear(2048, 128)\n",
    "        self.dropout4 = nn.Dropout(p=0.5)\n",
    "        self.fc2 = nn.Linear(128, num_classes)\n",
    "\n",
    "\n",
    "    def forward(self, x):\n",
    "        x = torch.unsqueeze(x, 1)\n",
    "        x = self.conv1(x)\n",
    "        x = self.bn1(x)\n",
    "        x = torch.relu(x)\n",
    "        x = self.pool1(x)\n",
    "        x = self.dropout1(x)\n",
    "        x = self.conv2(x)\n",
    "        x = self.bn2(x)\n",
    "        x = torch.relu(x)\n",
    "        x = self.pool2(x)\n",
    "        x = self.dropout2(x)\n",
    "        x = self.conv3(x)\n",
    "        x = self.bn3(x)\n",
    "        x = torch.relu(x)\n",
    "        x = self.pool3(x)\n",
    "        features = x.clone()\n",
    "        x = x.view(x.size(0), -1)\n",
    "        x = self.fc1(x)\n",
    "        x = torch.relu(x)\n",
    "        x = self.dropout4(x)\n",
    "        output = self.fc2(x)\n",
    "        return output, features\n"
   ],
   "metadata": {
    "collapsed": false,
    "ExecuteTime": {
     "end_time": "2023-05-14T15:27:03.317128Z",
     "start_time": "2023-05-14T15:27:03.245274500Z"
    }
   }
  },
  {
   "cell_type": "code",
   "execution_count": 24,
   "outputs": [],
   "source": [],
   "metadata": {
    "collapsed": false,
    "ExecuteTime": {
     "end_time": "2023-05-15T01:22:37.035024400Z",
     "start_time": "2023-05-15T01:22:37.033028Z"
    }
   }
  },
  {
   "cell_type": "code",
   "execution_count": 25,
   "outputs": [
    {
     "ename": "TypeError",
     "evalue": "unsqueeze(): argument 'input' (position 1) must be Tensor, not str",
     "output_type": "error",
     "traceback": [
      "\u001B[1;31m---------------------------------------------------------------------------\u001B[0m",
      "\u001B[1;31mTypeError\u001B[0m                                 Traceback (most recent call last)",
      "Cell \u001B[1;32mIn[25], line 3\u001B[0m\n\u001B[0;32m      1\u001B[0m model \u001B[38;5;241m=\u001B[39m EEGNet()\n\u001B[0;32m      2\u001B[0m model\u001B[38;5;241m.\u001B[39mload_state_dict(torch\u001B[38;5;241m.\u001B[39mload(\u001B[38;5;124m\"\u001B[39m\u001B[38;5;124mC:\u001B[39m\u001B[38;5;130;01m\\\\\u001B[39;00m\u001B[38;5;124mUsers\u001B[39m\u001B[38;5;130;01m\\\\\u001B[39;00m\u001B[38;5;124ma1882\u001B[39m\u001B[38;5;124m\\\u001B[39m\u001B[38;5;124mDesktop\u001B[39m\u001B[38;5;124m\\\u001B[39m\u001B[38;5;124mEEG\u001B[39m\u001B[38;5;130;01m\\\\\u001B[39;00m\u001B[38;5;124mnormal\u001B[39m\u001B[38;5;124m\\\u001B[39m\u001B[38;5;124mmodel\u001B[39m\u001B[38;5;124m\\\u001B[39m\u001B[38;5;124mcnn_conv3_128_100e_97.pt\u001B[39m\u001B[38;5;124m\"\u001B[39m))\n\u001B[1;32m----> 3\u001B[0m cam_generator \u001B[38;5;241m=\u001B[39m \u001B[43mgenerate_cam\u001B[49m\u001B[43m(\u001B[49m\u001B[43mmodel\u001B[49m\u001B[43m,\u001B[49m\u001B[43m \u001B[49m\u001B[38;5;124;43m\"\u001B[39;49m\u001B[38;5;124;43mconv3\u001B[39;49m\u001B[38;5;124;43m\"\u001B[39;49m\u001B[43m)\u001B[49m\n\u001B[0;32m      4\u001B[0m data \u001B[38;5;241m=\u001B[39m pd\u001B[38;5;241m.\u001B[39mread_csv(\u001B[38;5;124m\"\u001B[39m\u001B[38;5;124mC:\u001B[39m\u001B[38;5;130;01m\\\\\u001B[39;00m\u001B[38;5;124mUsers\u001B[39m\u001B[38;5;130;01m\\\\\u001B[39;00m\u001B[38;5;124ma1882\u001B[39m\u001B[38;5;130;01m\\\\\u001B[39;00m\u001B[38;5;124mDesktop\u001B[39m\u001B[38;5;130;01m\\\\\u001B[39;00m\u001B[38;5;124mEEG\u001B[39m\u001B[38;5;130;01m\\\\\u001B[39;00m\u001B[38;5;124mnormal\u001B[39m\u001B[38;5;130;01m\\\\\u001B[39;00m\u001B[38;5;124mdata\u001B[39m\u001B[38;5;130;01m\\\\\u001B[39;00m\u001B[38;5;124m128_s100\u001B[39m\u001B[38;5;130;01m\\\\\u001B[39;00m\u001B[38;5;124mlefthand_zyy_04_epocflex_2023_window_2.csv\u001B[39m\u001B[38;5;124m\"\u001B[39m, header\u001B[38;5;241m=\u001B[39m\u001B[38;5;28;01mNone\u001B[39;00m)\n\u001B[0;32m      5\u001B[0m data \u001B[38;5;241m=\u001B[39m data\u001B[38;5;241m.\u001B[39mvalues\n",
      "Cell \u001B[1;32mIn[23], line 6\u001B[0m, in \u001B[0;36mgenerate_cam\u001B[1;34m(model, x)\u001B[0m\n\u001B[0;32m      4\u001B[0m \u001B[38;5;28;01mdef\u001B[39;00m \u001B[38;5;21mgenerate_cam\u001B[39m(model, x):\n\u001B[0;32m      5\u001B[0m     \u001B[38;5;66;03m# Get the output of the last convolutional layer\u001B[39;00m\n\u001B[1;32m----> 6\u001B[0m     features \u001B[38;5;241m=\u001B[39m model\u001B[38;5;241m.\u001B[39mconv3(model\u001B[38;5;241m.\u001B[39mdropout2(model\u001B[38;5;241m.\u001B[39mpool2(model\u001B[38;5;241m.\u001B[39mbn2(F\u001B[38;5;241m.\u001B[39mrelu(model\u001B[38;5;241m.\u001B[39mconv2(model\u001B[38;5;241m.\u001B[39mdropout1(model\u001B[38;5;241m.\u001B[39mpool1(model\u001B[38;5;241m.\u001B[39mbn1(F\u001B[38;5;241m.\u001B[39mrelu(model\u001B[38;5;241m.\u001B[39mconv1(\u001B[43mtorch\u001B[49m\u001B[38;5;241;43m.\u001B[39;49m\u001B[43munsqueeze\u001B[49m\u001B[43m(\u001B[49m\u001B[43mx\u001B[49m\u001B[43m,\u001B[49m\u001B[43m \u001B[49m\u001B[38;5;241;43m1\u001B[39;49m\u001B[43m)\u001B[49m)))))))))))\n\u001B[0;32m      8\u001B[0m     \u001B[38;5;66;03m# Get the output of the fully connected layer\u001B[39;00m\n\u001B[0;32m      9\u001B[0m     fc_out \u001B[38;5;241m=\u001B[39m model\u001B[38;5;241m.\u001B[39mfc2(model\u001B[38;5;241m.\u001B[39mdropout3(F\u001B[38;5;241m.\u001B[39mrelu(model\u001B[38;5;241m.\u001B[39mfc1(features\u001B[38;5;241m.\u001B[39mview(features\u001B[38;5;241m.\u001B[39msize(\u001B[38;5;241m0\u001B[39m), \u001B[38;5;241m-\u001B[39m\u001B[38;5;241m1\u001B[39m)))))\n",
      "\u001B[1;31mTypeError\u001B[0m: unsqueeze(): argument 'input' (position 1) must be Tensor, not str"
     ]
    }
   ],
   "source": [
    "model = EEGNet()\n",
    "model.load_state_dict(torch.load(\"C:\\\\Users\\\\a1882\\Desktop\\EEG\\\\normal\\model\\cnn_conv3_128_100e_97.pt\"))\n",
    "cam_generator = generate_cam(model, \"conv3\")\n",
    "data = pd.read_csv(\"C:\\\\Users\\\\a1882\\\\Desktop\\\\EEG\\\\normal\\\\data\\\\128_s100\\\\lefthand_zyy_04_epocflex_2023_window_2.csv\", header=None)\n",
    "data = data.values\n",
    "data = torch.from_numpy(data)\n",
    "data = data.unsqueeze(0)\n",
    "input_sample = data\n",
    "target_class = 0\n",
    "cam = cam_generator.generate_cam(input_sample, target_class)"
   ],
   "metadata": {
    "collapsed": false,
    "ExecuteTime": {
     "end_time": "2023-05-15T01:22:39.716378300Z",
     "start_time": "2023-05-15T01:22:39.523215700Z"
    }
   }
  },
  {
   "cell_type": "code",
   "execution_count": null,
   "outputs": [],
   "source": [],
   "metadata": {
    "collapsed": false
   }
  }
 ],
 "metadata": {
  "kernelspec": {
   "display_name": "Python 3",
   "language": "python",
   "name": "python3"
  },
  "language_info": {
   "codemirror_mode": {
    "name": "ipython",
    "version": 2
   },
   "file_extension": ".py",
   "mimetype": "text/x-python",
   "name": "python",
   "nbconvert_exporter": "python",
   "pygments_lexer": "ipython2",
   "version": "2.7.6"
  }
 },
 "nbformat": 4,
 "nbformat_minor": 0
}
