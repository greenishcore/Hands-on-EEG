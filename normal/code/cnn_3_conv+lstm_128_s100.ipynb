{
 "cells": [
  {
   "cell_type": "code",
   "execution_count": 51,
   "metadata": {
    "collapsed": true,
    "ExecuteTime": {
     "end_time": "2023-05-13T14:07:10.591779800Z",
     "start_time": "2023-05-13T14:07:10.492232600Z"
    }
   },
   "outputs": [],
   "source": [
    "import os\n",
    "import pandas as pd\n",
    "import numpy as np\n",
    "import matplotlib.pyplot as plt\n",
    "\n",
    "import torch\n",
    "import torch.nn as nn\n",
    "from torch.utils.data import Dataset, DataLoader\n",
    "from torch.utils.data.sampler import SubsetRandomSampler\n",
    "from torch.utils.data import random_split\n",
    "from torch.optim.lr_scheduler import StepLR"
   ]
  },
  {
   "cell_type": "code",
   "execution_count": 52,
   "outputs": [],
   "source": [
    "origin_raw_data_dir = 'C:\\\\Users\\\\a1882\\\\Desktop\\\\EEG\\\\normal\\\\data\\\\1000_s100'\n",
    "model_save ='C:\\\\Users\\\\a1882\\\\Desktop\\\\EEG\\\\normal\\\\model'\n",
    "pic_dir = 'C:\\\\Users\\\\a1882\\\\Desktop\\\\EEG\\\\normal\\\\pic'"
   ],
   "metadata": {
    "collapsed": false,
    "ExecuteTime": {
     "end_time": "2023-05-13T14:07:10.691330600Z",
     "start_time": "2023-05-13T14:07:10.501233900Z"
    }
   }
  },
  {
   "cell_type": "code",
   "execution_count": 53,
   "outputs": [],
   "source": [
    "class EEG_Dataset(Dataset):\n",
    "    def __init__(self, data_dir):\n",
    "        self.data_dir = origin_raw_data_dir\n",
    "        self.file_list = os.listdir(self.data_dir)\n",
    "\n",
    "    def __len__(self):\n",
    "        return len(self.file_list)\n",
    "\n",
    "    def __getitem__(self, idx):\n",
    "        file_name = self.file_list[idx]\n",
    "        file_path = os.path.join(self.data_dir, file_name)\n",
    "        data = pd.read_csv(file_path, header=None)\n",
    "        data = data.values\n",
    "        data = torch.from_numpy(data)\n",
    "        label_map = {'lefthand': 0, 'read': 1, 'rest': 2, 'walkbase': 3, 'walkl': 4 ,'walkfocus': 5}\n",
    "        data_label = label_map[file_name.split('_')[0]]\n",
    "        return data, data_label"
   ],
   "metadata": {
    "collapsed": false,
    "ExecuteTime": {
     "end_time": "2023-05-13T14:07:10.691330600Z",
     "start_time": "2023-05-13T14:07:10.541233Z"
    }
   }
  },
  {
   "cell_type": "code",
   "execution_count": 54,
   "outputs": [],
   "source": [
    "dataset = EEG_Dataset(origin_raw_data_dir)\n",
    "\n",
    "train_size = int(0.8 * len(dataset))\n",
    "test_size = len(dataset) - train_size\n",
    "\n",
    "train_dataset, test_dataset = torch.utils.data.random_split(dataset, [train_size, test_size])\n",
    "\n",
    "train_loader = torch.utils.data.DataLoader(train_dataset, batch_size=1, shuffle=True)\n",
    "test_loader = torch.utils.data.DataLoader(test_dataset, batch_size=1, shuffle=False)"
   ],
   "metadata": {
    "collapsed": false,
    "ExecuteTime": {
     "end_time": "2023-05-13T14:07:10.692332400Z",
     "start_time": "2023-05-13T14:07:10.566252200Z"
    }
   }
  },
  {
   "cell_type": "code",
   "execution_count": 55,
   "outputs": [],
   "source": [
    "class EEGNet(nn.Module):\n",
    "    def __init__(self, input_size=15872, hidden_size=128, num_layers=3, num_classes=6):\n",
    "        super(EEGNet, self).__init__()\n",
    "        self.conv1 = nn.Conv2d(1, 16, kernel_size=(1, 2), stride=(1, 2))\n",
    "        self.bn1 = nn.BatchNorm2d(16, eps=1e-05, momentum=0.1, affine=True, track_running_stats=True)\n",
    "        self.pool1 = nn.MaxPool2d(kernel_size=(1, 2), stride=(1, 2))\n",
    "        self.dropout1 = nn.Dropout(p=0.25)\n",
    "        self.conv2 = nn.Conv2d(16, 32, kernel_size=(1, 2), stride=(1, 2))\n",
    "        self.bn2 = nn.BatchNorm2d(32, eps=1e-05, momentum=0.1, affine=True, track_running_stats=True)\n",
    "        self.pool2 = nn.MaxPool2d(kernel_size=(1, 2), stride=(1, 2))\n",
    "        self.dropout2 = nn.Dropout(p=0.25)\n",
    "        self.conv3 = nn.Conv2d(32, 32, kernel_size=(2, 1), stride=(2, 1))\n",
    "        self.bn3 = nn.BatchNorm2d(32, eps=1e-05, momentum=0.1, affine=True, track_running_stats=True)\n",
    "        self.pool3 = nn.MaxPool2d(kernel_size=(1, 2), stride=(1, 2))\n",
    "        self.dropout3 = nn.Dropout(p=0.25)\n",
    "\n",
    "        self.num_layers = num_layers\n",
    "        self.hidden_size = hidden_size\n",
    "        self.lstm = nn.LSTM(input_size, hidden_size, num_layers, batch_first=True)\n",
    "        self.fc = nn.Linear(hidden_size, num_classes)\n",
    "\n",
    "\n",
    "    def forward(self, x):\n",
    "        x = torch.unsqueeze(x, 1)\n",
    "        # print('x:', x.shape)\n",
    "        x = self.conv1(x)\n",
    "        # print('conv1:', x.shape)\n",
    "        x = self.bn1(x)\n",
    "        x = torch.relu(x)\n",
    "        x = self.pool1(x)\n",
    "        # print('pool1:', x.shape)\n",
    "        x = self.dropout1(x)\n",
    "        x = self.conv2(x)\n",
    "        # print('conv2:', x.shape)\n",
    "        x = self.bn2(x)\n",
    "        x = torch.relu(x)\n",
    "        x = self.pool2(x)\n",
    "        # print('pool2:', x.shape)\n",
    "        x = self.dropout2(x)\n",
    "        x = self.conv3(x)\n",
    "        # print('conv3:',x.shape)\n",
    "        x = self.bn3(x)\n",
    "        # x = torch.relu(x)\n",
    "        x = self.pool3(x)\n",
    "        # print('pool3:',x.shape)\n",
    "        x = x.view(x.size(0), -1)\n",
    "        # print('flatten:', x.shape)\n",
    "        x = torch.unsqueeze(x,0)\n",
    "        # x = self.fc1(x)\n",
    "        # # print('fc1:', x.shape)\n",
    "        # x = torch.relu(x)\n",
    "        # x = self.dropout3(x)\n",
    "        # x = self.fc2(x)\n",
    "        # # print('fc2:', x.shape)\n",
    "        # return x\n",
    "        h0 = torch.zeros(self.num_layers, x.size(0), self.hidden_size).to(device)\n",
    "        c0 = torch.zeros(self.num_layers, x.size(0), self.hidden_size).to(device)\n",
    "\n",
    "        # Forward propagate LSTM\n",
    "        out, _ = self.lstm(x, (h0, c0))  # out: tensor of shape (batch_size, seq_length, hidden_size)\n",
    "\n",
    "        # Decode the hidden state of the last time step\n",
    "        out = self.fc(out[:, -1, :])\n",
    "        return out"
   ],
   "metadata": {
    "collapsed": false,
    "ExecuteTime": {
     "end_time": "2023-05-13T14:07:10.693330700Z",
     "start_time": "2023-05-13T14:07:10.629783300Z"
    }
   }
  },
  {
   "cell_type": "code",
   "execution_count": 56,
   "outputs": [
    {
     "name": "stdout",
     "output_type": "stream",
     "text": [
      "torch.Size([1, 6])\n"
     ]
    }
   ],
   "source": [
    "X = torch.randn(size=( 1, 32, 1000), dtype=torch.float32)\n",
    "model = EEGNet()\n",
    "output = model(X)\n",
    "print(output.shape)"
   ],
   "metadata": {
    "collapsed": false,
    "ExecuteTime": {
     "end_time": "2023-05-13T14:07:10.861338300Z",
     "start_time": "2023-05-13T14:07:10.674792100Z"
    }
   }
  },
  {
   "cell_type": "code",
   "execution_count": 57,
   "outputs": [
    {
     "name": "stdout",
     "output_type": "stream",
     "text": [
      "Using cpu device\n"
     ]
    }
   ],
   "source": [
    "device = (\n",
    "    \"cuda\"\n",
    "    if torch.cuda.is_available()\n",
    "    else \"mps\"\n",
    "    if torch.cuda.is_available()\n",
    "    else \"cpu\"\n",
    ")\n",
    "print(f\"Using {device} device\")"
   ],
   "metadata": {
    "collapsed": false,
    "ExecuteTime": {
     "end_time": "2023-05-13T14:07:10.878899Z",
     "start_time": "2023-05-13T14:07:10.866353500Z"
    }
   }
  },
  {
   "cell_type": "code",
   "execution_count": 61,
   "outputs": [],
   "source": [
    "learning_rate = 0.001\n",
    "num_epochs = 100\n",
    "loss_fn = nn.CrossEntropyLoss()\n",
    "optimizer = torch.optim.Adam(model.parameters(), lr=learning_rate)\n",
    "scheduler = StepLR(optimizer, step_size=30, gamma=0.1)"
   ],
   "metadata": {
    "collapsed": false,
    "ExecuteTime": {
     "end_time": "2023-05-13T14:13:26.056913500Z",
     "start_time": "2023-05-13T14:13:26.021904Z"
    }
   }
  },
  {
   "cell_type": "code",
   "execution_count": 62,
   "outputs": [],
   "source": [
    "def train(dataloader, model, loss_fn, optimizer):\n",
    "    size = len(dataloader.dataset)\n",
    "    for batch, (X, y) in enumerate(dataloader):\n",
    "        X, y = X.to(device), y.to(device)\n",
    "        # Compute prediction error\n",
    "        pred = model(X.float())\n",
    "        loss = loss_fn(pred, y)\n",
    "        # Backpropagation\n",
    "        optimizer.zero_grad()\n",
    "        loss.backward()\n",
    "        optimizer.step()\n",
    "        if batch % 100 == 0:\n",
    "            loss, current = loss.item(), batch * len(X)\n",
    "            print(f\"loss: {loss:>7f}  [{current:>5d}/{size:>5d}]\")\n",
    "            global train_loss\n",
    "            train_loss.append(loss)\n",
    "\n",
    "\n",
    "\n",
    "def test(dataloader, model,loss_fn):\n",
    "    size = len(dataloader.dataset)\n",
    "    num_batches = len(dataloader)\n",
    "    model.eval()\n",
    "    test_loss, correct = 0, 0\n",
    "    with torch.no_grad():\n",
    "        for X, y in dataloader:\n",
    "            X, y = X.to(device), y.to(device)\n",
    "            pred = model(X.float())\n",
    "            test_loss += loss_fn(pred, y).item()\n",
    "            correct += (pred.argmax(1) == y).type(torch.float).sum().item()\n",
    "    test_loss /= num_batches\n",
    "    correct /= size\n",
    "    print(f\"Test Error:\\n Accuracy: {(100 * correct):>0.1f}%, Avg loss: {test_loss:>8f} \\n\")\n",
    "    global valid_loss\n",
    "    valid_loss.append(test_loss)\n",
    "    global accuracy\n",
    "    accuracy.append(correct)"
   ],
   "metadata": {
    "collapsed": false,
    "ExecuteTime": {
     "end_time": "2023-05-13T14:13:27.038360Z",
     "start_time": "2023-05-13T14:13:26.989830400Z"
    }
   }
  },
  {
   "cell_type": "code",
   "execution_count": null,
   "outputs": [
    {
     "name": "stdout",
     "output_type": "stream",
     "text": [
      "Epoch 1\n",
      "-------------------------------\n",
      "loss: 0.841960  [    0/ 3599]\n",
      "loss: 1.581458  [  100/ 3599]\n",
      "loss: 0.641094  [  200/ 3599]\n",
      "loss: 0.003382  [  300/ 3599]\n",
      "loss: 0.127003  [  400/ 3599]\n",
      "loss: 0.901924  [  500/ 3599]\n",
      "loss: 0.418817  [  600/ 3599]\n",
      "loss: 0.002750  [  700/ 3599]\n",
      "loss: 1.414965  [  800/ 3599]\n",
      "loss: 0.127687  [  900/ 3599]\n",
      "loss: 0.067743  [ 1000/ 3599]\n",
      "loss: 0.447379  [ 1100/ 3599]\n",
      "loss: 2.910530  [ 1200/ 3599]\n",
      "loss: 0.695785  [ 1300/ 3599]\n",
      "loss: 0.189585  [ 1400/ 3599]\n",
      "loss: 0.041687  [ 1500/ 3599]\n",
      "loss: 0.017835  [ 1600/ 3599]\n",
      "loss: 0.219879  [ 1700/ 3599]\n",
      "loss: 0.656993  [ 1800/ 3599]\n",
      "loss: 0.164121  [ 1900/ 3599]\n",
      "loss: 0.039537  [ 2000/ 3599]\n",
      "loss: 0.018552  [ 2100/ 3599]\n",
      "loss: 0.330358  [ 2200/ 3599]\n",
      "loss: 0.263544  [ 2300/ 3599]\n",
      "loss: 0.008632  [ 2400/ 3599]\n",
      "loss: 0.003244  [ 2500/ 3599]\n",
      "loss: 0.003768  [ 2600/ 3599]\n",
      "loss: 2.232578  [ 2700/ 3599]\n",
      "loss: 0.705909  [ 2800/ 3599]\n",
      "loss: 0.076409  [ 2900/ 3599]\n",
      "loss: 0.002288  [ 3000/ 3599]\n",
      "loss: 0.003352  [ 3100/ 3599]\n",
      "loss: 0.006707  [ 3200/ 3599]\n",
      "loss: 0.178296  [ 3300/ 3599]\n",
      "loss: 0.695599  [ 3400/ 3599]\n",
      "loss: 0.018118  [ 3500/ 3599]\n",
      "Test Error:\n",
      " Accuracy: 69.6%, Avg loss: 0.893703 \n",
      "\n",
      "Epoch 2\n",
      "-------------------------------\n",
      "loss: 0.148060  [    0/ 3599]\n",
      "loss: 0.074372  [  100/ 3599]\n",
      "loss: 0.131918  [  200/ 3599]\n",
      "loss: 0.321367  [  300/ 3599]\n",
      "loss: 0.010354  [  400/ 3599]\n",
      "loss: 0.001315  [  500/ 3599]\n",
      "loss: 0.270856  [  600/ 3599]\n",
      "loss: 1.039831  [  700/ 3599]\n",
      "loss: 0.001417  [  800/ 3599]\n",
      "loss: 0.134680  [  900/ 3599]\n",
      "loss: 0.038646  [ 1000/ 3599]\n",
      "loss: 0.020465  [ 1100/ 3599]\n",
      "loss: 0.606674  [ 1200/ 3599]\n",
      "loss: 0.280234  [ 1300/ 3599]\n",
      "loss: 0.901349  [ 1400/ 3599]\n",
      "loss: 0.025822  [ 1500/ 3599]\n",
      "loss: 0.002969  [ 1600/ 3599]\n",
      "loss: 0.024076  [ 1700/ 3599]\n",
      "loss: 0.006616  [ 1800/ 3599]\n",
      "loss: 0.174156  [ 1900/ 3599]\n",
      "loss: 0.001295  [ 2000/ 3599]\n",
      "loss: 1.490463  [ 2100/ 3599]\n",
      "loss: 0.009985  [ 2200/ 3599]\n",
      "loss: 0.021884  [ 2300/ 3599]\n",
      "loss: 0.637678  [ 2400/ 3599]\n",
      "loss: 0.034545  [ 2500/ 3599]\n",
      "loss: 0.246288  [ 2600/ 3599]\n",
      "loss: 6.149479  [ 2700/ 3599]\n",
      "loss: 0.000962  [ 2800/ 3599]\n",
      "loss: 0.000579  [ 2900/ 3599]\n",
      "loss: 0.575445  [ 3000/ 3599]\n",
      "loss: 0.159001  [ 3100/ 3599]\n",
      "loss: 0.158211  [ 3200/ 3599]\n",
      "loss: 0.124941  [ 3300/ 3599]\n",
      "loss: 0.002306  [ 3400/ 3599]\n",
      "loss: 0.027623  [ 3500/ 3599]\n",
      "Test Error:\n",
      " Accuracy: 65.2%, Avg loss: 0.943784 \n",
      "\n",
      "Epoch 3\n",
      "-------------------------------\n",
      "loss: 0.002427  [    0/ 3599]\n",
      "loss: 0.051701  [  100/ 3599]\n",
      "loss: 0.079468  [  200/ 3599]\n",
      "loss: 0.027685  [  300/ 3599]\n",
      "loss: 0.009676  [  400/ 3599]\n",
      "loss: 0.100585  [  500/ 3599]\n",
      "loss: 0.228128  [  600/ 3599]\n",
      "loss: 0.000938  [  700/ 3599]\n",
      "loss: 0.011912  [  800/ 3599]\n",
      "loss: 0.011045  [  900/ 3599]\n",
      "loss: 0.036986  [ 1000/ 3599]\n",
      "loss: 0.046676  [ 1100/ 3599]\n",
      "loss: 0.011547  [ 1200/ 3599]\n",
      "loss: 0.000392  [ 1300/ 3599]\n",
      "loss: 2.254855  [ 1400/ 3599]\n",
      "loss: 0.000237  [ 1500/ 3599]\n",
      "loss: 0.001864  [ 1600/ 3599]\n",
      "loss: 0.046167  [ 1700/ 3599]\n",
      "loss: 0.001074  [ 1800/ 3599]\n",
      "loss: 0.005168  [ 1900/ 3599]\n",
      "loss: 0.001234  [ 2000/ 3599]\n",
      "loss: 0.022317  [ 2100/ 3599]\n",
      "loss: 0.000117  [ 2200/ 3599]\n",
      "loss: 0.484807  [ 2300/ 3599]\n",
      "loss: 0.025857  [ 2400/ 3599]\n",
      "loss: 0.699428  [ 2500/ 3599]\n",
      "loss: 0.421362  [ 2600/ 3599]\n",
      "loss: 0.692186  [ 2700/ 3599]\n",
      "loss: 0.000515  [ 2800/ 3599]\n",
      "loss: 0.664854  [ 2900/ 3599]\n",
      "loss: 0.053002  [ 3000/ 3599]\n",
      "loss: 0.407109  [ 3100/ 3599]\n",
      "loss: 0.005492  [ 3200/ 3599]\n",
      "loss: 0.222714  [ 3300/ 3599]\n",
      "loss: 0.016199  [ 3400/ 3599]\n",
      "loss: 0.000077  [ 3500/ 3599]\n",
      "Test Error:\n",
      " Accuracy: 70.7%, Avg loss: 1.410279 \n",
      "\n",
      "Epoch 4\n",
      "-------------------------------\n",
      "loss: 0.000033  [    0/ 3599]\n",
      "loss: 0.000539  [  100/ 3599]\n",
      "loss: 0.000118  [  200/ 3599]\n",
      "loss: 0.002434  [  300/ 3599]\n",
      "loss: 0.044362  [  400/ 3599]\n",
      "loss: 0.245488  [  500/ 3599]\n",
      "loss: 0.730138  [  600/ 3599]\n",
      "loss: 0.077785  [  700/ 3599]\n",
      "loss: 0.000240  [  800/ 3599]\n",
      "loss: 0.000639  [  900/ 3599]\n",
      "loss: 0.001292  [ 1000/ 3599]\n",
      "loss: 0.041229  [ 1100/ 3599]\n",
      "loss: 0.000213  [ 1200/ 3599]\n",
      "loss: 0.000036  [ 1300/ 3599]\n"
     ]
    }
   ],
   "source": [
    "#torch.cuda.empty_cache()\n",
    "# model = model = EEG_LSTM(input_size=31000, hidden_size=128, num_layers=2,num_classes=train_class_number).to(device)\n",
    "#model = model.cuda()\n",
    "train_loss = []\n",
    "valid_loss = []\n",
    "accuracy = []\n",
    "for t in range(num_epochs):\n",
    "    print(f\"Epoch {t + 1}\\n-------------------------------\")\n",
    "    model.train(True)\n",
    "    train(train_loader, model, loss_fn, optimizer)\n",
    "\n",
    "    model.train(False)\n",
    "    test(test_loader, model, loss_fn)\n",
    "\n",
    "    if t > num_epochs-5:\n",
    "        torch.save(model.state_dict(), os.path.join(model_save,'cnn+lstm_1000_100e_'+str(t)+'.pt'))\n",
    "\n",
    "print(\"Done!\")"
   ],
   "metadata": {
    "collapsed": false,
    "is_executing": true,
    "ExecuteTime": {
     "start_time": "2023-05-13T14:13:28.224454400Z"
    }
   }
  },
  {
   "cell_type": "code",
   "execution_count": null,
   "outputs": [],
   "source": [
    "print(\"Done!\")\n",
    "import matplotlib.pyplot as plt\n",
    "%matplotlib inline\n",
    "hex_d1 = '#552a28'\n",
    "hex_d2 = '#005943'\n",
    "\n",
    "plt.figure()\n",
    "plt.plot(train_loss, hex_d1, label='train loss')\n",
    "plt.ylabel('train loss')\n",
    "plt.xlabel('epoch')\n",
    "plt.plot(valid_loss, hex_d2, label='valid loss')\n",
    "plt.ylabel('valid loss')\n",
    "plt.xlabel('epoch')\n",
    "plt.legend()\n",
    "\n",
    "plt.savefig(os.path.join(pic_dir, 'cnn_3_conv+lstm_128_s100_loss.png'))\n",
    "plt.show()"
   ],
   "metadata": {
    "collapsed": false,
    "is_executing": true
   }
  },
  {
   "cell_type": "code",
   "execution_count": null,
   "outputs": [],
   "source": [
    "import matplotlib.pyplot as plt\n",
    "%matplotlib inline\n",
    "\n",
    "\n",
    "plt.figure()\n",
    "plt.plot(accuracy, color = '#550300', label='accuracy')\n",
    "plt.ylabel('accuracy')\n",
    "plt.xlabel('epoch')\n",
    "plt.legend()\n",
    "plt.savefig(pic_dir,'cnn_3_conv+lstm_128_s100_accuracy.png')\n",
    "plt.show()"
   ],
   "metadata": {
    "collapsed": false
   }
  },
  {
   "cell_type": "code",
   "execution_count": null,
   "outputs": [],
   "source": [],
   "metadata": {
    "collapsed": false
   }
  }
 ],
 "metadata": {
  "kernelspec": {
   "display_name": "Python 3",
   "language": "python",
   "name": "python3"
  },
  "language_info": {
   "codemirror_mode": {
    "name": "ipython",
    "version": 2
   },
   "file_extension": ".py",
   "mimetype": "text/x-python",
   "name": "python",
   "nbconvert_exporter": "python",
   "pygments_lexer": "ipython2",
   "version": "2.7.6"
  }
 },
 "nbformat": 4,
 "nbformat_minor": 0
}
