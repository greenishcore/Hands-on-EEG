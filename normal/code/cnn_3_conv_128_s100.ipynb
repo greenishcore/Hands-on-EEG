{
 "cells": [
  {
   "cell_type": "code",
   "execution_count": 1,
   "metadata": {
    "collapsed": true,
    "ExecuteTime": {
     "end_time": "2023-05-13T13:06:51.989190800Z",
     "start_time": "2023-05-13T13:06:44.505314200Z"
    }
   },
   "outputs": [],
   "source": [
    "import os\n",
    "import pandas as pd\n",
    "import numpy as np\n",
    "import matplotlib.pyplot as plt\n",
    "\n",
    "import torch\n",
    "import torch.nn as nn\n",
    "from torch.utils.data import Dataset, DataLoader\n",
    "from torch.utils.data.sampler import SubsetRandomSampler\n",
    "from torch.utils.data import random_split\n",
    "from torch.optim.lr_scheduler import StepLR"
   ]
  },
  {
   "cell_type": "code",
   "execution_count": 2,
   "outputs": [],
   "source": [
    "origin_raw_data_dir = 'C:\\\\Users\\\\a1882\\\\Desktop\\\\EEG\\\\normal\\\\data\\\\128_s100'\n",
    "model_save ='C:\\\\Users\\\\a1882\\\\Desktop\\\\EEG\\\\normal\\\\model'\n",
    "pic_dir = 'C:\\\\Users\\\\a1882\\\\Desktop\\\\EEG\\\\normal\\\\pic'"
   ],
   "metadata": {
    "collapsed": false,
    "ExecuteTime": {
     "end_time": "2023-05-13T13:06:52.032187700Z",
     "start_time": "2023-05-13T13:06:51.992195500Z"
    }
   }
  },
  {
   "cell_type": "code",
   "execution_count": 3,
   "outputs": [],
   "source": [
    "class EEG_Dataset(Dataset):\n",
    "    def __init__(self, data_dir):\n",
    "        self.data_dir = origin_raw_data_dir\n",
    "        self.file_list = os.listdir(self.data_dir)\n",
    "\n",
    "    def __len__(self):\n",
    "        return len(self.file_list)\n",
    "\n",
    "    def __getitem__(self, idx):\n",
    "        file_name = self.file_list[idx]\n",
    "        file_path = os.path.join(self.data_dir, file_name)\n",
    "        data = pd.read_csv(file_path, header=None)\n",
    "        data = data.values\n",
    "        data = torch.from_numpy(data)\n",
    "        label_map = {'lefthand': 0, 'read': 1, 'rest': 2, 'walkbase': 3, 'walkl': 4 ,'walkfocus': 5}\n",
    "        data_label = label_map[file_name.split('_')[0]]\n",
    "        return data, data_label"
   ],
   "metadata": {
    "collapsed": false,
    "ExecuteTime": {
     "end_time": "2023-05-13T13:06:52.053204500Z",
     "start_time": "2023-05-13T13:06:52.032187700Z"
    }
   }
  },
  {
   "cell_type": "code",
   "execution_count": 4,
   "outputs": [],
   "source": [
    "dataset = EEG_Dataset(origin_raw_data_dir)\n",
    "\n",
    "train_size = int(0.8 * len(dataset))\n",
    "test_size = len(dataset) - train_size\n",
    "\n",
    "train_dataset, test_dataset = torch.utils.data.random_split(dataset, [train_size, test_size])\n",
    "\n",
    "train_loader = torch.utils.data.DataLoader(train_dataset, batch_size=1024, shuffle=True)\n",
    "test_loader = torch.utils.data.DataLoader(test_dataset, batch_size=1024, shuffle=False)"
   ],
   "metadata": {
    "collapsed": false,
    "ExecuteTime": {
     "end_time": "2023-05-13T13:06:52.149782700Z",
     "start_time": "2023-05-13T13:06:52.054720900Z"
    }
   }
  },
  {
   "cell_type": "code",
   "execution_count": 5,
   "outputs": [],
   "source": [
    "class EEGNet(nn.Module):\n",
    "    def __init__(self, num_classes=6):\n",
    "        super(EEGNet, self).__init__()\n",
    "        self.conv1 = nn.Conv2d(1, 16, kernel_size=(1, 2), stride=(1, 2))\n",
    "        self.bn1 = nn.BatchNorm2d(16, eps=1e-05, momentum=0.1, affine=True, track_running_stats=True)\n",
    "        self.pool1 = nn.MaxPool2d(kernel_size=(1, 2), stride=(1, 2))\n",
    "        self.dropout1 = nn.Dropout(p=0.25)\n",
    "        self.conv2 = nn.Conv2d(16, 32, kernel_size=(1, 2), stride=(1, 2))\n",
    "        self.bn2 = nn.BatchNorm2d(32, eps=1e-05, momentum=0.1, affine=True, track_running_stats=True)\n",
    "        self.pool2 = nn.MaxPool2d(kernel_size=(1, 2), stride=(1, 2))\n",
    "        self.dropout2 = nn.Dropout(p=0.25)\n",
    "        self.conv3 = nn.Conv2d(32, 32, kernel_size=(2, 1), stride=(2, 1))\n",
    "        self.bn3 = nn.BatchNorm2d(32, eps=1e-05, momentum=0.1, affine=True, track_running_stats=True)\n",
    "        self.pool3 = nn.MaxPool2d(kernel_size=(1, 2), stride=(1, 2))\n",
    "        self.dropout3 = nn.Dropout(p=0.25)\n",
    "        self.fc1 = nn.Linear(2048, 128)\n",
    "        self.dropout3 = nn.Dropout(p=0.5)\n",
    "        self.fc2 = nn.Linear(128, 6)\n",
    "\n",
    "\n",
    "    def forward(self, x):\n",
    "        x = torch.unsqueeze(x, 1)\n",
    "        # print('x:', x.shape)\n",
    "        x = self.conv1(x)\n",
    "        # print('conv1:', x.shape)\n",
    "        x = self.bn1(x)\n",
    "        x = torch.relu(x)\n",
    "        x = self.pool1(x)\n",
    "        # print('pool1:', x.shape)\n",
    "        x = self.dropout1(x)\n",
    "        x = self.conv2(x)\n",
    "        # print('conv2:', x.shape)\n",
    "        x = self.bn2(x)\n",
    "        x = torch.relu(x)\n",
    "        x = self.pool2(x)\n",
    "        # print('pool2:', x.shape)\n",
    "        x = self.dropout2(x)\n",
    "        x = self.conv3(x)\n",
    "        # print('conv3:',x.shape)\n",
    "        x = self.bn3(x)\n",
    "        # x = torch.relu(x)\n",
    "        x = self.pool3(x)\n",
    "        # print('pool3:',x.shape)\n",
    "        x = x.view(x.size(0), -1)\n",
    "        # print('flatten:', x.shape)\n",
    "        x = self.fc1(x)\n",
    "        # print('fc1:', x.shape)\n",
    "        x = torch.relu(x)\n",
    "        x = self.dropout3(x)\n",
    "        x = self.fc2(x)\n",
    "        # print('fc2:', x.shape)\n",
    "        return x"
   ],
   "metadata": {
    "collapsed": false,
    "ExecuteTime": {
     "end_time": "2023-05-13T13:06:52.211347300Z",
     "start_time": "2023-05-13T13:06:52.143787300Z"
    }
   }
  },
  {
   "cell_type": "code",
   "execution_count": 6,
   "outputs": [
    {
     "name": "stdout",
     "output_type": "stream",
     "text": [
      "torch.Size([1, 6])\n"
     ]
    }
   ],
   "source": [
    "X = torch.randn(size=( 1, 32, 128), dtype=torch.float32)\n",
    "model = EEGNet()\n",
    "output = model(X)\n",
    "print(output.shape)"
   ],
   "metadata": {
    "collapsed": false,
    "ExecuteTime": {
     "end_time": "2023-05-13T13:06:52.308934900Z",
     "start_time": "2023-05-13T13:06:52.212333300Z"
    }
   }
  },
  {
   "cell_type": "code",
   "execution_count": 7,
   "outputs": [
    {
     "name": "stdout",
     "output_type": "stream",
     "text": [
      "Using cpu device\n"
     ]
    }
   ],
   "source": [
    "device = (\n",
    "    \"cuda\"\n",
    "    if torch.cuda.is_available()\n",
    "    else \"mps\"\n",
    "    if torch.cuda.is_available()\n",
    "    else \"cpu\"\n",
    ")\n",
    "print(f\"Using {device} device\")"
   ],
   "metadata": {
    "collapsed": false,
    "ExecuteTime": {
     "end_time": "2023-05-13T13:06:52.397478600Z",
     "start_time": "2023-05-13T13:06:52.313935900Z"
    }
   }
  },
  {
   "cell_type": "code",
   "execution_count": 8,
   "outputs": [],
   "source": [
    "learning_rate = 0.001\n",
    "num_epochs = 200\n",
    "loss_fn = nn.CrossEntropyLoss()\n",
    "optimizer = torch.optim.Adam(model.parameters(), lr=learning_rate)\n",
    "scheduler = StepLR(optimizer, step_size=50, gamma=0.1)"
   ],
   "metadata": {
    "collapsed": false,
    "ExecuteTime": {
     "end_time": "2023-05-13T13:06:52.398478300Z",
     "start_time": "2023-05-13T13:06:52.340952200Z"
    }
   }
  },
  {
   "cell_type": "code",
   "execution_count": 9,
   "outputs": [],
   "source": [
    "def train(dataloader, model, loss_fn, optimizer):\n",
    "    size = len(dataloader.dataset)\n",
    "    for batch, (X, y) in enumerate(dataloader):\n",
    "        X, y = X.to(device), y.to(device)\n",
    "        # Compute prediction error\n",
    "        pred = model(X.float())\n",
    "        loss = loss_fn(pred, y)\n",
    "        # Backpropagation\n",
    "        optimizer.zero_grad()\n",
    "        loss.backward()\n",
    "        optimizer.step()\n",
    "        if batch % 100 == 0:\n",
    "            loss, current = loss.item(), batch * len(X)\n",
    "            print(f\"loss: {loss:>7f}  [{current:>5d}/{size:>5d}]\")\n",
    "            global train_loss\n",
    "            train_loss.append(loss)\n",
    "\n",
    "\n",
    "\n",
    "def test(dataloader, model,loss_fn):\n",
    "    size = len(dataloader.dataset)\n",
    "    num_batches = len(dataloader)\n",
    "    model.eval()\n",
    "    test_loss, correct = 0, 0\n",
    "    with torch.no_grad():\n",
    "        for X, y in dataloader:\n",
    "            X, y = X.to(device), y.to(device)\n",
    "            pred = model(X.float())\n",
    "            test_loss += loss_fn(pred, y).item()\n",
    "            correct += (pred.argmax(1) == y).type(torch.float).sum().item()\n",
    "    test_loss /= num_batches\n",
    "    correct /= size\n",
    "    print(f\"Test Error:\\n Accuracy: {(100 * correct):>0.1f}%, Avg loss: {test_loss:>8f} \\n\")\n",
    "    global valid_loss\n",
    "    valid_loss.append(test_loss)\n",
    "    global accuracy\n",
    "    accuracy.append(correct)"
   ],
   "metadata": {
    "collapsed": false,
    "ExecuteTime": {
     "end_time": "2023-05-13T13:06:52.406479600Z",
     "start_time": "2023-05-13T13:06:52.372478Z"
    }
   }
  },
  {
   "cell_type": "code",
   "execution_count": null,
   "outputs": [
    {
     "name": "stdout",
     "output_type": "stream",
     "text": [
      "Epoch 1\n",
      "-------------------------------\n",
      "loss: 1.889292  [    0/ 3788]\n",
      "Test Error:\n",
      " Accuracy: 66.2%, Avg loss: 1.461942 \n",
      "\n",
      "Epoch 2\n",
      "-------------------------------\n",
      "loss: 1.191976  [    0/ 3788]\n",
      "Test Error:\n",
      " Accuracy: 68.7%, Avg loss: 1.206396 \n",
      "\n",
      "Epoch 3\n",
      "-------------------------------\n",
      "loss: 0.892549  [    0/ 3788]\n",
      "Test Error:\n",
      " Accuracy: 62.4%, Avg loss: 1.117930 \n",
      "\n",
      "Epoch 4\n",
      "-------------------------------\n",
      "loss: 0.771546  [    0/ 3788]\n",
      "Test Error:\n",
      " Accuracy: 60.4%, Avg loss: 1.090521 \n",
      "\n",
      "Epoch 5\n",
      "-------------------------------\n",
      "loss: 0.637415  [    0/ 3788]\n",
      "Test Error:\n",
      " Accuracy: 60.5%, Avg loss: 1.099266 \n",
      "\n",
      "Epoch 6\n",
      "-------------------------------\n",
      "loss: 0.530792  [    0/ 3788]\n",
      "Test Error:\n",
      " Accuracy: 65.5%, Avg loss: 1.012247 \n",
      "\n",
      "Epoch 7\n",
      "-------------------------------\n",
      "loss: 0.477490  [    0/ 3788]\n",
      "Test Error:\n",
      " Accuracy: 71.0%, Avg loss: 0.857264 \n",
      "\n",
      "Epoch 8\n",
      "-------------------------------\n",
      "loss: 0.379863  [    0/ 3788]\n",
      "Test Error:\n",
      " Accuracy: 76.6%, Avg loss: 0.726783 \n",
      "\n",
      "Epoch 9\n",
      "-------------------------------\n",
      "loss: 0.364645  [    0/ 3788]\n",
      "Test Error:\n",
      " Accuracy: 78.4%, Avg loss: 0.592933 \n",
      "\n",
      "Epoch 10\n",
      "-------------------------------\n",
      "loss: 0.313982  [    0/ 3788]\n",
      "Test Error:\n",
      " Accuracy: 82.9%, Avg loss: 0.471568 \n",
      "\n",
      "Epoch 11\n",
      "-------------------------------\n",
      "loss: 0.295890  [    0/ 3788]\n",
      "Test Error:\n",
      " Accuracy: 85.9%, Avg loss: 0.385792 \n",
      "\n",
      "Epoch 12\n",
      "-------------------------------\n",
      "loss: 0.266553  [    0/ 3788]\n",
      "Test Error:\n",
      " Accuracy: 86.3%, Avg loss: 0.353001 \n",
      "\n",
      "Epoch 13\n",
      "-------------------------------\n",
      "loss: 0.259697  [    0/ 3788]\n",
      "Test Error:\n",
      " Accuracy: 88.0%, Avg loss: 0.311832 \n",
      "\n",
      "Epoch 14\n",
      "-------------------------------\n",
      "loss: 0.262209  [    0/ 3788]\n",
      "Test Error:\n",
      " Accuracy: 88.7%, Avg loss: 0.293653 \n",
      "\n",
      "Epoch 15\n",
      "-------------------------------\n",
      "loss: 0.226967  [    0/ 3788]\n",
      "Test Error:\n",
      " Accuracy: 88.7%, Avg loss: 0.280218 \n",
      "\n",
      "Epoch 16\n",
      "-------------------------------\n",
      "loss: 0.229167  [    0/ 3788]\n",
      "Test Error:\n",
      " Accuracy: 89.4%, Avg loss: 0.255747 \n",
      "\n",
      "Epoch 17\n",
      "-------------------------------\n",
      "loss: 0.219679  [    0/ 3788]\n",
      "Test Error:\n",
      " Accuracy: 89.0%, Avg loss: 0.257844 \n",
      "\n",
      "Epoch 18\n",
      "-------------------------------\n",
      "loss: 0.193064  [    0/ 3788]\n",
      "Test Error:\n",
      " Accuracy: 90.1%, Avg loss: 0.247905 \n",
      "\n",
      "Epoch 19\n",
      "-------------------------------\n",
      "loss: 0.172462  [    0/ 3788]\n",
      "Test Error:\n",
      " Accuracy: 91.4%, Avg loss: 0.219169 \n",
      "\n",
      "Epoch 20\n",
      "-------------------------------\n",
      "loss: 0.194518  [    0/ 3788]\n",
      "Test Error:\n",
      " Accuracy: 90.7%, Avg loss: 0.221530 \n",
      "\n",
      "Epoch 21\n",
      "-------------------------------\n",
      "loss: 0.167444  [    0/ 3788]\n",
      "Test Error:\n",
      " Accuracy: 91.7%, Avg loss: 0.211148 \n",
      "\n",
      "Epoch 22\n",
      "-------------------------------\n",
      "loss: 0.175050  [    0/ 3788]\n",
      "Test Error:\n",
      " Accuracy: 91.3%, Avg loss: 0.206665 \n",
      "\n",
      "Epoch 23\n",
      "-------------------------------\n",
      "loss: 0.190308  [    0/ 3788]\n",
      "Test Error:\n",
      " Accuracy: 91.3%, Avg loss: 0.211575 \n",
      "\n",
      "Epoch 24\n",
      "-------------------------------\n",
      "loss: 0.146569  [    0/ 3788]\n",
      "Test Error:\n",
      " Accuracy: 93.7%, Avg loss: 0.190582 \n",
      "\n",
      "Epoch 25\n",
      "-------------------------------\n",
      "loss: 0.158335  [    0/ 3788]\n",
      "Test Error:\n",
      " Accuracy: 92.4%, Avg loss: 0.186993 \n",
      "\n",
      "Epoch 26\n",
      "-------------------------------\n",
      "loss: 0.139957  [    0/ 3788]\n",
      "Test Error:\n",
      " Accuracy: 92.1%, Avg loss: 0.182051 \n",
      "\n",
      "Epoch 27\n",
      "-------------------------------\n",
      "loss: 0.140788  [    0/ 3788]\n",
      "Test Error:\n",
      " Accuracy: 93.7%, Avg loss: 0.159767 \n",
      "\n",
      "Epoch 28\n",
      "-------------------------------\n",
      "loss: 0.120458  [    0/ 3788]\n",
      "Test Error:\n",
      " Accuracy: 95.5%, Avg loss: 0.145529 \n",
      "\n",
      "Epoch 29\n",
      "-------------------------------\n",
      "loss: 0.118580  [    0/ 3788]\n",
      "Test Error:\n",
      " Accuracy: 93.9%, Avg loss: 0.161458 \n",
      "\n",
      "Epoch 30\n",
      "-------------------------------\n",
      "loss: 0.119444  [    0/ 3788]\n",
      "Test Error:\n",
      " Accuracy: 95.8%, Avg loss: 0.141427 \n",
      "\n",
      "Epoch 31\n",
      "-------------------------------\n",
      "loss: 0.139103  [    0/ 3788]\n",
      "Test Error:\n",
      " Accuracy: 94.8%, Avg loss: 0.140765 \n",
      "\n",
      "Epoch 32\n",
      "-------------------------------\n",
      "loss: 0.119852  [    0/ 3788]\n",
      "Test Error:\n",
      " Accuracy: 96.4%, Avg loss: 0.138373 \n",
      "\n",
      "Epoch 33\n",
      "-------------------------------\n",
      "loss: 0.114020  [    0/ 3788]\n",
      "Test Error:\n",
      " Accuracy: 94.1%, Avg loss: 0.153772 \n",
      "\n",
      "Epoch 34\n",
      "-------------------------------\n",
      "loss: 0.114492  [    0/ 3788]\n",
      "Test Error:\n",
      " Accuracy: 94.5%, Avg loss: 0.138599 \n",
      "\n",
      "Epoch 35\n",
      "-------------------------------\n",
      "loss: 0.097945  [    0/ 3788]\n",
      "Test Error:\n",
      " Accuracy: 94.6%, Avg loss: 0.134871 \n",
      "\n",
      "Epoch 36\n",
      "-------------------------------\n",
      "loss: 0.092594  [    0/ 3788]\n",
      "Test Error:\n",
      " Accuracy: 95.0%, Avg loss: 0.131991 \n",
      "\n",
      "Epoch 37\n",
      "-------------------------------\n",
      "loss: 0.090605  [    0/ 3788]\n"
     ]
    }
   ],
   "source": [
    "#torch.cuda.empty_cache()\n",
    "# model = model = EEG_LSTM(input_size=31000, hidden_size=128, num_layers=2,num_classes=train_class_number).to(device)\n",
    "#model = model.cuda()\n",
    "train_loss = []\n",
    "valid_loss = []\n",
    "accuracy = []\n",
    "for t in range(num_epochs):\n",
    "    print(f\"Epoch {t + 1}\\n-------------------------------\")\n",
    "    model.train(True)\n",
    "    train(train_loader, model, loss_fn, optimizer)\n",
    "\n",
    "    model.train(False)\n",
    "    test(test_loader, model, loss_fn)\n",
    "\n",
    "    if t > num_epochs-5:\n",
    "        torch.save(model.state_dict(), os.path.join(model_save,'cnn_128_100e_'+str(t)+'.pt'))\n",
    "\n",
    "print(\"Done!\")"
   ],
   "metadata": {
    "collapsed": false,
    "is_executing": true,
    "ExecuteTime": {
     "start_time": "2023-05-13T13:06:52.411481200Z"
    }
   }
  },
  {
   "cell_type": "code",
   "execution_count": null,
   "outputs": [],
   "source": [
    "print(\"Done!\")\n",
    "import matplotlib.pyplot as plt\n",
    "%matplotlib inline\n",
    "hex_d1 = '#552a28'\n",
    "hex_d2 = '#005943'\n",
    "\n",
    "plt.figure()\n",
    "plt.plot(train_loss, hex_d1, label='train loss')\n",
    "plt.ylabel('train loss')\n",
    "plt.xlabel('epoch')\n",
    "plt.plot(valid_loss, hex_d2, label='valid loss')\n",
    "plt.ylabel('valid loss')\n",
    "plt.xlabel('epoch')\n",
    "plt.legend()\n",
    "\n",
    "plt.savefig(os.path.join(pic_dir, 'cnn_3_conv_128_s100_loss.png'))\n",
    "plt.show()"
   ],
   "metadata": {
    "collapsed": false,
    "is_executing": true
   }
  },
  {
   "cell_type": "code",
   "execution_count": null,
   "outputs": [],
   "source": [
    "import matplotlib.pyplot as plt\n",
    "%matplotlib inline\n",
    "\n",
    "\n",
    "plt.figure()\n",
    "plt.plot(accuracy, color = '#550300', label='accuracy')\n",
    "plt.ylabel('accuracy')\n",
    "plt.xlabel('epoch')\n",
    "plt.legend()\n",
    "plt.savefig(pic_dir,'cnn_3_conv_128_s100_accuracy.png')\n",
    "plt.show()"
   ],
   "metadata": {
    "collapsed": false,
    "is_executing": true
   }
  },
  {
   "cell_type": "code",
   "execution_count": null,
   "outputs": [],
   "source": [],
   "metadata": {
    "collapsed": false,
    "is_executing": true
   }
  }
 ],
 "metadata": {
  "kernelspec": {
   "display_name": "Python 3",
   "language": "python",
   "name": "python3"
  },
  "language_info": {
   "codemirror_mode": {
    "name": "ipython",
    "version": 2
   },
   "file_extension": ".py",
   "mimetype": "text/x-python",
   "name": "python",
   "nbconvert_exporter": "python",
   "pygments_lexer": "ipython2",
   "version": "2.7.6"
  }
 },
 "nbformat": 4,
 "nbformat_minor": 0
}
