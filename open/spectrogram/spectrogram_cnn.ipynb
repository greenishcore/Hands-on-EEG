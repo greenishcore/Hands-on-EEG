{
 "cells": [
  {
   "cell_type": "code",
   "execution_count": 1,
   "metadata": {
    "collapsed": true,
    "ExecuteTime": {
     "start_time": "2023-04-12T22:40:05.983133Z",
     "end_time": "2023-04-12T22:40:16.176498Z"
    }
   },
   "outputs": [],
   "source": [
    "import pandas as pd\n",
    "import numpy as np\n",
    "import matplotlib.pyplot as plt\n",
    "import torch\n",
    "import os\n",
    "import torch.nn as nn\n",
    "import torch.optim as optim\n",
    "from torch.utils.data import Dataset, DataLoader,TensorDataset, random_split\n",
    "import torchvision\n",
    "from torchvision import transforms\n",
    "from PIL import Image"
   ]
  },
  {
   "cell_type": "code",
   "execution_count": null,
   "outputs": [],
   "source": [
    "def spectrogram():\n",
    "    freq = 128\n",
    "    t = np.arrange(0, 3000/freq, 1/freq)\n",
    "    for idx in range(32):\n",
    "        signal = spectrogram_frame.iloc[idx, :].to_numpy()\n",
    "        freqs, times, Sx = signal.spectrogram(signal, freq)\n",
    "        amplitude = np.abs(Sx)\n",
    "        fig = plt.figure(figsize(10,10))\n",
    "        png{idx} = plt.pcolormesh(times, freqs, amplitude)\n",
    "        tensor_j = torch.from_numpy(png{idx})\n",
    "        if tensor is None:\n",
    "             tensor = tensor_j\n",
    "        else:\n",
    "            tensor = torch.cat((tensor, tensor_j), 0)"
   ],
   "metadata": {
    "collapsed": false
   }
  },
  {
   "cell_type": "code",
   "execution_count": null,
   "outputs": [],
   "source": [
    "file_list = 'C:/Users/a1882/Desktop/EEG/eegdata_3000'\n",
    "class spectrogramDataset(Dataset):\n",
    "    def __init__(self, csv_file_dir, spectorgram_dir, transform=None):\n",
    "        self.specttrogram_frame = pd.read_csv(csv_file_dir)\n",
    "        self.spectorgram_dir = spectorgram_dir\n",
    "        self.transform = transform\n",
    "        # self.spectrogram_frame = pd.read_csv(csv_file)\n",
    "        # self.root_dir = root_dir\n",
    "        # self.transform = transform\n",
    "    def __len__(self):\n",
    "        return len(self.spectrogram_frame)\n",
    "    def __getitem__(self, idx):\n",
    "\n",
    "\n",
    "\n",
    "        # if torch.is_tensor(idx):\n",
    "        #     idx = idx.tolist()\n",
    "        #img_name = os.path.join(self.root_dir, self.spectrogram_frame.iloc[idx, 0])\n",
    "        # image = Image.open(img_name)\n",
    "        # label = self.spectrogram_frame.iloc[idx, 1]\n",
    "        # if self.transform:\n",
    "        #     image = self.transform(image)\n",
    "        # return image, label"
   ],
   "metadata": {
    "collapsed": false
   }
  }
 ],
 "metadata": {
  "kernelspec": {
   "display_name": "Python 3",
   "language": "python",
   "name": "python3"
  },
  "language_info": {
   "codemirror_mode": {
    "name": "ipython",
    "version": 2
   },
   "file_extension": ".py",
   "mimetype": "text/x-python",
   "name": "python",
   "nbconvert_exporter": "python",
   "pygments_lexer": "ipython2",
   "version": "2.7.6"
  }
 },
 "nbformat": 4,
 "nbformat_minor": 0
}
