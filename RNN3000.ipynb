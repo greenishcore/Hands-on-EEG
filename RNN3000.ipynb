{
 "cells": [
  {
   "cell_type": "code",
   "execution_count": 2,
   "metadata": {
    "collapsed": true,
    "ExecuteTime": {
     "start_time": "2023-04-11T17:30:25.711603Z",
     "end_time": "2023-04-11T17:30:31.047010Z"
    }
   },
   "outputs": [],
   "source": [
    "import os\n",
    "import pandas as pd\n",
    "import numpy as np\n",
    "import matplotlib.pyplot as plt\n",
    "import torch\n",
    "import torch.nn as nn\n",
    "import torch.optim as optim\n",
    "from torch.utils.data import Dataset, DataLoader"
   ]
  },
  {
   "cell_type": "code",
   "execution_count": 3,
   "outputs": [],
   "source": [
    "train_dir = './eegdata_3000/train'\n",
    "valid_dir = './eegdata_3000/validation'"
   ],
   "metadata": {
    "collapsed": false,
    "ExecuteTime": {
     "start_time": "2023-04-11T17:30:31.054023Z",
     "end_time": "2023-04-11T17:30:31.063022Z"
    }
   }
  },
  {
   "cell_type": "code",
   "execution_count": 4,
   "outputs": [
    {
     "name": "stdout",
     "output_type": "stream",
     "text": [
      "Current Working Directory is C:\\Users\\a1882\\Desktop\\EEG\n",
      "lefthand_zyy_04_epocflex_2023.03.22t16.48.29+08.00.md.bp.csv_0.csv\n",
      "lefthand_zyy_04_epocflex_2023.03.22t16.48.29+08.00.md.bp.csv_2.csv\n",
      "lefthand_zyy_04_epocflex_2023.03.22t16.48.29+08.00.md.bp.csv_3.csv\n",
      "lefthand_zyy_04_epocflex_2023.03.22t16.48.29+08.00.md.bp.csv_4.csv\n",
      "lefthand_zyy_05_epocflex_2023.03.22t16.50.54+08.00.md.bp.csv_1.csv\n",
      "lefthand_zyy_05_epocflex_2023.03.22t16.50.54+08.00.md.bp.csv_2.csv\n",
      "read_bke_01_epocflex_2023.03.22t15.41.00+08.00.md.bp.csv_0.csv\n",
      "read_bke_01_epocflex_2023.03.22t15.41.00+08.00.md.bp.csv_2.csv\n",
      "read_bke_01_epocflex_2023.03.22t15.41.00+08.00.md.bp.csv_3.csv\n",
      "read_bke_01_epocflex_2023.03.22t15.41.00+08.00.md.bp.csv_4.csv\n",
      "read_bke_02_epocflex_2023.03.22t15.48.25+08.00.md.bp.csv_0.csv\n",
      "read_bke_02_epocflex_2023.03.22t15.48.25+08.00.md.bp.csv_1.csv\n",
      "read_bke_02_epocflex_2023.03.22t15.48.25+08.00.md.bp.csv_11.csv\n",
      "read_bke_02_epocflex_2023.03.22t15.48.25+08.00.md.bp.csv_14.csv\n",
      "read_bke_02_epocflex_2023.03.22t15.48.25+08.00.md.bp.csv_2.csv\n",
      "read_bke_02_epocflex_2023.03.22t15.48.25+08.00.md.bp.csv_4.csv\n",
      "read_bke_02_epocflex_2023.03.22t15.48.25+08.00.md.bp.csv_7.csv\n",
      "read_bke_02_epocflex_2023.03.22t15.48.25+08.00.md.bp.csv_9.csv\n",
      "read_bke_03_epocflex_2023.03.22t16.04.38+08.00.md.bp.csv_0.csv\n",
      "read_bke_03_epocflex_2023.03.22t16.04.38+08.00.md.bp.csv_2.csv\n",
      "read_bke_03_epocflex_2023.03.22t16.04.38+08.00.md.bp.csv_3.csv\n",
      "read_bke_04_epocflex_2023.03.22t16.07.02+08.00.md.bp.csv_0.csv\n",
      "read_bke_04_epocflex_2023.03.22t16.07.02+08.00.md.bp.csv_1.csv\n",
      "read_bke_05_epocflex_2023.03.22t16.09.28+08.00.md.bp.csv_0.csv\n",
      "read_bke_05_epocflex_2023.03.22t16.09.28+08.00.md.bp.csv_1.csv\n",
      "read_bke_05_epocflex_2023.03.22t16.09.28+08.00.md.bp.csv_2.csv\n",
      "read_bke_05_epocflex_2023.03.22t16.09.28+08.00.md.bp.csv_3.csv\n",
      "read_bke_05_epocflex_2023.03.22t16.09.28+08.00.md.bp.csv_4.csv\n",
      "rest_cp_epocflex_2023.03.26t14.28.21+08.00.md.bp.csv_0.csv\n",
      "rest_cp_epocflex_2023.03.26t14.28.21+08.00.md.bp.csv_1.csv\n",
      "rest_cp_epocflex_2023.03.26t14.28.21+08.00.md.bp.csv_3.csv\n",
      "rest_cp_epocflex_2023.03.26t14.28.21+08.00.md.bp.csv_4.csv\n",
      "rest_cp_epocflex_2023.03.26t14.30.40+08.00.md.bp.csv_0.csv\n",
      "rest_cp_epocflex_2023.03.26t14.30.40+08.00.md.bp.csv_4.csv\n",
      "rest_cp_epocflex_2023.03.26t14.32.55+08.00.md.bp.csv_1.csv\n",
      "rest_cp_epocflex_2023.03.26t14.32.55+08.00.md.bp.csv_2.csv\n",
      "rest_cp_epocflex_2023.03.26t14.32.55+08.00.md.bp.csv_4.csv\n",
      "rest_zyy_01_epocflex_179733_2023.03.18t09.39.31+08.00.md.bp.csv_0.csv\n",
      "rest_zyy_01_epocflex_179733_2023.03.18t09.39.31+08.00.md.bp.csv_1.csv\n",
      "rest_zyy_01_epocflex_179733_2023.03.18t09.39.31+08.00.md.bp.csv_2.csv\n",
      "rest_zyy_01_epocflex_179733_2023.03.18t09.39.31+08.00.md.bp.csv_3.csv\n",
      "rest_zyy_02_epocflex_179733_2023.03.18t09.43.21+08.00.md.bp.csv_2.csv\n",
      "rest_zyy_02_epocflex_179733_2023.03.18t09.43.21+08.00.md.bp.csv_3.csv\n",
      "rest_zyy_02_epocflex_179733_2023.03.18t09.43.21+08.00.md.bp.csv_4.csv\n",
      "rest_zyy_04_epocflex_2023.03.22t16.41.16+08.00.md.bp.csv_0.csv\n",
      "rest_zyy_04_epocflex_2023.03.22t16.41.16+08.00.md.bp.csv_2.csv\n",
      "rest_zyy_04_epocflex_2023.03.22t16.41.16+08.00.md.bp.csv_3.csv\n",
      "rest_zyy_05_epocflex_2023.03.22t16.43.35+08.00.md.bp.csv_0.csv\n",
      "rest_zyy_05_epocflex_2023.03.22t16.43.35+08.00.md.bp.csv_1.csv\n",
      "rest_zyy_05_epocflex_2023.03.22t16.43.35+08.00.md.bp.csv_2.csv\n",
      "rest_zyy_05_epocflex_2023.03.22t16.43.35+08.00.md.bp.csv_3.csv\n",
      "rest_zyy_05_epocflex_2023.03.22t16.43.35+08.00.md.bp.csv_4.csv\n",
      "rest_zyy_06_epocflex_2023.03.22t16.46.00+08.00.md.bp.csv_0.csv\n",
      "rest_zyy_06_epocflex_2023.03.22t16.46.00+08.00.md.bp.csv_1.csv\n",
      "rest_zyy_06_epocflex_2023.03.22t16.46.00+08.00.md.bp.csv_2.csv\n",
      "rest_zyy_06_epocflex_2023.03.22t16.46.00+08.00.md.bp.csv_3.csv\n",
      "rest_zyy_06_epocflex_2023.03.22t16.46.00+08.00.md.bp.csv_4.csv\n",
      "rest_zyy_epocflex_2023.03.26t15.20.49+08.00.md.bp.csv_0.csv\n",
      "rest_zyy_epocflex_2023.03.26t15.20.49+08.00.md.bp.csv_2.csv\n",
      "rest_zyy_epocflex_2023.03.26t15.20.49+08.00.md.bp.csv_3.csv\n",
      "rest_zyy_epocflex_2023.03.26t15.23.18+08.00.md.bp.csv_0.csv\n",
      "rest_zyy_epocflex_2023.03.26t15.23.18+08.00.md.bp.csv_2.csv\n",
      "rest_zyy_epocflex_2023.03.26t15.23.18+08.00.md.bp.csv_3.csv\n",
      "rest_zyy_epocflex_2023.03.26t15.26.19+08.00.md.bp.csv_0.csv\n",
      "rest_zyy_epocflex_2023.03.26t15.26.19+08.00.md.bp.csv_1.csv\n",
      "rest_zyy_epocflex_2023.03.26t15.26.19+08.00.md.bp.csv_2.csv\n",
      "walkbase_bke_01_epocflex_2023.03.22t15.55.54+08.00.md.bp.csv_0.csv\n",
      "walkbase_bke_01_epocflex_2023.03.22t15.55.54+08.00.md.bp.csv_1.csv\n",
      "walkbase_bke_01_epocflex_2023.03.22t15.55.54+08.00.md.bp.csv_2.csv\n",
      "walkbase_cp_epocflex_2023.03.26t14.00.39+08.00.md.bp.csv_1.csv\n",
      "walkbase_cp_epocflex_2023.03.26t14.00.39+08.00.md.bp.csv_2.csv\n",
      "walkbase_cp_epocflex_2023.03.26t14.00.39+08.00.md.bp.csv_4.csv\n",
      "walkbase_cp_epocflex_2023.03.26t14.03.07+08.00.md.bp.csv_0.csv\n",
      "walkbase_cp_epocflex_2023.03.26t14.03.07+08.00.md.bp.csv_2.csv\n",
      "walkbase_zyy_01_epocflex_2023.03.22t16.23.52+08.00.md.bp.csv_0.csv\n",
      "walkbase_zyy_01_epocflex_2023.03.22t16.23.52+08.00.md.bp.csv_3.csv\n",
      "walkbase_zyy_01_epocflex_2023.03.22t16.23.52+08.00.md.bp.csv_4.csv\n",
      "walkbase_zyy_02_epocflex_2023.03.22t16.26.47+08.00.md.bp.csv_0.csv\n",
      "walkbase_zyy_02_epocflex_2023.03.22t16.26.47+08.00.md.bp.csv_1.csv\n",
      "walkbase_zyy_03_epocflex_2023.03.22t16.29.13+08.00.md.bp.csv_0.csv\n",
      "walkbase_zyy_03_epocflex_2023.03.22t16.29.13+08.00.md.bp.csv_1.csv\n",
      "walkbase_zyy_03_epocflex_2023.03.22t16.29.13+08.00.md.bp.csv_2.csv\n",
      "walkbase_zyy_03_epocflex_2023.03.22t16.29.13+08.00.md.bp.csv_3.csv\n",
      "walkbase_zyy_03_epocflex_2023.03.22t16.29.13+08.00.md.bp.csv_4.csv\n",
      "walkbase_zyy_epocflex_2023.03.26t13.57.27+08.00.md.bp.csv_0.csv\n",
      "walkbase_zyy_epocflex_2023.03.26t13.57.27+08.00.md.bp.csv_3.csv\n",
      "walkbase_zyy_epocflex_2023.03.26t13.57.27+08.00.md.bp.csv_4.csv\n",
      "walkbase_zyy_epocflex_2023.03.26t14.48.56+08.00.md.bp.csv_1.csv\n",
      "walkbase_zyy_epocflex_2023.03.26t14.48.56+08.00.md.bp.csv_2.csv\n",
      "walkbase_zyy_epocflex_2023.03.26t14.48.56+08.00.md.bp.csv_3.csv\n",
      "walkbase_zyy_epocflex_2023.03.26t14.51.36+08.00.md.bp.csv_0.csv\n",
      "walkbase_zyy_epocflex_2023.03.26t14.51.36+08.00.md.bp.csv_1.csv\n",
      "walkbase_zyy_epocflex_2023.03.26t14.51.36+08.00.md.bp.csv_2.csv\n",
      "walkbase_zyy_epocflex_2023.03.26t14.54.14+08.00.md.bp.csv_0.csv\n",
      "walkbase_zyy_epocflex_2023.03.26t14.54.14+08.00.md.bp.csv_2.csv\n",
      "walkbase_zyy_epocflex_2023.03.26t14.54.14+08.00.md.bp.csv_3.csv\n",
      "walkbase_zyy_epocflex_2023.03.26t14.54.14+08.00.md.bp.csv_4.csv\n",
      "walkfocus_cp_epocflex_2023.03.26t14.16.45+08.00.md.bp.csv_0.csv\n",
      "walkfocus_cp_epocflex_2023.03.26t14.16.45+08.00.md.bp.csv_1.csv\n",
      "walkfocus_cp_epocflex_2023.03.26t14.16.45+08.00.md.bp.csv_2.csv\n",
      "walkfocus_cp_epocflex_2023.03.26t14.16.45+08.00.md.bp.csv_3.csv\n",
      "walkfocus_cp_epocflex_2023.03.26t14.23.07+08.00.md.bp.csv_0.csv\n",
      "walkfocus_cp_epocflex_2023.03.26t14.23.07+08.00.md.bp.csv_1.csv\n",
      "walkfocus_cp_epocflex_2023.03.26t14.23.07+08.00.md.bp.csv_2.csv\n",
      "walkfocus_cp_epocflex_2023.03.26t14.23.07+08.00.md.bp.csv_3.csv\n",
      "walkfocus_cp_epocflex_2023.03.26t14.25.49+08.00.md.bp.csv_0.csv\n",
      "walkfocus_cp_epocflex_2023.03.26t14.25.49+08.00.md.bp.csv_1.csv\n",
      "walkfocus_cp_epocflex_2023.03.26t14.25.49+08.00.md.bp.csv_2.csv\n",
      "walkfocus_cp_epocflex_2023.03.26t14.25.49+08.00.md.bp.csv_3.csv\n",
      "walkfocus_cp_epocflex_2023.03.26t14.25.49+08.00.md.bp.csv_4.csv\n",
      "walkfocus_zyy_epocflex_2023.03.26t15.07.27+08.00.md.bp.csv_0.csv\n",
      "walkfocus_zyy_epocflex_2023.03.26t15.07.27+08.00.md.bp.csv_1.csv\n",
      "walkfocus_zyy_epocflex_2023.03.26t15.07.27+08.00.md.bp.csv_2.csv\n",
      "walkfocus_zyy_epocflex_2023.03.26t15.07.27+08.00.md.bp.csv_4.csv\n",
      "walkfocus_zyy_epocflex_2023.03.26t15.11.11+08.00.md.bp.csv_0.csv\n",
      "walkfocus_zyy_epocflex_2023.03.26t15.11.11+08.00.md.bp.csv_2.csv\n",
      "walkfocus_zyy_epocflex_2023.03.26t15.11.11+08.00.md.bp.csv_3.csv\n",
      "walkfocus_zyy_epocflex_2023.03.26t15.13.31+08.00.md.bp.csv_0.csv\n",
      "walkfocus_zyy_epocflex_2023.03.26t15.13.31+08.00.md.bp.csv_1.csv\n",
      "walkfocus_zyy_epocflex_2023.03.26t15.13.31+08.00.md.bp.csv_3.csv\n",
      "walkfocus_zyy_epocflex_2023.03.26t15.15.53+08.00.md.bp.csv_0.csv\n",
      "walkfocus_zyy_epocflex_2023.03.26t15.15.53+08.00.md.bp.csv_1.csv\n",
      "walkfocus_zyy_epocflex_2023.03.26t15.15.53+08.00.md.bp.csv_2.csv\n",
      "walkfocus_zyy_epocflex_2023.03.26t15.18.08+08.00.md.bp.csv_1.csv\n",
      "walkfocus_zyy_epocflex_2023.03.26t15.18.08+08.00.md.bp.csv_3.csv\n",
      "walkl_bke_01_epocflex_2023.03.22t16.00.31+08.00.md.bp.csv_0.csv\n",
      "walkl_bke_01_epocflex_2023.03.22t16.00.31+08.00.md.bp.csv_1.csv\n",
      "walkl_bke_01_epocflex_2023.03.22t16.00.31+08.00.md.bp.csv_2.csv\n",
      "walkl_bke_01_epocflex_2023.03.22t16.00.31+08.00.md.bp.csv_3.csv\n",
      "walkl_cp_epocflex_2023.03.26t14.07.56+08.00.md.bp.csv_0.csv\n",
      "walkl_cp_epocflex_2023.03.26t14.07.56+08.00.md.bp.csv_1.csv\n",
      "walkl_cp_epocflex_2023.03.26t14.07.56+08.00.md.bp.csv_2.csv\n",
      "walkl_cp_epocflex_2023.03.26t14.07.56+08.00.md.bp.csv_3.csv\n",
      "walkl_cp_epocflex_2023.03.26t14.10.32+08.00.md.bp.csv_0.csv\n",
      "walkl_cp_epocflex_2023.03.26t14.10.32+08.00.md.bp.csv_1.csv\n",
      "walkl_cp_epocflex_2023.03.26t14.10.32+08.00.md.bp.csv_3.csv\n",
      "walkl_cp_epocflex_2023.03.26t14.10.32+08.00.md.bp.csv_4.csv\n",
      "walkl_cp_epocflex_2023.03.26t14.13.37+08.00.md.bp.csv_0.csv\n",
      "walkl_cp_epocflex_2023.03.26t14.13.37+08.00.md.bp.csv_1.csv\n",
      "walkl_cp_epocflex_2023.03.26t14.13.37+08.00.md.bp.csv_3.csv\n",
      "walkl_zyy_01_epocflex_2023.03.22t16.31.47+08.00.md.bp.csv_0.csv\n",
      "walkl_zyy_01_epocflex_2023.03.22t16.32.42+08.00.md.bp.csv_0.csv\n",
      "walkl_zyy_01_epocflex_2023.03.22t16.32.42+08.00.md.bp.csv_1.csv\n",
      "walkl_zyy_01_epocflex_2023.03.22t16.32.42+08.00.md.bp.csv_2.csv\n",
      "walkl_zyy_01_epocflex_2023.03.22t16.32.42+08.00.md.bp.csv_4.csv\n",
      "walkl_zyy_02_epocflex_2023.03.22t16.35.38+08.00.md.bp.csv_1.csv\n",
      "walkl_zyy_02_epocflex_2023.03.22t16.35.38+08.00.md.bp.csv_2.csv\n",
      "walkl_zyy_02_epocflex_2023.03.22t16.35.38+08.00.md.bp.csv_4.csv\n",
      "walkl_zyy_02_epocflex_2023.03.22t16.35.38+08.00.md.bp.csv_5.csv\n",
      "walkl_zyy_02_epocflex_2023.03.22t16.35.38+08.00.md.bp.csv_6.csv\n",
      "walkl_zyy_02_epocflex_2023.03.22t16.35.38+08.00.md.bp.csv_7.csv\n",
      "walkl_zyy_02_epocflex_2023.03.22t16.35.38+08.00.md.bp.csv_8.csv\n",
      "walkl_zyy_epocflex_2023.03.26t14.58.03+08.00.md.bp.csv_0.csv\n",
      "walkl_zyy_epocflex_2023.03.26t14.58.03+08.00.md.bp.csv_1.csv\n",
      "walkl_zyy_epocflex_2023.03.26t14.58.03+08.00.md.bp.csv_2.csv\n",
      "walkl_zyy_epocflex_2023.03.26t14.58.03+08.00.md.bp.csv_5.csv\n",
      "walkl_zyy_epocflex_2023.03.26t15.01.30+08.00.md.bp.csv_1.csv\n",
      "walkl_zyy_epocflex_2023.03.26t15.01.30+08.00.md.bp.csv_2.csv\n",
      "walkl_zyy_epocflex_2023.03.26t15.01.30+08.00.md.bp.csv_3.csv\n",
      "walkl_zyy_epocflex_2023.03.26t15.01.30+08.00.md.bp.csv_4.csv\n",
      "walkl_zyy_epocflex_2023.03.26t15.04.11+08.00.md.bp.csv_1.csv\n"
     ]
    }
   ],
   "source": [
    "train_file_list = os.listdir(train_dir)\n",
    "saved_path = os.getcwd()\n",
    "print(\"Current Working Directory is \" + saved_path)\n",
    "os.chdir(valid_dir)\n",
    "for train_file_name in train_file_list:\n",
    "    print(train_file_name)\n",
    "os.chdir(saved_path)"
   ],
   "metadata": {
    "collapsed": false,
    "ExecuteTime": {
     "start_time": "2023-04-11T17:30:31.065553Z",
     "end_time": "2023-04-11T17:30:31.118586Z"
    }
   }
  },
  {
   "cell_type": "code",
   "execution_count": 5,
   "outputs": [
    {
     "name": "stdout",
     "output_type": "stream",
     "text": [
      "['lefthand', 'lefthand', 'lefthand', 'lefthand', 'lefthand', 'lefthand', 'read', 'read', 'read', 'read', 'read', 'read', 'read', 'read', 'read', 'read', 'read', 'read', 'read', 'read', 'read', 'read', 'read', 'read', 'read', 'read', 'read', 'read', 'rest', 'rest', 'rest', 'rest', 'rest', 'rest', 'rest', 'rest', 'rest', 'rest', 'rest', 'rest', 'rest', 'rest', 'rest', 'rest', 'rest', 'rest', 'rest', 'rest', 'rest', 'rest', 'rest', 'rest', 'rest', 'rest', 'rest', 'rest', 'rest', 'rest', 'rest', 'rest', 'rest', 'rest', 'rest', 'rest', 'rest', 'rest', 'walkbase', 'walkbase', 'walkbase', 'walkbase', 'walkbase', 'walkbase', 'walkbase', 'walkbase', 'walkbase', 'walkbase', 'walkbase', 'walkbase', 'walkbase', 'walkbase', 'walkbase', 'walkbase', 'walkbase', 'walkbase', 'walkbase', 'walkbase', 'walkbase', 'walkbase', 'walkbase', 'walkbase', 'walkbase', 'walkbase', 'walkbase', 'walkbase', 'walkbase', 'walkbase', 'walkbase', 'walkfocus', 'walkfocus', 'walkfocus', 'walkfocus', 'walkfocus', 'walkfocus', 'walkfocus', 'walkfocus', 'walkfocus', 'walkfocus', 'walkfocus', 'walkfocus', 'walkfocus', 'walkfocus', 'walkfocus', 'walkfocus', 'walkfocus', 'walkfocus', 'walkfocus', 'walkfocus', 'walkfocus', 'walkfocus', 'walkfocus', 'walkfocus', 'walkfocus', 'walkfocus', 'walkfocus', 'walkfocus', 'walkl', 'walkl', 'walkl', 'walkl', 'walkl', 'walkl', 'walkl', 'walkl', 'walkl', 'walkl', 'walkl', 'walkl', 'walkl', 'walkl', 'walkl', 'walkl', 'walkl', 'walkl', 'walkl', 'walkl', 'walkl', 'walkl', 'walkl', 'walkl', 'walkl', 'walkl', 'walkl', 'walkl', 'walkl', 'walkl', 'walkl', 'walkl', 'walkl', 'walkl', 'walkl', 'walkl']\n",
      "lefthand\n"
     ]
    }
   ],
   "source": [
    "train_labels = []\n",
    "for train_file_name in train_file_list:\n",
    "    train_labels.append(train_file_name.split('_')[0])\n",
    "\n",
    "print(train_labels)\n",
    "print(train_labels[3])\n",
    "\n",
    "label_map = {'lefthand': 0, 'read': 1, 'rest': 2, 'walkbase': 3, 'walkl': 4 ,'walkfocus': 5}\n",
    "\n",
    "encode_labels  = [label_map[train_label] for train_label in train_labels]\n",
    "\n",
    "train_label = torch.tensor(encode_labels, dtype=torch.int64)"
   ],
   "metadata": {
    "collapsed": false,
    "ExecuteTime": {
     "start_time": "2023-04-11T17:30:41.733012Z",
     "end_time": "2023-04-11T17:30:41.876287Z"
    }
   }
  },
  {
   "cell_type": "code",
   "execution_count": 6,
   "outputs": [
    {
     "name": "stdout",
     "output_type": "stream",
     "text": [
      "Current Working Directory is C:\\Users\\a1882\\Desktop\\EEG\n",
      "lefthand_zyy_04_epocflex_2023.03.22t16.48.29+08.00.md.bp.csv_1.csv\n",
      "lefthand_zyy_05_epocflex_2023.03.22t16.50.54+08.00.md.bp.csv_0.csv\n",
      "lefthand_zyy_05_epocflex_2023.03.22t16.50.54+08.00.md.bp.csv_3.csv\n",
      "lefthand_zyy_05_epocflex_2023.03.22t16.50.54+08.00.md.bp.csv_4.csv\n",
      "read_bke_01_epocflex_2023.03.22t15.41.00+08.00.md.bp.csv_1.csv\n",
      "read_bke_02_epocflex_2023.03.22t15.48.25+08.00.md.bp.csv_10.csv\n",
      "read_bke_02_epocflex_2023.03.22t15.48.25+08.00.md.bp.csv_12.csv\n",
      "read_bke_02_epocflex_2023.03.22t15.48.25+08.00.md.bp.csv_13.csv\n",
      "read_bke_02_epocflex_2023.03.22t15.48.25+08.00.md.bp.csv_3.csv\n",
      "read_bke_02_epocflex_2023.03.22t15.48.25+08.00.md.bp.csv_5.csv\n",
      "read_bke_02_epocflex_2023.03.22t15.48.25+08.00.md.bp.csv_6.csv\n",
      "read_bke_02_epocflex_2023.03.22t15.48.25+08.00.md.bp.csv_8.csv\n",
      "read_bke_03_epocflex_2023.03.22t16.04.38+08.00.md.bp.csv_1.csv\n",
      "read_bke_04_epocflex_2023.03.22t16.07.02+08.00.md.bp.csv_2.csv\n",
      "read_bke_04_epocflex_2023.03.22t16.07.02+08.00.md.bp.csv_3.csv\n",
      "read_bke_04_epocflex_2023.03.22t16.07.02+08.00.md.bp.csv_4.csv\n",
      "rest_cp_epocflex_2023.03.26t14.28.21+08.00.md.bp.csv_2.csv\n",
      "rest_cp_epocflex_2023.03.26t14.30.40+08.00.md.bp.csv_1.csv\n",
      "rest_cp_epocflex_2023.03.26t14.30.40+08.00.md.bp.csv_2.csv\n",
      "rest_cp_epocflex_2023.03.26t14.30.40+08.00.md.bp.csv_3.csv\n",
      "rest_cp_epocflex_2023.03.26t14.32.55+08.00.md.bp.csv_0.csv\n",
      "rest_cp_epocflex_2023.03.26t14.32.55+08.00.md.bp.csv_3.csv\n",
      "rest_zyy_01_epocflex_179733_2023.03.18t09.39.31+08.00.md.bp.csv_4.csv\n",
      "rest_zyy_02_epocflex_179733_2023.03.18t09.43.21+08.00.md.bp.csv_0.csv\n",
      "rest_zyy_02_epocflex_179733_2023.03.18t09.43.21+08.00.md.bp.csv_1.csv\n",
      "rest_zyy_04_epocflex_2023.03.22t16.41.16+08.00.md.bp.csv_1.csv\n",
      "rest_zyy_04_epocflex_2023.03.22t16.41.16+08.00.md.bp.csv_4.csv\n",
      "rest_zyy_epocflex_2023.03.26t15.20.49+08.00.md.bp.csv_1.csv\n",
      "rest_zyy_epocflex_2023.03.26t15.20.49+08.00.md.bp.csv_4.csv\n",
      "rest_zyy_epocflex_2023.03.26t15.23.18+08.00.md.bp.csv_1.csv\n",
      "rest_zyy_epocflex_2023.03.26t15.23.18+08.00.md.bp.csv_4.csv\n",
      "walkbase_bke_01_epocflex_2023.03.22t15.55.54+08.00.md.bp.csv_3.csv\n",
      "walkbase_cp_epocflex_2023.03.26t14.00.39+08.00.md.bp.csv_0.csv\n",
      "walkbase_cp_epocflex_2023.03.26t14.00.39+08.00.md.bp.csv_3.csv\n",
      "walkbase_cp_epocflex_2023.03.26t14.03.07+08.00.md.bp.csv_1.csv\n",
      "walkbase_cp_epocflex_2023.03.26t14.03.07+08.00.md.bp.csv_3.csv\n",
      "walkbase_cp_epocflex_2023.03.26t14.03.07+08.00.md.bp.csv_4.csv\n",
      "walkbase_zyy_01_epocflex_2023.03.22t16.23.52+08.00.md.bp.csv_1.csv\n",
      "walkbase_zyy_01_epocflex_2023.03.22t16.23.52+08.00.md.bp.csv_2.csv\n",
      "walkbase_zyy_02_epocflex_2023.03.22t16.26.47+08.00.md.bp.csv_2.csv\n",
      "walkbase_zyy_02_epocflex_2023.03.22t16.26.47+08.00.md.bp.csv_3.csv\n",
      "walkbase_zyy_epocflex_2023.03.26t13.57.27+08.00.md.bp.csv_1.csv\n",
      "walkbase_zyy_epocflex_2023.03.26t13.57.27+08.00.md.bp.csv_2.csv\n",
      "walkbase_zyy_epocflex_2023.03.26t14.48.56+08.00.md.bp.csv_0.csv\n",
      "walkbase_zyy_epocflex_2023.03.26t14.48.56+08.00.md.bp.csv_4.csv\n",
      "walkbase_zyy_epocflex_2023.03.26t14.51.36+08.00.md.bp.csv_3.csv\n",
      "walkbase_zyy_epocflex_2023.03.26t14.54.14+08.00.md.bp.csv_1.csv\n",
      "walkfocus_cp_epocflex_2023.03.26t14.23.07+08.00.md.bp.csv_4.csv\n",
      "walkfocus_zyy_epocflex_2023.03.26t15.07.27+08.00.md.bp.csv_3.csv\n",
      "walkfocus_zyy_epocflex_2023.03.26t15.11.11+08.00.md.bp.csv_1.csv\n",
      "walkfocus_zyy_epocflex_2023.03.26t15.11.11+08.00.md.bp.csv_4.csv\n",
      "walkfocus_zyy_epocflex_2023.03.26t15.13.31+08.00.md.bp.csv_2.csv\n",
      "walkfocus_zyy_epocflex_2023.03.26t15.15.53+08.00.md.bp.csv_3.csv\n",
      "walkfocus_zyy_epocflex_2023.03.26t15.18.08+08.00.md.bp.csv_0.csv\n",
      "walkfocus_zyy_epocflex_2023.03.26t15.18.08+08.00.md.bp.csv_2.csv\n",
      "walkl_cp_epocflex_2023.03.26t14.07.56+08.00.md.bp.csv_4.csv\n",
      "walkl_cp_epocflex_2023.03.26t14.10.32+08.00.md.bp.csv_2.csv\n",
      "walkl_cp_epocflex_2023.03.26t14.13.37+08.00.md.bp.csv_2.csv\n",
      "walkl_cp_epocflex_2023.03.26t14.13.37+08.00.md.bp.csv_4.csv\n",
      "walkl_zyy_01_epocflex_2023.03.22t16.32.42+08.00.md.bp.csv_3.csv\n",
      "walkl_zyy_02_epocflex_2023.03.22t16.35.38+08.00.md.bp.csv_0.csv\n",
      "walkl_zyy_02_epocflex_2023.03.22t16.35.38+08.00.md.bp.csv_3.csv\n",
      "walkl_zyy_02_epocflex_2023.03.22t16.35.38+08.00.md.bp.csv_9.csv\n",
      "walkl_zyy_epocflex_2023.03.26t14.58.03+08.00.md.bp.csv_3.csv\n",
      "walkl_zyy_epocflex_2023.03.26t14.58.03+08.00.md.bp.csv_4.csv\n",
      "walkl_zyy_epocflex_2023.03.26t15.01.30+08.00.md.bp.csv_0.csv\n",
      "walkl_zyy_epocflex_2023.03.26t15.04.11+08.00.md.bp.csv_0.csv\n",
      "walkl_zyy_epocflex_2023.03.26t15.04.11+08.00.md.bp.csv_2.csv\n",
      "walkl_zyy_epocflex_2023.03.26t15.04.11+08.00.md.bp.csv_3.csv\n"
     ]
    }
   ],
   "source": [
    "valid_file_list = os.listdir(valid_dir)\n",
    "saved_path = os.getcwd()\n",
    "print(\"Current Working Directory is \" + saved_path)\n",
    "os.chdir(valid_dir)\n",
    "for valid_file_name in valid_file_list:\n",
    "    print(valid_file_name)\n",
    "os.chdir(saved_path)"
   ],
   "metadata": {
    "collapsed": false,
    "ExecuteTime": {
     "start_time": "2023-04-11T17:31:06.543370Z",
     "end_time": "2023-04-11T17:31:06.597922Z"
    }
   }
  },
  {
   "cell_type": "code",
   "execution_count": 7,
   "outputs": [
    {
     "name": "stdout",
     "output_type": "stream",
     "text": [
      "['lefthand', 'lefthand', 'lefthand', 'lefthand', 'read', 'read', 'read', 'read', 'read', 'read', 'read', 'read', 'read', 'read', 'read', 'read', 'rest', 'rest', 'rest', 'rest', 'rest', 'rest', 'rest', 'rest', 'rest', 'rest', 'rest', 'rest', 'rest', 'rest', 'rest', 'walkbase', 'walkbase', 'walkbase', 'walkbase', 'walkbase', 'walkbase', 'walkbase', 'walkbase', 'walkbase', 'walkbase', 'walkbase', 'walkbase', 'walkbase', 'walkbase', 'walkbase', 'walkbase', 'walkfocus', 'walkfocus', 'walkfocus', 'walkfocus', 'walkfocus', 'walkfocus', 'walkfocus', 'walkfocus', 'walkl', 'walkl', 'walkl', 'walkl', 'walkl', 'walkl', 'walkl', 'walkl', 'walkl', 'walkl', 'walkl', 'walkl', 'walkl', 'walkl']\n",
      "lefthand\n"
     ]
    }
   ],
   "source": [
    "os.chdir(saved_path)\n",
    "valid_labels = []\n",
    "for valid_file_name in valid_file_list:\n",
    "    valid_labels.append(valid_file_name.split('_')[0])\n",
    "\n",
    "print(valid_labels)\n",
    "print(valid_labels[3])\n",
    "\n",
    "label_map = {'lefthand': 0, 'read': 1, 'rest': 2, 'walkbase': 3, 'walkl': 4, 'walkfocus': 5}\n",
    "\n",
    "encode_labels = [label_map[valid_label] for valid_label in valid_labels]\n",
    "\n",
    "valid_label = torch.tensor(encode_labels, dtype=torch.int64)"
   ],
   "metadata": {
    "collapsed": false,
    "ExecuteTime": {
     "start_time": "2023-04-11T17:31:15.137534Z",
     "end_time": "2023-04-11T17:31:15.266065Z"
    }
   }
  },
  {
   "cell_type": "code",
   "execution_count": 13,
   "outputs": [],
   "source": [
    "class EEGDataset(Dataset):\n",
    "    def __init__(self, filelist, root_dir,data_label,transform=None):\n",
    "        self.filelist = filelist\n",
    "        self.root_dir = root_dir\n",
    "        self.data_label = data_label\n",
    "        self.transform = transform\n",
    "\n",
    "\n",
    "    def __len__(self):\n",
    "        return len(self.filelist)\n",
    "\n",
    "    def __getitem__(self, index):\n",
    "        #print('index:', index, 'len(self.filelist):', len(self.filelist), 'len(self.data_label):', len(self.data_label))\n",
    "        data_label = self.data_label[index]\n",
    "        file_path = os.path.join(self.root_dir, self.filelist[index])\n",
    "        eeg_data = np.array(pd.read_csv(file_path)).T\n",
    "        return eeg_data, data_label"
   ],
   "metadata": {
    "collapsed": false,
    "ExecuteTime": {
     "start_time": "2023-04-11T17:32:27.090187Z",
     "end_time": "2023-04-11T17:32:27.113228Z"
    }
   }
  },
  {
   "cell_type": "code",
   "execution_count": 14,
   "outputs": [],
   "source": [
    "train_dataset = EEGDataset(train_file_list, 'C:/Users/a1882/Desktop/EEG/eegdata_rnn/train', train_label)\n",
    "valid_dataset = EEGDataset(valid_file_list, 'C:/Users/a1882/Desktop/EEG/eegdata_rnn/validation', valid_label)"
   ],
   "metadata": {
    "collapsed": false,
    "ExecuteTime": {
     "start_time": "2023-04-11T17:32:27.485414Z",
     "end_time": "2023-04-11T17:32:27.520414Z"
    }
   }
  },
  {
   "cell_type": "code",
   "execution_count": 15,
   "outputs": [],
   "source": [
    "train_loader = DataLoader(train_dataset, batch_size=64, shuffle=True)\n",
    "valid_loader = DataLoader(valid_dataset, batch_size=64, shuffle=True)"
   ],
   "metadata": {
    "collapsed": false,
    "ExecuteTime": {
     "start_time": "2023-04-11T17:32:28.374709Z",
     "end_time": "2023-04-11T17:32:28.488858Z"
    }
   }
  },
  {
   "cell_type": "code",
   "execution_count": 16,
   "outputs": [
    {
     "name": "stdout",
     "output_type": "stream",
     "text": [
      "Using cpu device\n"
     ]
    }
   ],
   "source": [
    "device = (\n",
    "    \"cuda\"\n",
    "    if torch.cuda.is_available()\n",
    "    else \"mps\"\n",
    "    if torch.cuda.is_available()\n",
    "    else \"cpu\"\n",
    ")\n",
    "print(f\"Using {device} device\")"
   ],
   "metadata": {
    "collapsed": false,
    "ExecuteTime": {
     "start_time": "2023-04-11T17:32:28.877126Z",
     "end_time": "2023-04-11T17:32:29.027666Z"
    }
   }
  },
  {
   "cell_type": "code",
   "execution_count": 17,
   "outputs": [],
   "source": [
    "time_step = 1000\n",
    "sample_rate = 128"
   ],
   "metadata": {
    "collapsed": false,
    "ExecuteTime": {
     "start_time": "2023-04-11T17:32:38.101743Z",
     "end_time": "2023-04-11T17:32:38.238294Z"
    }
   }
  },
  {
   "cell_type": "code",
   "execution_count": 18,
   "outputs": [],
   "source": [
    "class EEG_RNN_Net(nn.Module):\n",
    "    def __init__(self, input_size, hidden_size, output_size, num_layers):\n",
    "        super(EEG_RNN_Net, self).__init__()\n",
    "        self.hidden_size = hidden_size\n",
    "        self.num_layers = num_layers\n",
    "        self.rnn = nn.RNN(input_size, hidden_size, num_layers, batch_first=True)\n",
    "        self.fc = nn.Linear(hidden_size, output_size)\n",
    "\n",
    "    def forward(self, x):\n",
    "        h0 = torch.zeros(self.num_layers, x.size(0), self.hidden_size).to(x.device)  # 初始化隐藏层\n",
    "        out, _ = self.rnn(x, h0)\n",
    "        out = self.fc(out[:, -1, :])  # 取最后一个时间步的输出，作为最终输出\n",
    "        return out"
   ],
   "metadata": {
    "collapsed": false,
    "ExecuteTime": {
     "start_time": "2023-04-11T17:32:45.258448Z",
     "end_time": "2023-04-11T17:32:45.413526Z"
    }
   }
  },
  {
   "cell_type": "code",
   "execution_count": 19,
   "outputs": [
    {
     "name": "stdout",
     "output_type": "stream",
     "text": [
      "EEG_RNN_Net(\n",
      "  (rnn): RNN(31000, 128, num_layers=2, batch_first=True)\n",
      "  (fc): Linear(in_features=128, out_features=10, bias=True)\n",
      ")\n"
     ]
    }
   ],
   "source": [
    "model = EEG_RNN_Net(input_size=31000, hidden_size=128, output_size=10, num_layers=2).to(device)\n",
    "print(model)"
   ],
   "metadata": {
    "collapsed": false,
    "ExecuteTime": {
     "start_time": "2023-04-11T17:32:53.185235Z",
     "end_time": "2023-04-11T17:32:53.356777Z"
    }
   }
  },
  {
   "cell_type": "code",
   "execution_count": null,
   "outputs": [],
   "source": [],
   "metadata": {
    "collapsed": false
   }
  }
 ],
 "metadata": {
  "kernelspec": {
   "display_name": "Python 3",
   "language": "python",
   "name": "python3"
  },
  "language_info": {
   "codemirror_mode": {
    "name": "ipython",
    "version": 2
   },
   "file_extension": ".py",
   "mimetype": "text/x-python",
   "name": "python",
   "nbconvert_exporter": "python",
   "pygments_lexer": "ipython2",
   "version": "2.7.6"
  }
 },
 "nbformat": 4,
 "nbformat_minor": 0
}
