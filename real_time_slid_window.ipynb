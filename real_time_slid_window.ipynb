{
 "cells": [
  {
   "cell_type": "code",
   "execution_count": null,
   "outputs": [],
   "source": [
    "import pandas as pd\n",
    "import numpy as np\n",
    "import matplotlib.pyplot as plt\n",
    "import os\n",
    "import torch\n",
    "#import torchvision\n",
    "# PyTorch TensorBoard support\n",
    "from torch.utils.tensorboard import SummaryWriter\n",
    "from datetime import datetime"
   ],
   "metadata": {
    "collapsed": false
   }
  },
  {
   "cell_type": "code",
   "execution_count": null,
   "outputs": [],
   "source": [
    "#read the model\n"
   ],
   "metadata": {
    "collapsed": false
   }
  },
  {
   "cell_type": "code",
   "execution_count": null,
   "outputs": [],
   "source": [
    "def sliding_window_classification(model, input_data, window_size, stride):\n",
    "    _, _, height, width = input_data.shape\n",
    "    output_data = torch.zeros((1, 10))\n",
    "    count_data = torch.zeros((1, 10))\n",
    "    for i in range(0, height - window_size + 1, stride):\n",
    "        for j in range(0, width - window_size + 1, stride):\n",
    "            window = input_data[:, :, i:i+window_size, j:j+window_size]\n",
    "            output = model(window)\n",
    "            output_data += output\n",
    "            count_data += 1\n",
    "    result = output_data / count_data\n",
    "    return result\n",
    "\n",
    "\n",
    "model = CNN()\n",
    "input_data = torch.randn(1, 1, 32, 15000)\n",
    "window_size = 32\n",
    "stride = 4\n",
    "output = sliding_window_classification(model, input_data, window_size, stride)\n",
    "print(output)"
   ],
   "metadata": {
    "collapsed": false
   }
  }
 ],
 "metadata": {
  "kernelspec": {
   "display_name": "Python 3",
   "language": "python",
   "name": "python3"
  },
  "language_info": {
   "codemirror_mode": {
    "name": "ipython",
    "version": 2
   },
   "file_extension": ".py",
   "mimetype": "text/x-python",
   "name": "python",
   "nbconvert_exporter": "python",
   "pygments_lexer": "ipython2",
   "version": "2.7.6"
  }
 },
 "nbformat": 4,
 "nbformat_minor": 0
}
