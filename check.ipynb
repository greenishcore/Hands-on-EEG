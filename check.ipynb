{
 "cells": [
  {
   "cell_type": "code",
   "execution_count": 1,
   "metadata": {
    "collapsed": true,
    "ExecuteTime": {
     "start_time": "2023-04-25T21:33:19.629827Z",
     "end_time": "2023-04-25T21:33:27.782975Z"
    }
   },
   "outputs": [],
   "source": [
    "import os\n",
    "import pandas as pd\n",
    "import numpy as np\n",
    "import matplotlib.pyplot as plt\n",
    "import torch\n",
    "import torch.nn as nn\n",
    "import torch.optim as optim\n",
    "from torch.utils.data import Dataset, DataLoader\n",
    "from torch.optim.lr_scheduler import StepLR"
   ]
  },
  {
   "cell_type": "code",
   "execution_count": 2,
   "outputs": [
    {
     "name": "stdout",
     "output_type": "stream",
     "text": [
      "Current Working Directory is C:\\Users\\a1882\\Desktop\\EEG\n",
      "lefthand_zyy_04_epocflex_2023.03.22t16.48.29+08.00.md.bp.csv_0.csv\n",
      "lefthand_zyy_04_epocflex_2023.03.22t16.48.29+08.00.md.bp.csv_2.csv\n",
      "lefthand_zyy_04_epocflex_2023.03.22t16.48.29+08.00.md.bp.csv_3.csv\n",
      "lefthand_zyy_04_epocflex_2023.03.22t16.48.29+08.00.md.bp.csv_4.csv\n",
      "lefthand_zyy_05_epocflex_2023.03.22t16.50.54+08.00.md.bp.csv_1.csv\n",
      "lefthand_zyy_05_epocflex_2023.03.22t16.50.54+08.00.md.bp.csv_2.csv\n",
      "read_bke_01_epocflex_2023.03.22t15.41.00+08.00.md.bp.csv_0.csv\n",
      "read_bke_01_epocflex_2023.03.22t15.41.00+08.00.md.bp.csv_2.csv\n",
      "read_bke_01_epocflex_2023.03.22t15.41.00+08.00.md.bp.csv_3.csv\n",
      "read_bke_01_epocflex_2023.03.22t15.41.00+08.00.md.bp.csv_4.csv\n",
      "read_bke_02_epocflex_2023.03.22t15.48.25+08.00.md.bp.csv_0.csv\n",
      "read_bke_02_epocflex_2023.03.22t15.48.25+08.00.md.bp.csv_1.csv\n",
      "read_bke_02_epocflex_2023.03.22t15.48.25+08.00.md.bp.csv_11.csv\n",
      "read_bke_02_epocflex_2023.03.22t15.48.25+08.00.md.bp.csv_14.csv\n",
      "read_bke_02_epocflex_2023.03.22t15.48.25+08.00.md.bp.csv_2.csv\n",
      "read_bke_02_epocflex_2023.03.22t15.48.25+08.00.md.bp.csv_4.csv\n",
      "read_bke_02_epocflex_2023.03.22t15.48.25+08.00.md.bp.csv_7.csv\n",
      "read_bke_02_epocflex_2023.03.22t15.48.25+08.00.md.bp.csv_9.csv\n",
      "read_bke_03_epocflex_2023.03.22t16.04.38+08.00.md.bp.csv_0.csv\n",
      "read_bke_03_epocflex_2023.03.22t16.04.38+08.00.md.bp.csv_2.csv\n",
      "read_bke_03_epocflex_2023.03.22t16.04.38+08.00.md.bp.csv_3.csv\n",
      "read_bke_04_epocflex_2023.03.22t16.07.02+08.00.md.bp.csv_0.csv\n",
      "read_bke_04_epocflex_2023.03.22t16.07.02+08.00.md.bp.csv_1.csv\n",
      "read_bke_05_epocflex_2023.03.22t16.09.28+08.00.md.bp.csv_0.csv\n",
      "read_bke_05_epocflex_2023.03.22t16.09.28+08.00.md.bp.csv_1.csv\n",
      "read_bke_05_epocflex_2023.03.22t16.09.28+08.00.md.bp.csv_2.csv\n",
      "read_bke_05_epocflex_2023.03.22t16.09.28+08.00.md.bp.csv_3.csv\n",
      "read_bke_05_epocflex_2023.03.22t16.09.28+08.00.md.bp.csv_4.csv\n",
      "rest_cp_epocflex_2023.03.26t14.28.21+08.00.md.bp.csv_0.csv\n",
      "rest_cp_epocflex_2023.03.26t14.28.21+08.00.md.bp.csv_1.csv\n",
      "rest_cp_epocflex_2023.03.26t14.28.21+08.00.md.bp.csv_3.csv\n",
      "rest_cp_epocflex_2023.03.26t14.28.21+08.00.md.bp.csv_4.csv\n",
      "rest_cp_epocflex_2023.03.26t14.30.40+08.00.md.bp.csv_0.csv\n",
      "rest_cp_epocflex_2023.03.26t14.30.40+08.00.md.bp.csv_4.csv\n",
      "rest_cp_epocflex_2023.03.26t14.32.55+08.00.md.bp.csv_1.csv\n",
      "rest_cp_epocflex_2023.03.26t14.32.55+08.00.md.bp.csv_2.csv\n",
      "rest_cp_epocflex_2023.03.26t14.32.55+08.00.md.bp.csv_4.csv\n",
      "rest_zyy_01_epocflex_179733_2023.03.18t09.39.31+08.00.md.bp.csv_0.csv\n",
      "rest_zyy_01_epocflex_179733_2023.03.18t09.39.31+08.00.md.bp.csv_1.csv\n",
      "rest_zyy_01_epocflex_179733_2023.03.18t09.39.31+08.00.md.bp.csv_2.csv\n",
      "rest_zyy_01_epocflex_179733_2023.03.18t09.39.31+08.00.md.bp.csv_3.csv\n",
      "rest_zyy_02_epocflex_179733_2023.03.18t09.43.21+08.00.md.bp.csv_2.csv\n",
      "rest_zyy_02_epocflex_179733_2023.03.18t09.43.21+08.00.md.bp.csv_3.csv\n",
      "rest_zyy_02_epocflex_179733_2023.03.18t09.43.21+08.00.md.bp.csv_4.csv\n",
      "rest_zyy_04_epocflex_2023.03.22t16.41.16+08.00.md.bp.csv_0.csv\n",
      "rest_zyy_04_epocflex_2023.03.22t16.41.16+08.00.md.bp.csv_2.csv\n",
      "rest_zyy_04_epocflex_2023.03.22t16.41.16+08.00.md.bp.csv_3.csv\n",
      "rest_zyy_05_epocflex_2023.03.22t16.43.35+08.00.md.bp.csv_0.csv\n",
      "rest_zyy_05_epocflex_2023.03.22t16.43.35+08.00.md.bp.csv_1.csv\n",
      "rest_zyy_05_epocflex_2023.03.22t16.43.35+08.00.md.bp.csv_2.csv\n",
      "rest_zyy_05_epocflex_2023.03.22t16.43.35+08.00.md.bp.csv_3.csv\n",
      "rest_zyy_05_epocflex_2023.03.22t16.43.35+08.00.md.bp.csv_4.csv\n",
      "rest_zyy_06_epocflex_2023.03.22t16.46.00+08.00.md.bp.csv_0.csv\n",
      "rest_zyy_06_epocflex_2023.03.22t16.46.00+08.00.md.bp.csv_1.csv\n",
      "rest_zyy_06_epocflex_2023.03.22t16.46.00+08.00.md.bp.csv_2.csv\n",
      "rest_zyy_06_epocflex_2023.03.22t16.46.00+08.00.md.bp.csv_3.csv\n",
      "rest_zyy_06_epocflex_2023.03.22t16.46.00+08.00.md.bp.csv_4.csv\n",
      "rest_zyy_epocflex_2023.03.26t15.20.49+08.00.md.bp.csv_0.csv\n",
      "rest_zyy_epocflex_2023.03.26t15.20.49+08.00.md.bp.csv_2.csv\n",
      "rest_zyy_epocflex_2023.03.26t15.20.49+08.00.md.bp.csv_3.csv\n",
      "rest_zyy_epocflex_2023.03.26t15.23.18+08.00.md.bp.csv_0.csv\n",
      "rest_zyy_epocflex_2023.03.26t15.23.18+08.00.md.bp.csv_2.csv\n",
      "rest_zyy_epocflex_2023.03.26t15.23.18+08.00.md.bp.csv_3.csv\n",
      "rest_zyy_epocflex_2023.03.26t15.26.19+08.00.md.bp.csv_0.csv\n",
      "rest_zyy_epocflex_2023.03.26t15.26.19+08.00.md.bp.csv_1.csv\n",
      "rest_zyy_epocflex_2023.03.26t15.26.19+08.00.md.bp.csv_2.csv\n",
      "walkbase_bke_01_epocflex_2023.03.22t15.55.54+08.00.md.bp.csv_0.csv\n",
      "walkbase_bke_01_epocflex_2023.03.22t15.55.54+08.00.md.bp.csv_1.csv\n",
      "walkbase_bke_01_epocflex_2023.03.22t15.55.54+08.00.md.bp.csv_2.csv\n",
      "walkbase_cp_epocflex_2023.03.26t14.00.39+08.00.md.bp.csv_1.csv\n",
      "walkbase_cp_epocflex_2023.03.26t14.00.39+08.00.md.bp.csv_2.csv\n",
      "walkbase_cp_epocflex_2023.03.26t14.00.39+08.00.md.bp.csv_4.csv\n",
      "walkbase_cp_epocflex_2023.03.26t14.03.07+08.00.md.bp.csv_0.csv\n",
      "walkbase_cp_epocflex_2023.03.26t14.03.07+08.00.md.bp.csv_2.csv\n",
      "walkbase_zyy_01_epocflex_2023.03.22t16.23.52+08.00.md.bp.csv_0.csv\n",
      "walkbase_zyy_01_epocflex_2023.03.22t16.23.52+08.00.md.bp.csv_3.csv\n",
      "walkbase_zyy_01_epocflex_2023.03.22t16.23.52+08.00.md.bp.csv_4.csv\n",
      "walkbase_zyy_02_epocflex_2023.03.22t16.26.47+08.00.md.bp.csv_0.csv\n",
      "walkbase_zyy_02_epocflex_2023.03.22t16.26.47+08.00.md.bp.csv_1.csv\n",
      "walkbase_zyy_03_epocflex_2023.03.22t16.29.13+08.00.md.bp.csv_0.csv\n",
      "walkbase_zyy_03_epocflex_2023.03.22t16.29.13+08.00.md.bp.csv_1.csv\n",
      "walkbase_zyy_03_epocflex_2023.03.22t16.29.13+08.00.md.bp.csv_2.csv\n",
      "walkbase_zyy_03_epocflex_2023.03.22t16.29.13+08.00.md.bp.csv_3.csv\n",
      "walkbase_zyy_03_epocflex_2023.03.22t16.29.13+08.00.md.bp.csv_4.csv\n",
      "walkbase_zyy_epocflex_2023.03.26t13.57.27+08.00.md.bp.csv_0.csv\n",
      "walkbase_zyy_epocflex_2023.03.26t13.57.27+08.00.md.bp.csv_3.csv\n",
      "walkbase_zyy_epocflex_2023.03.26t13.57.27+08.00.md.bp.csv_4.csv\n",
      "walkbase_zyy_epocflex_2023.03.26t14.48.56+08.00.md.bp.csv_1.csv\n",
      "walkbase_zyy_epocflex_2023.03.26t14.48.56+08.00.md.bp.csv_2.csv\n",
      "walkbase_zyy_epocflex_2023.03.26t14.48.56+08.00.md.bp.csv_3.csv\n",
      "walkbase_zyy_epocflex_2023.03.26t14.51.36+08.00.md.bp.csv_0.csv\n",
      "walkbase_zyy_epocflex_2023.03.26t14.51.36+08.00.md.bp.csv_1.csv\n",
      "walkbase_zyy_epocflex_2023.03.26t14.51.36+08.00.md.bp.csv_2.csv\n",
      "walkbase_zyy_epocflex_2023.03.26t14.54.14+08.00.md.bp.csv_0.csv\n",
      "walkbase_zyy_epocflex_2023.03.26t14.54.14+08.00.md.bp.csv_2.csv\n",
      "walkbase_zyy_epocflex_2023.03.26t14.54.14+08.00.md.bp.csv_3.csv\n",
      "walkbase_zyy_epocflex_2023.03.26t14.54.14+08.00.md.bp.csv_4.csv\n",
      "walkfocus_cp_epocflex_2023.03.26t14.16.45+08.00.md.bp.csv_0.csv\n",
      "walkfocus_cp_epocflex_2023.03.26t14.16.45+08.00.md.bp.csv_1.csv\n",
      "walkfocus_cp_epocflex_2023.03.26t14.16.45+08.00.md.bp.csv_2.csv\n",
      "walkfocus_cp_epocflex_2023.03.26t14.16.45+08.00.md.bp.csv_3.csv\n",
      "walkfocus_cp_epocflex_2023.03.26t14.23.07+08.00.md.bp.csv_0.csv\n",
      "walkfocus_cp_epocflex_2023.03.26t14.23.07+08.00.md.bp.csv_1.csv\n",
      "walkfocus_cp_epocflex_2023.03.26t14.23.07+08.00.md.bp.csv_2.csv\n",
      "walkfocus_cp_epocflex_2023.03.26t14.23.07+08.00.md.bp.csv_3.csv\n",
      "walkfocus_cp_epocflex_2023.03.26t14.25.49+08.00.md.bp.csv_0.csv\n",
      "walkfocus_cp_epocflex_2023.03.26t14.25.49+08.00.md.bp.csv_1.csv\n",
      "walkfocus_cp_epocflex_2023.03.26t14.25.49+08.00.md.bp.csv_2.csv\n",
      "walkfocus_cp_epocflex_2023.03.26t14.25.49+08.00.md.bp.csv_3.csv\n",
      "walkfocus_cp_epocflex_2023.03.26t14.25.49+08.00.md.bp.csv_4.csv\n",
      "walkfocus_zyy_epocflex_2023.03.26t15.07.27+08.00.md.bp.csv_0.csv\n",
      "walkfocus_zyy_epocflex_2023.03.26t15.07.27+08.00.md.bp.csv_1.csv\n",
      "walkfocus_zyy_epocflex_2023.03.26t15.07.27+08.00.md.bp.csv_2.csv\n",
      "walkfocus_zyy_epocflex_2023.03.26t15.07.27+08.00.md.bp.csv_4.csv\n",
      "walkfocus_zyy_epocflex_2023.03.26t15.11.11+08.00.md.bp.csv_0.csv\n",
      "walkfocus_zyy_epocflex_2023.03.26t15.11.11+08.00.md.bp.csv_2.csv\n",
      "walkfocus_zyy_epocflex_2023.03.26t15.11.11+08.00.md.bp.csv_3.csv\n",
      "walkfocus_zyy_epocflex_2023.03.26t15.13.31+08.00.md.bp.csv_0.csv\n",
      "walkfocus_zyy_epocflex_2023.03.26t15.13.31+08.00.md.bp.csv_1.csv\n",
      "walkfocus_zyy_epocflex_2023.03.26t15.13.31+08.00.md.bp.csv_3.csv\n",
      "walkfocus_zyy_epocflex_2023.03.26t15.15.53+08.00.md.bp.csv_0.csv\n",
      "walkfocus_zyy_epocflex_2023.03.26t15.15.53+08.00.md.bp.csv_1.csv\n",
      "walkfocus_zyy_epocflex_2023.03.26t15.15.53+08.00.md.bp.csv_2.csv\n",
      "walkfocus_zyy_epocflex_2023.03.26t15.18.08+08.00.md.bp.csv_1.csv\n",
      "walkfocus_zyy_epocflex_2023.03.26t15.18.08+08.00.md.bp.csv_3.csv\n",
      "walkl_bke_01_epocflex_2023.03.22t16.00.31+08.00.md.bp.csv_0.csv\n",
      "walkl_bke_01_epocflex_2023.03.22t16.00.31+08.00.md.bp.csv_1.csv\n",
      "walkl_bke_01_epocflex_2023.03.22t16.00.31+08.00.md.bp.csv_2.csv\n",
      "walkl_bke_01_epocflex_2023.03.22t16.00.31+08.00.md.bp.csv_3.csv\n",
      "walkl_cp_epocflex_2023.03.26t14.07.56+08.00.md.bp.csv_0.csv\n",
      "walkl_cp_epocflex_2023.03.26t14.07.56+08.00.md.bp.csv_1.csv\n",
      "walkl_cp_epocflex_2023.03.26t14.07.56+08.00.md.bp.csv_2.csv\n",
      "walkl_cp_epocflex_2023.03.26t14.07.56+08.00.md.bp.csv_3.csv\n",
      "walkl_cp_epocflex_2023.03.26t14.10.32+08.00.md.bp.csv_0.csv\n",
      "walkl_cp_epocflex_2023.03.26t14.10.32+08.00.md.bp.csv_1.csv\n",
      "walkl_cp_epocflex_2023.03.26t14.10.32+08.00.md.bp.csv_3.csv\n",
      "walkl_cp_epocflex_2023.03.26t14.10.32+08.00.md.bp.csv_4.csv\n",
      "walkl_cp_epocflex_2023.03.26t14.13.37+08.00.md.bp.csv_0.csv\n",
      "walkl_cp_epocflex_2023.03.26t14.13.37+08.00.md.bp.csv_1.csv\n",
      "walkl_cp_epocflex_2023.03.26t14.13.37+08.00.md.bp.csv_3.csv\n",
      "walkl_zyy_01_epocflex_2023.03.22t16.31.47+08.00.md.bp.csv_0.csv\n",
      "walkl_zyy_01_epocflex_2023.03.22t16.32.42+08.00.md.bp.csv_0.csv\n",
      "walkl_zyy_01_epocflex_2023.03.22t16.32.42+08.00.md.bp.csv_1.csv\n",
      "walkl_zyy_01_epocflex_2023.03.22t16.32.42+08.00.md.bp.csv_2.csv\n",
      "walkl_zyy_01_epocflex_2023.03.22t16.32.42+08.00.md.bp.csv_4.csv\n",
      "walkl_zyy_02_epocflex_2023.03.22t16.35.38+08.00.md.bp.csv_1.csv\n",
      "walkl_zyy_02_epocflex_2023.03.22t16.35.38+08.00.md.bp.csv_2.csv\n",
      "walkl_zyy_02_epocflex_2023.03.22t16.35.38+08.00.md.bp.csv_4.csv\n",
      "walkl_zyy_02_epocflex_2023.03.22t16.35.38+08.00.md.bp.csv_5.csv\n",
      "walkl_zyy_02_epocflex_2023.03.22t16.35.38+08.00.md.bp.csv_6.csv\n",
      "walkl_zyy_02_epocflex_2023.03.22t16.35.38+08.00.md.bp.csv_7.csv\n",
      "walkl_zyy_02_epocflex_2023.03.22t16.35.38+08.00.md.bp.csv_8.csv\n",
      "walkl_zyy_epocflex_2023.03.26t14.58.03+08.00.md.bp.csv_0.csv\n",
      "walkl_zyy_epocflex_2023.03.26t14.58.03+08.00.md.bp.csv_1.csv\n",
      "walkl_zyy_epocflex_2023.03.26t14.58.03+08.00.md.bp.csv_2.csv\n",
      "walkl_zyy_epocflex_2023.03.26t14.58.03+08.00.md.bp.csv_5.csv\n",
      "walkl_zyy_epocflex_2023.03.26t15.01.30+08.00.md.bp.csv_1.csv\n",
      "walkl_zyy_epocflex_2023.03.26t15.01.30+08.00.md.bp.csv_2.csv\n",
      "walkl_zyy_epocflex_2023.03.26t15.01.30+08.00.md.bp.csv_3.csv\n",
      "walkl_zyy_epocflex_2023.03.26t15.01.30+08.00.md.bp.csv_4.csv\n",
      "walkl_zyy_epocflex_2023.03.26t15.04.11+08.00.md.bp.csv_1.csv\n"
     ]
    }
   ],
   "source": [
    "train_file_list = os.listdir('C:/Users/a1882/Desktop/EEG/eegdata_3000/train')\n",
    "saved_path = os.getcwd()\n",
    "print(\"Current Working Directory is \" + saved_path)\n",
    "os.chdir(r\"C:\\Users\\a1882\\Desktop\\EEG\\eegdata_3000\\train\")\n",
    "for train_file_name in train_file_list:\n",
    "    print(train_file_name)\n",
    "os.chdir(saved_path)"
   ],
   "metadata": {
    "collapsed": false,
    "ExecuteTime": {
     "start_time": "2023-04-25T21:33:41.641158Z",
     "end_time": "2023-04-25T21:33:41.749081Z"
    }
   }
  },
  {
   "cell_type": "code",
   "execution_count": 3,
   "outputs": [
    {
     "name": "stdout",
     "output_type": "stream",
     "text": [
      "['lefthand', 'lefthand', 'lefthand', 'lefthand', 'lefthand', 'lefthand', 'read', 'read', 'read', 'read', 'read', 'read', 'read', 'read', 'read', 'read', 'read', 'read', 'read', 'read', 'read', 'read', 'read', 'read', 'read', 'read', 'read', 'read', 'rest', 'rest', 'rest', 'rest', 'rest', 'rest', 'rest', 'rest', 'rest', 'rest', 'rest', 'rest', 'rest', 'rest', 'rest', 'rest', 'rest', 'rest', 'rest', 'rest', 'rest', 'rest', 'rest', 'rest', 'rest', 'rest', 'rest', 'rest', 'rest', 'rest', 'rest', 'rest', 'rest', 'rest', 'rest', 'rest', 'rest', 'rest', 'walkbase', 'walkbase', 'walkbase', 'walkbase', 'walkbase', 'walkbase', 'walkbase', 'walkbase', 'walkbase', 'walkbase', 'walkbase', 'walkbase', 'walkbase', 'walkbase', 'walkbase', 'walkbase', 'walkbase', 'walkbase', 'walkbase', 'walkbase', 'walkbase', 'walkbase', 'walkbase', 'walkbase', 'walkbase', 'walkbase', 'walkbase', 'walkbase', 'walkbase', 'walkbase', 'walkbase', 'walkfocus', 'walkfocus', 'walkfocus', 'walkfocus', 'walkfocus', 'walkfocus', 'walkfocus', 'walkfocus', 'walkfocus', 'walkfocus', 'walkfocus', 'walkfocus', 'walkfocus', 'walkfocus', 'walkfocus', 'walkfocus', 'walkfocus', 'walkfocus', 'walkfocus', 'walkfocus', 'walkfocus', 'walkfocus', 'walkfocus', 'walkfocus', 'walkfocus', 'walkfocus', 'walkfocus', 'walkfocus', 'walkl', 'walkl', 'walkl', 'walkl', 'walkl', 'walkl', 'walkl', 'walkl', 'walkl', 'walkl', 'walkl', 'walkl', 'walkl', 'walkl', 'walkl', 'walkl', 'walkl', 'walkl', 'walkl', 'walkl', 'walkl', 'walkl', 'walkl', 'walkl', 'walkl', 'walkl', 'walkl', 'walkl', 'walkl', 'walkl', 'walkl', 'walkl', 'walkl', 'walkl', 'walkl', 'walkl']\n",
      "lefthand\n"
     ]
    }
   ],
   "source": [
    "train_labels = []\n",
    "for train_file_name in train_file_list:\n",
    "    train_labels.append(train_file_name.split('_')[0])\n",
    "\n",
    "print(train_labels)\n",
    "print(train_labels[3])\n",
    "\n",
    "label_map = {'lefthand': 0, 'read': 1, 'rest': 2, 'walkbase': 3, 'walkl': 4 ,'walkfocus': 5}\n",
    "\n",
    "encode_labels  = [label_map[train_label] for train_label in train_labels]\n",
    "\n",
    "train_label = torch.tensor(encode_labels, dtype=torch.int64)"
   ],
   "metadata": {
    "collapsed": false,
    "ExecuteTime": {
     "start_time": "2023-04-25T21:33:43.050938Z",
     "end_time": "2023-04-25T21:33:43.190491Z"
    }
   }
  },
  {
   "cell_type": "code",
   "execution_count": 4,
   "outputs": [
    {
     "name": "stdout",
     "output_type": "stream",
     "text": [
      "Current Working Directory is C:\\Users\\a1882\\Desktop\\EEG\n",
      "lefthand_zyy_04_epocflex_2023.03.22t16.48.29+08.00.md.bp.csv_1.csv\n",
      "lefthand_zyy_05_epocflex_2023.03.22t16.50.54+08.00.md.bp.csv_0.csv\n",
      "lefthand_zyy_05_epocflex_2023.03.22t16.50.54+08.00.md.bp.csv_3.csv\n",
      "lefthand_zyy_05_epocflex_2023.03.22t16.50.54+08.00.md.bp.csv_4.csv\n",
      "read_bke_01_epocflex_2023.03.22t15.41.00+08.00.md.bp.csv_1.csv\n",
      "read_bke_02_epocflex_2023.03.22t15.48.25+08.00.md.bp.csv_10.csv\n",
      "read_bke_02_epocflex_2023.03.22t15.48.25+08.00.md.bp.csv_12.csv\n",
      "read_bke_02_epocflex_2023.03.22t15.48.25+08.00.md.bp.csv_13.csv\n",
      "read_bke_02_epocflex_2023.03.22t15.48.25+08.00.md.bp.csv_3.csv\n",
      "read_bke_02_epocflex_2023.03.22t15.48.25+08.00.md.bp.csv_5.csv\n",
      "read_bke_02_epocflex_2023.03.22t15.48.25+08.00.md.bp.csv_6.csv\n",
      "read_bke_02_epocflex_2023.03.22t15.48.25+08.00.md.bp.csv_8.csv\n",
      "read_bke_03_epocflex_2023.03.22t16.04.38+08.00.md.bp.csv_1.csv\n",
      "read_bke_04_epocflex_2023.03.22t16.07.02+08.00.md.bp.csv_2.csv\n",
      "read_bke_04_epocflex_2023.03.22t16.07.02+08.00.md.bp.csv_3.csv\n",
      "read_bke_04_epocflex_2023.03.22t16.07.02+08.00.md.bp.csv_4.csv\n",
      "rest_cp_epocflex_2023.03.26t14.28.21+08.00.md.bp.csv_2.csv\n",
      "rest_cp_epocflex_2023.03.26t14.30.40+08.00.md.bp.csv_1.csv\n",
      "rest_cp_epocflex_2023.03.26t14.30.40+08.00.md.bp.csv_2.csv\n",
      "rest_cp_epocflex_2023.03.26t14.30.40+08.00.md.bp.csv_3.csv\n",
      "rest_cp_epocflex_2023.03.26t14.32.55+08.00.md.bp.csv_0.csv\n",
      "rest_cp_epocflex_2023.03.26t14.32.55+08.00.md.bp.csv_3.csv\n",
      "rest_zyy_01_epocflex_179733_2023.03.18t09.39.31+08.00.md.bp.csv_4.csv\n",
      "rest_zyy_02_epocflex_179733_2023.03.18t09.43.21+08.00.md.bp.csv_0.csv\n",
      "rest_zyy_02_epocflex_179733_2023.03.18t09.43.21+08.00.md.bp.csv_1.csv\n",
      "rest_zyy_04_epocflex_2023.03.22t16.41.16+08.00.md.bp.csv_1.csv\n",
      "rest_zyy_04_epocflex_2023.03.22t16.41.16+08.00.md.bp.csv_4.csv\n",
      "rest_zyy_epocflex_2023.03.26t15.20.49+08.00.md.bp.csv_1.csv\n",
      "rest_zyy_epocflex_2023.03.26t15.20.49+08.00.md.bp.csv_4.csv\n",
      "rest_zyy_epocflex_2023.03.26t15.23.18+08.00.md.bp.csv_1.csv\n",
      "rest_zyy_epocflex_2023.03.26t15.23.18+08.00.md.bp.csv_4.csv\n",
      "walkbase_bke_01_epocflex_2023.03.22t15.55.54+08.00.md.bp.csv_3.csv\n",
      "walkbase_cp_epocflex_2023.03.26t14.00.39+08.00.md.bp.csv_0.csv\n",
      "walkbase_cp_epocflex_2023.03.26t14.00.39+08.00.md.bp.csv_3.csv\n",
      "walkbase_cp_epocflex_2023.03.26t14.03.07+08.00.md.bp.csv_1.csv\n",
      "walkbase_cp_epocflex_2023.03.26t14.03.07+08.00.md.bp.csv_3.csv\n",
      "walkbase_cp_epocflex_2023.03.26t14.03.07+08.00.md.bp.csv_4.csv\n",
      "walkbase_zyy_01_epocflex_2023.03.22t16.23.52+08.00.md.bp.csv_1.csv\n",
      "walkbase_zyy_01_epocflex_2023.03.22t16.23.52+08.00.md.bp.csv_2.csv\n",
      "walkbase_zyy_02_epocflex_2023.03.22t16.26.47+08.00.md.bp.csv_2.csv\n",
      "walkbase_zyy_02_epocflex_2023.03.22t16.26.47+08.00.md.bp.csv_3.csv\n",
      "walkbase_zyy_epocflex_2023.03.26t13.57.27+08.00.md.bp.csv_1.csv\n",
      "walkbase_zyy_epocflex_2023.03.26t13.57.27+08.00.md.bp.csv_2.csv\n",
      "walkbase_zyy_epocflex_2023.03.26t14.48.56+08.00.md.bp.csv_0.csv\n",
      "walkbase_zyy_epocflex_2023.03.26t14.48.56+08.00.md.bp.csv_4.csv\n",
      "walkbase_zyy_epocflex_2023.03.26t14.51.36+08.00.md.bp.csv_3.csv\n",
      "walkbase_zyy_epocflex_2023.03.26t14.54.14+08.00.md.bp.csv_1.csv\n",
      "walkfocus_cp_epocflex_2023.03.26t14.23.07+08.00.md.bp.csv_4.csv\n",
      "walkfocus_zyy_epocflex_2023.03.26t15.07.27+08.00.md.bp.csv_3.csv\n",
      "walkfocus_zyy_epocflex_2023.03.26t15.11.11+08.00.md.bp.csv_1.csv\n",
      "walkfocus_zyy_epocflex_2023.03.26t15.11.11+08.00.md.bp.csv_4.csv\n",
      "walkfocus_zyy_epocflex_2023.03.26t15.13.31+08.00.md.bp.csv_2.csv\n",
      "walkfocus_zyy_epocflex_2023.03.26t15.15.53+08.00.md.bp.csv_3.csv\n",
      "walkfocus_zyy_epocflex_2023.03.26t15.18.08+08.00.md.bp.csv_0.csv\n",
      "walkfocus_zyy_epocflex_2023.03.26t15.18.08+08.00.md.bp.csv_2.csv\n",
      "walkl_cp_epocflex_2023.03.26t14.07.56+08.00.md.bp.csv_4.csv\n",
      "walkl_cp_epocflex_2023.03.26t14.10.32+08.00.md.bp.csv_2.csv\n",
      "walkl_cp_epocflex_2023.03.26t14.13.37+08.00.md.bp.csv_2.csv\n",
      "walkl_cp_epocflex_2023.03.26t14.13.37+08.00.md.bp.csv_4.csv\n",
      "walkl_zyy_01_epocflex_2023.03.22t16.32.42+08.00.md.bp.csv_3.csv\n",
      "walkl_zyy_02_epocflex_2023.03.22t16.35.38+08.00.md.bp.csv_0.csv\n",
      "walkl_zyy_02_epocflex_2023.03.22t16.35.38+08.00.md.bp.csv_3.csv\n",
      "walkl_zyy_02_epocflex_2023.03.22t16.35.38+08.00.md.bp.csv_9.csv\n",
      "walkl_zyy_epocflex_2023.03.26t14.58.03+08.00.md.bp.csv_3.csv\n",
      "walkl_zyy_epocflex_2023.03.26t14.58.03+08.00.md.bp.csv_4.csv\n",
      "walkl_zyy_epocflex_2023.03.26t15.01.30+08.00.md.bp.csv_0.csv\n",
      "walkl_zyy_epocflex_2023.03.26t15.04.11+08.00.md.bp.csv_0.csv\n",
      "walkl_zyy_epocflex_2023.03.26t15.04.11+08.00.md.bp.csv_2.csv\n",
      "walkl_zyy_epocflex_2023.03.26t15.04.11+08.00.md.bp.csv_3.csv\n"
     ]
    }
   ],
   "source": [
    "valid_file_list = os.listdir('C:/Users/a1882/Desktop/EEG/eegdata_3000/validation')\n",
    "saved_path = os.getcwd()\n",
    "print(\"Current Working Directory is \" + saved_path)\n",
    "os.chdir(r\"C:\\Users\\a1882\\Desktop\\EEG\\eegdata_3000\\validation\")\n",
    "for valid_file_name in valid_file_list:\n",
    "    print(valid_file_name)\n",
    "os.chdir(saved_path)"
   ],
   "metadata": {
    "collapsed": false,
    "ExecuteTime": {
     "start_time": "2023-04-25T21:33:43.878990Z",
     "end_time": "2023-04-25T21:33:43.979542Z"
    }
   }
  },
  {
   "cell_type": "code",
   "execution_count": 5,
   "outputs": [
    {
     "name": "stdout",
     "output_type": "stream",
     "text": [
      "['lefthand', 'lefthand', 'lefthand', 'lefthand', 'read', 'read', 'read', 'read', 'read', 'read', 'read', 'read', 'read', 'read', 'read', 'read', 'rest', 'rest', 'rest', 'rest', 'rest', 'rest', 'rest', 'rest', 'rest', 'rest', 'rest', 'rest', 'rest', 'rest', 'rest', 'walkbase', 'walkbase', 'walkbase', 'walkbase', 'walkbase', 'walkbase', 'walkbase', 'walkbase', 'walkbase', 'walkbase', 'walkbase', 'walkbase', 'walkbase', 'walkbase', 'walkbase', 'walkbase', 'walkfocus', 'walkfocus', 'walkfocus', 'walkfocus', 'walkfocus', 'walkfocus', 'walkfocus', 'walkfocus', 'walkl', 'walkl', 'walkl', 'walkl', 'walkl', 'walkl', 'walkl', 'walkl', 'walkl', 'walkl', 'walkl', 'walkl', 'walkl', 'walkl']\n",
      "lefthand\n",
      "tensor([0, 0, 0, 0, 1, 1, 1, 1, 1, 1, 1, 1, 1, 1, 1, 1, 2, 2, 2, 2, 2, 2, 2, 2,\n",
      "        2, 2, 2, 2, 2, 2, 2, 3, 3, 3, 3, 3, 3, 3, 3, 3, 3, 3, 3, 3, 3, 3, 3, 5,\n",
      "        5, 5, 5, 5, 5, 5, 5, 4, 4, 4, 4, 4, 4, 4, 4, 4, 4, 4, 4, 4, 4])\n"
     ]
    }
   ],
   "source": [
    "valid_labels = []\n",
    "for valid_file_name in valid_file_list:\n",
    "    valid_labels.append(valid_file_name.split('_')[0])\n",
    "\n",
    "print(valid_labels)\n",
    "print(valid_labels[3])\n",
    "\n",
    "label_map = {'lefthand': 0, 'read': 1, 'rest': 2, 'walkbase': 3, 'walkl': 4 ,'walkfocus': 5}\n",
    "\n",
    "encode_labels  = [label_map[valid_label] for valid_label in valid_labels]\n",
    "\n",
    "valid_label = torch.tensor(encode_labels, dtype=torch.int64)\n",
    "print(valid_label)"
   ],
   "metadata": {
    "collapsed": false,
    "ExecuteTime": {
     "start_time": "2023-04-25T21:33:45.539024Z",
     "end_time": "2023-04-25T21:33:45.637570Z"
    }
   }
  },
  {
   "cell_type": "code",
   "execution_count": 6,
   "outputs": [
    {
     "name": "stdout",
     "output_type": "stream",
     "text": [
      "6\n",
      "6\n"
     ]
    }
   ],
   "source": [
    "train_unique_objects = set(train_labels)\n",
    "train_class_number = len(train_unique_objects)\n",
    "print(train_class_number)\n",
    "\n",
    "valid_unique_objects = set(valid_labels)\n",
    "valid_class_number = len(valid_unique_objects)\n",
    "print(valid_class_number)"
   ],
   "metadata": {
    "collapsed": false,
    "ExecuteTime": {
     "start_time": "2023-04-25T21:33:45.793641Z",
     "end_time": "2023-04-25T21:33:46.029659Z"
    }
   }
  },
  {
   "cell_type": "code",
   "execution_count": 7,
   "outputs": [],
   "source": [
    "import os\n",
    "import pandas as pd\n",
    "import torch\n",
    "import torch.nn as nn\n",
    "import torch.optim as optim\n",
    "from torch.utils.data import Dataset, DataLoader\n",
    "\n",
    "class EEGDataset(Dataset):\n",
    "    def __init__(self, filelist, root_dir,data_label,transform=None):\n",
    "        self.filelist = filelist\n",
    "        self.root_dir = root_dir\n",
    "        self.data_label = data_label\n",
    "        self.transform = transform\n",
    "\n",
    "\n",
    "    def __len__(self):\n",
    "        return len(self.filelist)\n",
    "\n",
    "    def __getitem__(self, index):\n",
    "        #print('index:', index, 'len(self.filelist):', len(self.filelist), 'len(self.data_label):', len(self.data_label))\n",
    "        data_label = self.data_label[index]\n",
    "        file_path = os.path.join(self.root_dir, self.filelist[index])\n",
    "        eeg_data = np.array(pd.read_csv(file_path))\n",
    "        return eeg_data, data_label"
   ],
   "metadata": {
    "collapsed": false,
    "ExecuteTime": {
     "start_time": "2023-04-25T21:33:46.553971Z",
     "end_time": "2023-04-25T21:33:46.601983Z"
    }
   }
  },
  {
   "cell_type": "code",
   "execution_count": 8,
   "outputs": [],
   "source": [
    "class EEGNet(nn.Module):\n",
    "    def __init__(self, num_classes=6):\n",
    "        super(EEGNet, self).__init__()\n",
    "        self.conv1 = nn.Conv2d(1, 16, kernel_size=(1, 4), stride=(1, 2))\n",
    "        self.bn1 = nn.BatchNorm2d(16, eps=1e-05, momentum=0.1, affine=True, track_running_stats=True)\n",
    "        self.pool1 = nn.MaxPool2d(kernel_size=(1, 4), stride=(1, 4))\n",
    "        self.dropout1 = nn.Dropout(p=0.25)\n",
    "        self.conv2 = nn.Conv2d(16, 32, kernel_size=(1, 2), stride=(1, 2))\n",
    "        self.bn2 = nn.BatchNorm2d(32, eps=1e-05, momentum=0.1, affine=True, track_running_stats=True)\n",
    "        self.pool2 = nn.MaxPool2d(kernel_size=(1, 4), stride=(1, 4))\n",
    "        self.dropout2 = nn.Dropout(p=0.25)\n",
    "        self.fc1 = nn.Linear(47104, 128)\n",
    "        self.dropout3 = nn.Dropout(p=0.5)\n",
    "        self.fc2 = nn.Linear(128, 6)\n",
    "\n",
    "\n",
    "    def forward(self, x):\n",
    "        x = torch.unsqueeze(x, 1)\n",
    "        #print('x:', x.shape)\n",
    "        x = self.conv1(x)\n",
    "        #print('conv1:', x.shape)\n",
    "        x = self.bn1(x)\n",
    "        x = torch.relu(x)\n",
    "        x = self.pool1(x)\n",
    "        x = self.dropout1(x)\n",
    "        x = self.conv2(x)\n",
    "        #print('conv2:', x.shape)\n",
    "        x = self.bn2(x)\n",
    "        x = torch.relu(x)\n",
    "        x = self.pool2(x)\n",
    "        x = self.dropout2(x)\n",
    "        x = x.view(x.size(0), -1)\n",
    "        #print('flatten:', x.shape)\n",
    "        x = self.fc1(x)\n",
    "        x = torch.relu(x)\n",
    "        x = self.dropout3(x)\n",
    "        x = self.fc2(x)\n",
    "        return x\n",
    "\n",
    "# model = EEGNet()"
   ],
   "metadata": {
    "collapsed": false,
    "ExecuteTime": {
     "start_time": "2023-04-25T21:33:47.747825Z",
     "end_time": "2023-04-25T21:33:47.906048Z"
    }
   }
  },
  {
   "cell_type": "code",
   "execution_count": 9,
   "outputs": [
    {
     "name": "stdout",
     "output_type": "stream",
     "text": [
      "torch.Size([1, 6])\n"
     ]
    }
   ],
   "source": [
    "X = torch.randn(size=( 1, 32, 3000), dtype=torch.float32)\n",
    "model = EEGNet()\n",
    "output = model(X)\n",
    "print(output.shape)"
   ],
   "metadata": {
    "collapsed": false,
    "ExecuteTime": {
     "start_time": "2023-04-25T21:33:48.073733Z",
     "end_time": "2023-04-25T21:33:48.317815Z"
    }
   }
  },
  {
   "cell_type": "code",
   "execution_count": 10,
   "outputs": [],
   "source": [
    "train_dataset = EEGDataset(train_file_list, 'C:/Users/a1882/Desktop/EEG/eegdata_3000/train', train_label)\n",
    "valid_dataset = EEGDataset(valid_file_list, 'C:/Users/a1882/Desktop/EEG/eegdata_3000/validation', valid_label)"
   ],
   "metadata": {
    "collapsed": false,
    "ExecuteTime": {
     "start_time": "2023-04-25T21:33:49.789713Z",
     "end_time": "2023-04-25T21:33:49.890256Z"
    }
   }
  },
  {
   "cell_type": "code",
   "execution_count": 11,
   "outputs": [],
   "source": [
    "train_loader = DataLoader(train_dataset, batch_size=64, shuffle=True)\n",
    "valid_loader = DataLoader(valid_dataset, batch_size=64, shuffle=True)"
   ],
   "metadata": {
    "collapsed": false,
    "ExecuteTime": {
     "start_time": "2023-04-25T21:33:50.778856Z",
     "end_time": "2023-04-25T21:33:50.828855Z"
    }
   }
  },
  {
   "cell_type": "code",
   "execution_count": 12,
   "outputs": [
    {
     "name": "stdout",
     "output_type": "stream",
     "text": [
      "Using cpu device\n"
     ]
    }
   ],
   "source": [
    "device = (\n",
    "    \"cuda\"\n",
    "    if torch.cuda.is_available()\n",
    "    else \"mps\"\n",
    "    if torch.cuda.is_available()\n",
    "    else \"cpu\"\n",
    ")\n",
    "print(f\"Using {device} device\")"
   ],
   "metadata": {
    "collapsed": false,
    "ExecuteTime": {
     "start_time": "2023-04-25T21:33:51.786006Z",
     "end_time": "2023-04-25T21:33:51.917563Z"
    }
   }
  },
  {
   "cell_type": "code",
   "execution_count": 13,
   "outputs": [],
   "source": [
    "learning_rate = 0.0001\n",
    "batch_size = 64\n",
    "num_epochs = 10\n",
    "loss_fn = nn.CrossEntropyLoss()\n",
    "optimizer = torch.optim.Adam(model.parameters(), lr=learning_rate)\n",
    "scheduler = StepLR(optimizer, step_size=30, gamma=0.1)"
   ],
   "metadata": {
    "collapsed": false,
    "ExecuteTime": {
     "start_time": "2023-04-25T21:33:58.323552Z",
     "end_time": "2023-04-25T21:33:58.486637Z"
    }
   }
  },
  {
   "cell_type": "code",
   "execution_count": 14,
   "outputs": [],
   "source": [
    "def train(dataloader, model, loss_fn, optimizer):\n",
    "    size = len(dataloader.dataset)\n",
    "    for batch, (X, y) in enumerate(dataloader):\n",
    "        X, y = X.to(device), y.to(device)\n",
    "        # Compute prediction error\n",
    "        pred = model(X.float())\n",
    "        loss = loss_fn(pred, y)\n",
    "        # Backpropagation\n",
    "        optimizer.zero_grad()\n",
    "        loss.backward()\n",
    "        optimizer.step()\n",
    "        if batch % 100 == 0:\n",
    "            loss, current = loss.item(), batch * len(X)\n",
    "            print(f\"loss: {loss:>7f}  [{current:>5d}/{size:>5d}]\")\n",
    "            global train_loss\n",
    "            train_loss.append(loss)\n",
    "\n",
    "\n",
    "\n",
    "def test(dataloader, model,loss_fn):\n",
    "    size = len(dataloader.dataset)\n",
    "    num_batches = len(dataloader)\n",
    "    model.eval()\n",
    "    test_loss, correct = 0, 0\n",
    "    with torch.no_grad():\n",
    "        for X, y in dataloader:\n",
    "            X, y = X.to(device), y.to(device)\n",
    "            pred = model(X.float())\n",
    "            test_loss += loss_fn(pred, y).item()\n",
    "            correct += (pred.argmax(1) == y).type(torch.float).sum().item()\n",
    "    test_loss /= num_batches\n",
    "    correct /= size\n",
    "    print(f\"Test Error:\\n Accuracy: {(100 * correct):>0.1f}%, Avg loss: {test_loss:>8f} \\n\")\n",
    "    global valid_loss\n",
    "    valid_loss.append(test_loss)\n",
    "    global accuracy\n",
    "    accuracy.append(correct)"
   ],
   "metadata": {
    "collapsed": false,
    "ExecuteTime": {
     "start_time": "2023-04-25T21:34:00.419207Z",
     "end_time": "2023-04-25T21:34:00.557276Z"
    }
   }
  },
  {
   "cell_type": "code",
   "execution_count": 15,
   "outputs": [
    {
     "name": "stdout",
     "output_type": "stream",
     "text": [
      "Epoch 1\n",
      "-------------------------------\n",
      "loss: 1.789400  [    0/  161]\n",
      "Test Error:\n",
      " Accuracy: 23.2%, Avg loss: 1.628916 \n",
      "\n",
      "Epoch 2\n",
      "-------------------------------\n",
      "loss: 1.733246  [    0/  161]\n",
      "Test Error:\n",
      " Accuracy: 43.5%, Avg loss: 1.134110 \n",
      "\n",
      "Epoch 3\n",
      "-------------------------------\n",
      "loss: 1.359373  [    0/  161]\n",
      "Test Error:\n",
      " Accuracy: 40.6%, Avg loss: 1.805499 \n",
      "\n",
      "Epoch 4\n",
      "-------------------------------\n",
      "loss: 1.034539  [    0/  161]\n",
      "Test Error:\n",
      " Accuracy: 42.0%, Avg loss: 1.179938 \n",
      "\n",
      "Epoch 5\n",
      "-------------------------------\n",
      "loss: 1.073640  [    0/  161]\n",
      "Test Error:\n",
      " Accuracy: 58.0%, Avg loss: 1.236059 \n",
      "\n",
      "Epoch 6\n",
      "-------------------------------\n",
      "loss: 1.006652  [    0/  161]\n",
      "Test Error:\n",
      " Accuracy: 71.0%, Avg loss: 1.088131 \n",
      "\n",
      "Epoch 7\n",
      "-------------------------------\n",
      "loss: 0.761591  [    0/  161]\n",
      "Test Error:\n",
      " Accuracy: 75.4%, Avg loss: 1.062575 \n",
      "\n",
      "Epoch 8\n",
      "-------------------------------\n",
      "loss: 0.887663  [    0/  161]\n",
      "Test Error:\n",
      " Accuracy: 72.5%, Avg loss: 0.863776 \n",
      "\n",
      "Epoch 9\n",
      "-------------------------------\n",
      "loss: 0.920845  [    0/  161]\n",
      "Test Error:\n",
      " Accuracy: 76.8%, Avg loss: 0.729964 \n",
      "\n",
      "Epoch 10\n",
      "-------------------------------\n",
      "loss: 0.630248  [    0/  161]\n",
      "Test Error:\n",
      " Accuracy: 79.7%, Avg loss: 0.920727 \n",
      "\n",
      "Done!\n"
     ]
    }
   ],
   "source": [
    "#torch.cuda.empty_cache()\n",
    "# model = model = EEG_LSTM(input_size=31000, hidden_size=128, num_layers=2,num_classes=train_class_number).to(device)\n",
    "train_loss = []\n",
    "valid_loss = []\n",
    "accuracy = []\n",
    "for t in range(num_epochs):\n",
    "    print(f\"Epoch {t + 1}\\n-------------------------------\")\n",
    "    model.train(True)\n",
    "    train(train_loader, model, loss_fn, optimizer)\n",
    "\n",
    "    model.train(False)\n",
    "    test(valid_loader, model, loss_fn)\n",
    "\n",
    "print(\"Done!\")"
   ],
   "metadata": {
    "collapsed": false,
    "ExecuteTime": {
     "start_time": "2023-04-25T21:34:02.889680Z",
     "end_time": "2023-04-25T21:40:31.397934Z"
    }
   }
  },
  {
   "cell_type": "code",
   "execution_count": 16,
   "outputs": [
    {
     "data": {
      "text/plain": "<Figure size 640x480 with 1 Axes>",
      "image/png": "[encoded data removed]"
     },
     "metadata": {},
     "output_type": "display_data"
    }
   ],
   "source": [
    "import matplotlib.pyplot as plt\n",
    "%matplotlib inline\n",
    "hex_d1 = '#552a28'\n",
    "hex_d2 = '#005943'\n",
    "\n",
    "plt.figure()\n",
    "plt.plot(train_loss,hex_d1,label='train loss')\n",
    "plt.ylabel('train loss')\n",
    "plt.xlabel('epoch')\n",
    "plt.plot(valid_loss,hex_d2,label='valid loss')\n",
    "plt.ylabel('valid loss')\n",
    "plt.xlabel('epoch')\n",
    "plt.legend()\n",
    "\n",
    "plt.savefig('cnn_3000_100e_loss_2.png')\n",
    "plt.show()"
   ],
   "metadata": {
    "collapsed": false,
    "ExecuteTime": {
     "start_time": "2023-04-25T21:40:31.401936Z",
     "end_time": "2023-04-25T21:40:32.007303Z"
    }
   }
  },
  {
   "cell_type": "code",
   "execution_count": 17,
   "outputs": [
    {
     "data": {
      "text/plain": "<Figure size 640x480 with 1 Axes>",
      "image/png": "[encoded data removed]"
     },
     "metadata": {},
     "output_type": "display_data"
    }
   ],
   "source": [
    "import matplotlib.pyplot as plt\n",
    "%matplotlib inline\n",
    "\n",
    "\n",
    "plt.figure()\n",
    "plt.plot(accuracy, color = '#550300', label='accuracy')\n",
    "plt.ylabel('accuracy')\n",
    "plt.xlabel('epoch')\n",
    "plt.legend()\n",
    "plt.savefig('cnn_3000_100e_accuracy_2.png')\n",
    "plt.show()"
   ],
   "metadata": {
    "collapsed": false,
    "ExecuteTime": {
     "start_time": "2023-04-25T21:40:32.026491Z",
     "end_time": "2023-04-25T21:40:32.450730Z"
    }
   }
  },
  {
   "cell_type": "markdown",
   "source": [],
   "metadata": {
    "collapsed": false
   }
  },
  {
   "cell_type": "code",
   "execution_count": 63,
   "outputs": [
    {
     "name": "stdout",
     "output_type": "stream",
     "text": [
      "walkl\n"
     ]
    }
   ],
   "source": [
    "signal = pd.read_csv(\"C:\\\\Users\\\\a1882\\Desktop\\EEG\\eegdata_3000\\\\validation\\\\walkl_zyy_epocflex_2023.03.26t15.01.30+08.00.md.bp.csv_0.csv\")\n",
    "model = EEGNet()\n",
    "model.eval()\n",
    "input = np.array(signal)\n",
    "input = torch.from_numpy(input)\n",
    "input = input.unsqueeze(0)\n",
    "\n",
    "output = model(input.float())\n",
    "#    print(output)\n",
    "# probabilities = torch.nn.functional.softmax(output, dim=1)\n",
    "# print(probabilities)\n",
    "\n",
    "_, pred = torch.max(output, dim=1)  # 找到预测分数最大的类别，得到预测类别\n",
    "label_map = {0: 'lefthand', 1:'read' ,  2:'rest', 3: 'walkbase', 4: 'walkl' ,5: 'walkfocus'}\n",
    "print(label_map[pred.item()])"
   ],
   "metadata": {
    "collapsed": false,
    "ExecuteTime": {
     "start_time": "2023-04-25T22:05:19.614710Z",
     "end_time": "2023-04-25T22:05:19.860205Z"
    }
   }
  },
  {
   "cell_type": "code",
   "execution_count": 57,
   "outputs": [],
   "source": [
    "# pro = probabilities*100\n",
    "# print(pro)"
   ],
   "metadata": {
    "collapsed": false,
    "ExecuteTime": {
     "start_time": "2023-04-25T22:05:03.592991Z",
     "end_time": "2023-04-25T22:05:03.647533Z"
    }
   }
  },
  {
   "cell_type": "code",
   "execution_count": 57,
   "outputs": [],
   "source": [],
   "metadata": {
    "collapsed": false,
    "ExecuteTime": {
     "start_time": "2023-04-25T22:05:04.881728Z",
     "end_time": "2023-04-25T22:05:05.043809Z"
    }
   }
  },
  {
   "cell_type": "code",
   "execution_count": 57,
   "outputs": [],
   "source": [],
   "metadata": {
    "collapsed": false,
    "ExecuteTime": {
     "start_time": "2023-04-25T22:05:05.728542Z",
     "end_time": "2023-04-25T22:05:05.939733Z"
    }
   }
  },
  {
   "cell_type": "code",
   "execution_count": null,
   "outputs": [],
   "source": [],
   "metadata": {
    "collapsed": false
   }
  }
 ],
 "metadata": {
  "kernelspec": {
   "display_name": "Python 3",
   "language": "python",
   "name": "python3"
  },
  "language_info": {
   "codemirror_mode": {
    "name": "ipython",
    "version": 2
   },
   "file_extension": ".py",
   "mimetype": "text/x-python",
   "name": "python",
   "nbconvert_exporter": "python",
   "pygments_lexer": "ipython2",
   "version": "2.7.6"
  }
 },
 "nbformat": 4,
 "nbformat_minor": 0
}
