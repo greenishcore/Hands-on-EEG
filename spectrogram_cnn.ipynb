{
 "cells": [
  {
   "cell_type": "code",
   "execution_count": 9,
   "metadata": {
    "collapsed": true,
    "ExecuteTime": {
     "start_time": "2023-04-12T19:09:02.288696Z",
     "end_time": "2023-04-12T19:09:02.361448Z"
    }
   },
   "outputs": [],
   "source": [
    "import os\n",
    "import pandas as pd\n",
    "import numpy as np\n",
    "import matplotlib.pyplot as plt\n",
    "import torch\n",
    "import torch.nn as nn\n",
    "import torch.optim as optim\n",
    "from torch.utils.data import Dataset, DataLoader,TensorDataset, random_split\n",
    "import torchvision\n",
    "from torchvision import transforms\n",
    "from PIL import Image"
   ]
  },
  {
   "cell_type": "code",
   "execution_count": 8,
   "outputs": [
    {
     "name": "stdout",
     "output_type": "stream",
     "text": [
      "Current Working Directory is C:\\Users\\a1882\\Desktop\\EEG\\eegdata_3000\\spectrogram\n",
      "<PIL.PngImagePlugin.PngImageFile image mode=RGBA size=775x770 at 0x283A51C9AE0>\n",
      "<PIL.PngImagePlugin.PngImageFile image mode=RGBA size=775x770 at 0x283A39B5870>\n",
      "<PIL.PngImagePlugin.PngImageFile image mode=RGBA size=775x770 at 0x283A51C99F0>\n",
      "<PIL.PngImagePlugin.PngImageFile image mode=RGBA size=775x770 at 0x283A39B7340>\n",
      "<PIL.PngImagePlugin.PngImageFile image mode=RGBA size=775x770 at 0x283A51C9AE0>\n",
      "<PIL.PngImagePlugin.PngImageFile image mode=RGBA size=775x770 at 0x283A39B5690>\n",
      "<PIL.PngImagePlugin.PngImageFile image mode=RGBA size=775x770 at 0x283A51C9FC0>\n",
      "<PIL.PngImagePlugin.PngImageFile image mode=RGBA size=775x770 at 0x283A39B7340>\n",
      "<PIL.PngImagePlugin.PngImageFile image mode=RGBA size=775x770 at 0x283A51C9AE0>\n",
      "<PIL.PngImagePlugin.PngImageFile image mode=RGBA size=775x770 at 0x283A39B6080>\n",
      "<PIL.PngImagePlugin.PngImageFile image mode=RGBA size=775x770 at 0x283A51C8760>\n",
      "<PIL.PngImagePlugin.PngImageFile image mode=RGBA size=775x770 at 0x283A39B7340>\n",
      "<PIL.PngImagePlugin.PngImageFile image mode=RGBA size=775x770 at 0x283A51C9AE0>\n",
      "<PIL.PngImagePlugin.PngImageFile image mode=RGBA size=775x770 at 0x283A39B6080>\n",
      "<PIL.PngImagePlugin.PngImageFile image mode=RGBA size=775x770 at 0x283A51C99F0>\n",
      "<PIL.PngImagePlugin.PngImageFile image mode=RGBA size=775x770 at 0x283A39B7340>\n",
      "<PIL.PngImagePlugin.PngImageFile image mode=RGBA size=775x770 at 0x283A51C8760>\n",
      "<PIL.PngImagePlugin.PngImageFile image mode=RGBA size=775x770 at 0x283A39B6080>\n",
      "<PIL.PngImagePlugin.PngImageFile image mode=RGBA size=775x770 at 0x283A51C99F0>\n",
      "<PIL.PngImagePlugin.PngImageFile image mode=RGBA size=775x770 at 0x283A39B7340>\n",
      "<PIL.PngImagePlugin.PngImageFile image mode=RGBA size=775x770 at 0x283A51C8760>\n",
      "<PIL.PngImagePlugin.PngImageFile image mode=RGBA size=775x770 at 0x283A39B6080>\n",
      "<PIL.PngImagePlugin.PngImageFile image mode=RGBA size=775x770 at 0x283A51C99F0>\n",
      "<PIL.PngImagePlugin.PngImageFile image mode=RGBA size=775x770 at 0x283A39B7340>\n",
      "<PIL.PngImagePlugin.PngImageFile image mode=RGBA size=775x770 at 0x283A51C9AE0>\n",
      "<PIL.PngImagePlugin.PngImageFile image mode=RGBA size=775x770 at 0x283A39B6080>\n",
      "<PIL.PngImagePlugin.PngImageFile image mode=RGBA size=775x770 at 0x283A51C8760>\n",
      "<PIL.PngImagePlugin.PngImageFile image mode=RGBA size=775x770 at 0x283A39B7340>\n",
      "<PIL.PngImagePlugin.PngImageFile image mode=RGBA size=775x770 at 0x283A51C9FC0>\n",
      "<PIL.PngImagePlugin.PngImageFile image mode=RGBA size=775x770 at 0x283A39B6080>\n",
      "<PIL.PngImagePlugin.PngImageFile image mode=RGBA size=775x770 at 0x283A51C9AE0>\n",
      "<PIL.PngImagePlugin.PngImageFile image mode=RGBA size=775x770 at 0x283A39B7340>\n",
      "<PIL.PngImagePlugin.PngImageFile image mode=RGBA size=775x770 at 0x283A51C8760>\n",
      "<PIL.PngImagePlugin.PngImageFile image mode=RGBA size=775x770 at 0x283A39B6080>\n",
      "<PIL.PngImagePlugin.PngImageFile image mode=RGBA size=775x770 at 0x283A51C9AE0>\n",
      "<PIL.PngImagePlugin.PngImageFile image mode=RGBA size=775x770 at 0x283A39B7340>\n",
      "<PIL.PngImagePlugin.PngImageFile image mode=RGBA size=775x770 at 0x283A51C9FC0>\n",
      "<PIL.PngImagePlugin.PngImageFile image mode=RGBA size=775x770 at 0x283A39B6080>\n",
      "<PIL.PngImagePlugin.PngImageFile image mode=RGBA size=775x770 at 0x283A51C8760>\n",
      "<PIL.PngImagePlugin.PngImageFile image mode=RGBA size=775x770 at 0x283A39B7340>\n",
      "<PIL.PngImagePlugin.PngImageFile image mode=RGBA size=775x770 at 0x283A51C99F0>\n",
      "<PIL.PngImagePlugin.PngImageFile image mode=RGBA size=775x770 at 0x283A39B6080>\n",
      "<PIL.PngImagePlugin.PngImageFile image mode=RGBA size=775x770 at 0x283A51C9FC0>\n",
      "<PIL.PngImagePlugin.PngImageFile image mode=RGBA size=775x770 at 0x283A39B7340>\n",
      "<PIL.PngImagePlugin.PngImageFile image mode=RGBA size=775x770 at 0x283A51C8760>\n",
      "<PIL.PngImagePlugin.PngImageFile image mode=RGBA size=775x770 at 0x283A39B6080>\n",
      "<PIL.PngImagePlugin.PngImageFile image mode=RGBA size=775x770 at 0x283A51C9FC0>\n",
      "<PIL.PngImagePlugin.PngImageFile image mode=RGBA size=775x770 at 0x283A39B7340>\n",
      "<PIL.PngImagePlugin.PngImageFile image mode=RGBA size=775x770 at 0x283A51C99F0>\n",
      "<PIL.PngImagePlugin.PngImageFile image mode=RGBA size=775x770 at 0x283A39B6080>\n",
      "<PIL.PngImagePlugin.PngImageFile image mode=RGBA size=775x770 at 0x283A51C8760>\n",
      "<PIL.PngImagePlugin.PngImageFile image mode=RGBA size=775x770 at 0x283A39B7340>\n",
      "<PIL.PngImagePlugin.PngImageFile image mode=RGBA size=775x770 at 0x283A51C9FC0>\n",
      "<PIL.PngImagePlugin.PngImageFile image mode=RGBA size=775x770 at 0x283A39B6080>\n",
      "<PIL.PngImagePlugin.PngImageFile image mode=RGBA size=775x770 at 0x283A51C99F0>\n",
      "<PIL.PngImagePlugin.PngImageFile image mode=RGBA size=775x770 at 0x283A39B7340>\n",
      "<PIL.PngImagePlugin.PngImageFile image mode=RGBA size=775x770 at 0x283A51C9AE0>\n",
      "<PIL.PngImagePlugin.PngImageFile image mode=RGBA size=775x770 at 0x283A39B6080>\n",
      "<PIL.PngImagePlugin.PngImageFile image mode=RGBA size=775x770 at 0x283A51C8760>\n",
      "<PIL.PngImagePlugin.PngImageFile image mode=RGBA size=775x770 at 0x283A39B7340>\n",
      "<PIL.PngImagePlugin.PngImageFile image mode=RGBA size=775x770 at 0x283A51C9FC0>\n",
      "<PIL.PngImagePlugin.PngImageFile image mode=RGBA size=775x770 at 0x283A39B6080>\n",
      "<PIL.PngImagePlugin.PngImageFile image mode=RGBA size=775x770 at 0x283A51C99F0>\n",
      "<PIL.PngImagePlugin.PngImageFile image mode=RGBA size=775x770 at 0x283A39B7340>\n",
      "<PIL.PngImagePlugin.PngImageFile image mode=RGBA size=775x770 at 0x283A51C9AE0>\n",
      "<PIL.PngImagePlugin.PngImageFile image mode=RGBA size=775x770 at 0x283A39B6080>\n",
      "<PIL.PngImagePlugin.PngImageFile image mode=RGBA size=775x770 at 0x283A51C99F0>\n",
      "<PIL.PngImagePlugin.PngImageFile image mode=RGBA size=775x770 at 0x283A39B6080>\n",
      "<PIL.PngImagePlugin.PngImageFile image mode=RGBA size=775x770 at 0x283A51C9FC0>\n",
      "<PIL.PngImagePlugin.PngImageFile image mode=RGBA size=775x770 at 0x283A39B75E0>\n",
      "<PIL.PngImagePlugin.PngImageFile image mode=RGBA size=775x770 at 0x283A51C99F0>\n",
      "<PIL.PngImagePlugin.PngImageFile image mode=RGBA size=775x770 at 0x283A39B6080>\n",
      "<PIL.PngImagePlugin.PngImageFile image mode=RGBA size=775x770 at 0x283A51C9FC0>\n",
      "<PIL.PngImagePlugin.PngImageFile image mode=RGBA size=775x770 at 0x283A39B75E0>\n",
      "<PIL.PngImagePlugin.PngImageFile image mode=RGBA size=775x770 at 0x283A51C99F0>\n",
      "<PIL.PngImagePlugin.PngImageFile image mode=RGBA size=775x770 at 0x283A39B6080>\n",
      "<PIL.PngImagePlugin.PngImageFile image mode=RGBA size=775x770 at 0x283A51C9AE0>\n",
      "<PIL.PngImagePlugin.PngImageFile image mode=RGBA size=775x770 at 0x283A39B75E0>\n",
      "<PIL.PngImagePlugin.PngImageFile image mode=RGBA size=775x770 at 0x283A51C9FC0>\n",
      "<PIL.PngImagePlugin.PngImageFile image mode=RGBA size=775x770 at 0x283A39B6080>\n",
      "<PIL.PngImagePlugin.PngImageFile image mode=RGBA size=775x770 at 0x283A51C99F0>\n",
      "<PIL.PngImagePlugin.PngImageFile image mode=RGBA size=775x770 at 0x283A39B75E0>\n",
      "<PIL.PngImagePlugin.PngImageFile image mode=RGBA size=775x770 at 0x283A51C9FC0>\n",
      "<PIL.PngImagePlugin.PngImageFile image mode=RGBA size=775x770 at 0x283A39B6080>\n",
      "<PIL.PngImagePlugin.PngImageFile image mode=RGBA size=775x770 at 0x283A51C8760>\n",
      "<PIL.PngImagePlugin.PngImageFile image mode=RGBA size=775x770 at 0x283A39B75E0>\n",
      "<PIL.PngImagePlugin.PngImageFile image mode=RGBA size=775x770 at 0x283A51C9AE0>\n",
      "<PIL.PngImagePlugin.PngImageFile image mode=RGBA size=775x770 at 0x283A39B6080>\n",
      "<PIL.PngImagePlugin.PngImageFile image mode=RGBA size=775x770 at 0x283A51C99F0>\n",
      "<PIL.PngImagePlugin.PngImageFile image mode=RGBA size=775x770 at 0x283A39B75E0>\n",
      "<PIL.PngImagePlugin.PngImageFile image mode=RGBA size=775x770 at 0x283A51C9FC0>\n",
      "<PIL.PngImagePlugin.PngImageFile image mode=RGBA size=775x770 at 0x283A39B6080>\n",
      "<PIL.PngImagePlugin.PngImageFile image mode=RGBA size=775x770 at 0x283A51C9FC0>\n",
      "<PIL.PngImagePlugin.PngImageFile image mode=RGBA size=775x770 at 0x283A39B75E0>\n",
      "<PIL.PngImagePlugin.PngImageFile image mode=RGBA size=775x770 at 0x283A51C9AE0>\n",
      "<PIL.PngImagePlugin.PngImageFile image mode=RGBA size=775x770 at 0x283A39B6080>\n",
      "<PIL.PngImagePlugin.PngImageFile image mode=RGBA size=775x770 at 0x283A51C8760>\n",
      "<PIL.PngImagePlugin.PngImageFile image mode=RGBA size=775x770 at 0x283A39B75E0>\n",
      "<PIL.PngImagePlugin.PngImageFile image mode=RGBA size=775x770 at 0x283A51C9FC0>\n",
      "<PIL.PngImagePlugin.PngImageFile image mode=RGBA size=775x770 at 0x283A39B6080>\n",
      "<PIL.PngImagePlugin.PngImageFile image mode=RGBA size=775x770 at 0x283A51C99F0>\n",
      "<PIL.PngImagePlugin.PngImageFile image mode=RGBA size=775x770 at 0x283A39B6080>\n",
      "<PIL.PngImagePlugin.PngImageFile image mode=RGBA size=775x770 at 0x283A51C9FC0>\n",
      "<PIL.PngImagePlugin.PngImageFile image mode=RGBA size=775x770 at 0x283A39B6080>\n",
      "<PIL.PngImagePlugin.PngImageFile image mode=RGBA size=775x770 at 0x283A51C99F0>\n",
      "<PIL.PngImagePlugin.PngImageFile image mode=RGBA size=775x770 at 0x283A39B7340>\n",
      "<PIL.PngImagePlugin.PngImageFile image mode=RGBA size=775x770 at 0x283A51C9FC0>\n",
      "<PIL.PngImagePlugin.PngImageFile image mode=RGBA size=775x770 at 0x283A39B6080>\n",
      "<PIL.PngImagePlugin.PngImageFile image mode=RGBA size=775x770 at 0x283A51C99F0>\n",
      "<PIL.PngImagePlugin.PngImageFile image mode=RGBA size=775x770 at 0x283A39B7340>\n",
      "<PIL.PngImagePlugin.PngImageFile image mode=RGBA size=775x770 at 0x283A51C9AE0>\n",
      "<PIL.PngImagePlugin.PngImageFile image mode=RGBA size=775x770 at 0x283A39B6080>\n",
      "<PIL.PngImagePlugin.PngImageFile image mode=RGBA size=775x770 at 0x283A51C99F0>\n",
      "<PIL.PngImagePlugin.PngImageFile image mode=RGBA size=775x770 at 0x283A39B7340>\n"
     ]
    },
    {
     "ename": "RuntimeError",
     "evalue": "[enforce fail at ..\\c10\\core\\impl\\alloc_cpu.cpp:72] data. DefaultCPUAllocator: not enough memory: you tried to allocate 171864000 bytes.",
     "output_type": "error",
     "traceback": [
      "\u001B[1;31m---------------------------------------------------------------------------\u001B[0m",
      "\u001B[1;31mRuntimeError\u001B[0m                              Traceback (most recent call last)",
      "Cell \u001B[1;32mIn[8], line 18\u001B[0m\n\u001B[0;32m     16\u001B[0m         tensor \u001B[38;5;241m=\u001B[39m tensor_j\n\u001B[0;32m     17\u001B[0m     \u001B[38;5;28;01melse\u001B[39;00m:\n\u001B[1;32m---> 18\u001B[0m         tensor \u001B[38;5;241m=\u001B[39m \u001B[43mtorch\u001B[49m\u001B[38;5;241;43m.\u001B[39;49m\u001B[43mcat\u001B[49m\u001B[43m(\u001B[49m\u001B[43m(\u001B[49m\u001B[43mtensor\u001B[49m\u001B[43m,\u001B[49m\u001B[43m \u001B[49m\u001B[43mtensor_j\u001B[49m\u001B[43m)\u001B[49m\u001B[43m,\u001B[49m\u001B[43m \u001B[49m\u001B[38;5;241;43m0\u001B[39;49m\u001B[43m)\u001B[49m\n\u001B[0;32m     20\u001B[0m     tensor_list\u001B[38;5;241m.\u001B[39mappend(tensor)\n\u001B[0;32m     22\u001B[0m label\u001B[38;5;241m.\u001B[39mappend(file\u001B[38;5;241m.\u001B[39msplit(\u001B[38;5;124m'\u001B[39m\u001B[38;5;124m_\u001B[39m\u001B[38;5;124m'\u001B[39m)[\u001B[38;5;241m0\u001B[39m])\n",
      "\u001B[1;31mRuntimeError\u001B[0m: [enforce fail at ..\\c10\\core\\impl\\alloc_cpu.cpp:72] data. DefaultCPUAllocator: not enough memory: you tried to allocate 171864000 bytes."
     ]
    }
   ],
   "source": [
    "file_list = os.listdir('C:/Users/a1882/Desktop/EEG/eegdata_3000/slice_data')\n",
    "saved_path = os.getcwd()\n",
    "print(\"Current Working Directory is \" + saved_path)\n",
    "os.chdir(r\"C:\\Users\\a1882\\Desktop\\EEG\\eegdata_3000/spectrogram\")\n",
    "input_folder = 'C:/Users/a1882/Desktop/EEG/eegdata_3000/spectrogram'\n",
    "tensor_list = []\n",
    "label = []\n",
    "for file in file_list:\n",
    "    tensor = None\n",
    "    for i in range(32):\n",
    "        img_path = f'{input_folder}/{file}_{i}.png'\n",
    "        img = Image.open(img_path)\n",
    "        print(img)\n",
    "        tensor_j = transforms.ToTensor()(img)\n",
    "        if tensor is None:\n",
    "            tensor = tensor_j\n",
    "        else:\n",
    "            tensor = torch.cat((tensor, tensor_j), 0)\n",
    "\n",
    "        tensor_list.append(tensor)\n",
    "\n",
    "    label.append(file.split('_')[0])\n",
    "tensor = torch.stack(tensor_list)\n",
    "\n",
    "dataset = TensorDataset(tensor, label)"
   ],
   "metadata": {
    "collapsed": false
   }
  },
  {
   "cell_type": "code",
   "execution_count": null,
   "outputs": [],
   "source": [
    "# 定义训练集和验证集的比例\n",
    "train_ratio = 0.8 # 训练集比例\n",
    "val_ratio = 0.2 # 验证集比例\n",
    "\n",
    "# 计算训练集和验证集的大小\n",
    "train_size = int(train_ratio * len(dataset))\n",
    "val_size = len(dataset) - train_size\n"
   ],
   "metadata": {
    "collapsed": false
   }
  },
  {
   "cell_type": "code",
   "execution_count": null,
   "outputs": [],
   "source": [
    "# 对数据集进行随机划分\n",
    "train_dataset, val_dataset = random_split(dataset, [train_size, val_size])"
   ],
   "metadata": {
    "collapsed": false
   }
  },
  {
   "cell_type": "code",
   "execution_count": null,
   "outputs": [],
   "source": [
    "# 创建训练集和验证集的 DataLoader\n",
    "train_loader = DataLoader(train_dataset, batch_size=batch_size, shuffle=True)\n",
    "val_loader = DataLoader(val_dataset, batch_size=batch_size, shuffle=False)\n"
   ],
   "metadata": {
    "collapsed": false
   }
  }
 ],
 "metadata": {
  "kernelspec": {
   "display_name": "Python 3",
   "language": "python",
   "name": "python3"
  },
  "language_info": {
   "codemirror_mode": {
    "name": "ipython",
    "version": 2
   },
   "file_extension": ".py",
   "mimetype": "text/x-python",
   "name": "python",
   "nbconvert_exporter": "python",
   "pygments_lexer": "ipython2",
   "version": "2.7.6"
  }
 },
 "nbformat": 4,
 "nbformat_minor": 0
}
