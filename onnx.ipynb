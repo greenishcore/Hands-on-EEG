{
 "cells": [
  {
   "cell_type": "code",
   "execution_count": 228,
   "metadata": {
    "collapsed": true,
    "ExecuteTime": {
     "start_time": "2023-04-20T20:24:20.427982Z",
     "end_time": "2023-04-20T20:24:21.019961Z"
    }
   },
   "outputs": [],
   "source": [
    "import os\n",
    "import pandas as pd\n",
    "import numpy as np\n",
    "import matplotlib.pyplot as plt\n",
    "import torch\n",
    "import torch.nn as nn\n",
    "import torch.optim as optim\n",
    "from torch.utils.data import Dataset, DataLoader\n",
    "from torch.optim.lr_scheduler import StepLR"
   ]
  },
  {
   "cell_type": "code",
   "execution_count": 229,
   "outputs": [
    {
     "name": "stdout",
     "output_type": "stream",
     "text": [
      "Current Working Directory is C:\\Users\\a1882\\Desktop\\EEG\n",
      "lefthand_zyy_04_epocflex_2023.03.22t16.48.29+08.00.md.bp.csv_0.csv\n",
      "lefthand_zyy_04_epocflex_2023.03.22t16.48.29+08.00.md.bp.csv_2.csv\n",
      "lefthand_zyy_04_epocflex_2023.03.22t16.48.29+08.00.md.bp.csv_3.csv\n",
      "lefthand_zyy_04_epocflex_2023.03.22t16.48.29+08.00.md.bp.csv_4.csv\n",
      "lefthand_zyy_05_epocflex_2023.03.22t16.50.54+08.00.md.bp.csv_1.csv\n",
      "lefthand_zyy_05_epocflex_2023.03.22t16.50.54+08.00.md.bp.csv_2.csv\n",
      "read_bke_01_epocflex_2023.03.22t15.41.00+08.00.md.bp.csv_0.csv\n",
      "read_bke_01_epocflex_2023.03.22t15.41.00+08.00.md.bp.csv_2.csv\n",
      "read_bke_01_epocflex_2023.03.22t15.41.00+08.00.md.bp.csv_3.csv\n",
      "read_bke_01_epocflex_2023.03.22t15.41.00+08.00.md.bp.csv_4.csv\n",
      "read_bke_02_epocflex_2023.03.22t15.48.25+08.00.md.bp.csv_0.csv\n",
      "read_bke_02_epocflex_2023.03.22t15.48.25+08.00.md.bp.csv_1.csv\n",
      "read_bke_02_epocflex_2023.03.22t15.48.25+08.00.md.bp.csv_11.csv\n",
      "read_bke_02_epocflex_2023.03.22t15.48.25+08.00.md.bp.csv_14.csv\n",
      "read_bke_02_epocflex_2023.03.22t15.48.25+08.00.md.bp.csv_2.csv\n",
      "read_bke_02_epocflex_2023.03.22t15.48.25+08.00.md.bp.csv_4.csv\n",
      "read_bke_02_epocflex_2023.03.22t15.48.25+08.00.md.bp.csv_7.csv\n",
      "read_bke_02_epocflex_2023.03.22t15.48.25+08.00.md.bp.csv_9.csv\n",
      "read_bke_03_epocflex_2023.03.22t16.04.38+08.00.md.bp.csv_0.csv\n",
      "read_bke_03_epocflex_2023.03.22t16.04.38+08.00.md.bp.csv_2.csv\n",
      "read_bke_03_epocflex_2023.03.22t16.04.38+08.00.md.bp.csv_3.csv\n",
      "read_bke_04_epocflex_2023.03.22t16.07.02+08.00.md.bp.csv_0.csv\n",
      "read_bke_04_epocflex_2023.03.22t16.07.02+08.00.md.bp.csv_1.csv\n",
      "read_bke_05_epocflex_2023.03.22t16.09.28+08.00.md.bp.csv_0.csv\n",
      "read_bke_05_epocflex_2023.03.22t16.09.28+08.00.md.bp.csv_1.csv\n",
      "read_bke_05_epocflex_2023.03.22t16.09.28+08.00.md.bp.csv_2.csv\n",
      "read_bke_05_epocflex_2023.03.22t16.09.28+08.00.md.bp.csv_3.csv\n",
      "read_bke_05_epocflex_2023.03.22t16.09.28+08.00.md.bp.csv_4.csv\n",
      "rest_cp_epocflex_2023.03.26t14.28.21+08.00.md.bp.csv_0.csv\n",
      "rest_cp_epocflex_2023.03.26t14.28.21+08.00.md.bp.csv_1.csv\n",
      "rest_cp_epocflex_2023.03.26t14.28.21+08.00.md.bp.csv_3.csv\n",
      "rest_cp_epocflex_2023.03.26t14.28.21+08.00.md.bp.csv_4.csv\n",
      "rest_cp_epocflex_2023.03.26t14.30.40+08.00.md.bp.csv_0.csv\n",
      "rest_cp_epocflex_2023.03.26t14.30.40+08.00.md.bp.csv_4.csv\n",
      "rest_cp_epocflex_2023.03.26t14.32.55+08.00.md.bp.csv_1.csv\n",
      "rest_cp_epocflex_2023.03.26t14.32.55+08.00.md.bp.csv_2.csv\n",
      "rest_cp_epocflex_2023.03.26t14.32.55+08.00.md.bp.csv_4.csv\n",
      "rest_zyy_01_epocflex_179733_2023.03.18t09.39.31+08.00.md.bp.csv_0.csv\n",
      "rest_zyy_01_epocflex_179733_2023.03.18t09.39.31+08.00.md.bp.csv_1.csv\n",
      "rest_zyy_01_epocflex_179733_2023.03.18t09.39.31+08.00.md.bp.csv_2.csv\n",
      "rest_zyy_01_epocflex_179733_2023.03.18t09.39.31+08.00.md.bp.csv_3.csv\n",
      "rest_zyy_02_epocflex_179733_2023.03.18t09.43.21+08.00.md.bp.csv_2.csv\n",
      "rest_zyy_02_epocflex_179733_2023.03.18t09.43.21+08.00.md.bp.csv_3.csv\n",
      "rest_zyy_02_epocflex_179733_2023.03.18t09.43.21+08.00.md.bp.csv_4.csv\n",
      "rest_zyy_04_epocflex_2023.03.22t16.41.16+08.00.md.bp.csv_0.csv\n",
      "rest_zyy_04_epocflex_2023.03.22t16.41.16+08.00.md.bp.csv_2.csv\n",
      "rest_zyy_04_epocflex_2023.03.22t16.41.16+08.00.md.bp.csv_3.csv\n",
      "rest_zyy_05_epocflex_2023.03.22t16.43.35+08.00.md.bp.csv_0.csv\n",
      "rest_zyy_05_epocflex_2023.03.22t16.43.35+08.00.md.bp.csv_1.csv\n",
      "rest_zyy_05_epocflex_2023.03.22t16.43.35+08.00.md.bp.csv_2.csv\n",
      "rest_zyy_05_epocflex_2023.03.22t16.43.35+08.00.md.bp.csv_3.csv\n",
      "rest_zyy_05_epocflex_2023.03.22t16.43.35+08.00.md.bp.csv_4.csv\n",
      "rest_zyy_06_epocflex_2023.03.22t16.46.00+08.00.md.bp.csv_0.csv\n",
      "rest_zyy_06_epocflex_2023.03.22t16.46.00+08.00.md.bp.csv_1.csv\n",
      "rest_zyy_06_epocflex_2023.03.22t16.46.00+08.00.md.bp.csv_2.csv\n",
      "rest_zyy_06_epocflex_2023.03.22t16.46.00+08.00.md.bp.csv_3.csv\n",
      "rest_zyy_06_epocflex_2023.03.22t16.46.00+08.00.md.bp.csv_4.csv\n",
      "rest_zyy_epocflex_2023.03.26t15.20.49+08.00.md.bp.csv_0.csv\n",
      "rest_zyy_epocflex_2023.03.26t15.20.49+08.00.md.bp.csv_2.csv\n",
      "rest_zyy_epocflex_2023.03.26t15.20.49+08.00.md.bp.csv_3.csv\n",
      "rest_zyy_epocflex_2023.03.26t15.23.18+08.00.md.bp.csv_0.csv\n",
      "rest_zyy_epocflex_2023.03.26t15.23.18+08.00.md.bp.csv_2.csv\n",
      "rest_zyy_epocflex_2023.03.26t15.23.18+08.00.md.bp.csv_3.csv\n",
      "rest_zyy_epocflex_2023.03.26t15.26.19+08.00.md.bp.csv_0.csv\n",
      "rest_zyy_epocflex_2023.03.26t15.26.19+08.00.md.bp.csv_1.csv\n",
      "rest_zyy_epocflex_2023.03.26t15.26.19+08.00.md.bp.csv_2.csv\n",
      "walkbase_bke_01_epocflex_2023.03.22t15.55.54+08.00.md.bp.csv_0.csv\n",
      "walkbase_bke_01_epocflex_2023.03.22t15.55.54+08.00.md.bp.csv_1.csv\n",
      "walkbase_bke_01_epocflex_2023.03.22t15.55.54+08.00.md.bp.csv_2.csv\n",
      "walkbase_cp_epocflex_2023.03.26t14.00.39+08.00.md.bp.csv_1.csv\n",
      "walkbase_cp_epocflex_2023.03.26t14.00.39+08.00.md.bp.csv_2.csv\n",
      "walkbase_cp_epocflex_2023.03.26t14.00.39+08.00.md.bp.csv_4.csv\n",
      "walkbase_cp_epocflex_2023.03.26t14.03.07+08.00.md.bp.csv_0.csv\n",
      "walkbase_cp_epocflex_2023.03.26t14.03.07+08.00.md.bp.csv_2.csv\n",
      "walkbase_zyy_01_epocflex_2023.03.22t16.23.52+08.00.md.bp.csv_0.csv\n",
      "walkbase_zyy_01_epocflex_2023.03.22t16.23.52+08.00.md.bp.csv_3.csv\n",
      "walkbase_zyy_01_epocflex_2023.03.22t16.23.52+08.00.md.bp.csv_4.csv\n",
      "walkbase_zyy_02_epocflex_2023.03.22t16.26.47+08.00.md.bp.csv_0.csv\n",
      "walkbase_zyy_02_epocflex_2023.03.22t16.26.47+08.00.md.bp.csv_1.csv\n",
      "walkbase_zyy_03_epocflex_2023.03.22t16.29.13+08.00.md.bp.csv_0.csv\n",
      "walkbase_zyy_03_epocflex_2023.03.22t16.29.13+08.00.md.bp.csv_1.csv\n",
      "walkbase_zyy_03_epocflex_2023.03.22t16.29.13+08.00.md.bp.csv_2.csv\n",
      "walkbase_zyy_03_epocflex_2023.03.22t16.29.13+08.00.md.bp.csv_3.csv\n",
      "walkbase_zyy_03_epocflex_2023.03.22t16.29.13+08.00.md.bp.csv_4.csv\n",
      "walkbase_zyy_epocflex_2023.03.26t13.57.27+08.00.md.bp.csv_0.csv\n",
      "walkbase_zyy_epocflex_2023.03.26t13.57.27+08.00.md.bp.csv_3.csv\n",
      "walkbase_zyy_epocflex_2023.03.26t13.57.27+08.00.md.bp.csv_4.csv\n",
      "walkbase_zyy_epocflex_2023.03.26t14.48.56+08.00.md.bp.csv_1.csv\n",
      "walkbase_zyy_epocflex_2023.03.26t14.48.56+08.00.md.bp.csv_2.csv\n",
      "walkbase_zyy_epocflex_2023.03.26t14.48.56+08.00.md.bp.csv_3.csv\n",
      "walkbase_zyy_epocflex_2023.03.26t14.51.36+08.00.md.bp.csv_0.csv\n",
      "walkbase_zyy_epocflex_2023.03.26t14.51.36+08.00.md.bp.csv_1.csv\n",
      "walkbase_zyy_epocflex_2023.03.26t14.51.36+08.00.md.bp.csv_2.csv\n",
      "walkbase_zyy_epocflex_2023.03.26t14.54.14+08.00.md.bp.csv_0.csv\n",
      "walkbase_zyy_epocflex_2023.03.26t14.54.14+08.00.md.bp.csv_2.csv\n",
      "walkbase_zyy_epocflex_2023.03.26t14.54.14+08.00.md.bp.csv_3.csv\n",
      "walkbase_zyy_epocflex_2023.03.26t14.54.14+08.00.md.bp.csv_4.csv\n",
      "walkfocus_cp_epocflex_2023.03.26t14.16.45+08.00.md.bp.csv_0.csv\n",
      "walkfocus_cp_epocflex_2023.03.26t14.16.45+08.00.md.bp.csv_1.csv\n",
      "walkfocus_cp_epocflex_2023.03.26t14.16.45+08.00.md.bp.csv_2.csv\n",
      "walkfocus_cp_epocflex_2023.03.26t14.16.45+08.00.md.bp.csv_3.csv\n",
      "walkfocus_cp_epocflex_2023.03.26t14.23.07+08.00.md.bp.csv_0.csv\n",
      "walkfocus_cp_epocflex_2023.03.26t14.23.07+08.00.md.bp.csv_1.csv\n",
      "walkfocus_cp_epocflex_2023.03.26t14.23.07+08.00.md.bp.csv_2.csv\n",
      "walkfocus_cp_epocflex_2023.03.26t14.23.07+08.00.md.bp.csv_3.csv\n",
      "walkfocus_cp_epocflex_2023.03.26t14.25.49+08.00.md.bp.csv_0.csv\n",
      "walkfocus_cp_epocflex_2023.03.26t14.25.49+08.00.md.bp.csv_1.csv\n",
      "walkfocus_cp_epocflex_2023.03.26t14.25.49+08.00.md.bp.csv_2.csv\n",
      "walkfocus_cp_epocflex_2023.03.26t14.25.49+08.00.md.bp.csv_3.csv\n",
      "walkfocus_cp_epocflex_2023.03.26t14.25.49+08.00.md.bp.csv_4.csv\n",
      "walkfocus_zyy_epocflex_2023.03.26t15.07.27+08.00.md.bp.csv_0.csv\n",
      "walkfocus_zyy_epocflex_2023.03.26t15.07.27+08.00.md.bp.csv_1.csv\n",
      "walkfocus_zyy_epocflex_2023.03.26t15.07.27+08.00.md.bp.csv_2.csv\n",
      "walkfocus_zyy_epocflex_2023.03.26t15.07.27+08.00.md.bp.csv_4.csv\n",
      "walkfocus_zyy_epocflex_2023.03.26t15.11.11+08.00.md.bp.csv_0.csv\n",
      "walkfocus_zyy_epocflex_2023.03.26t15.11.11+08.00.md.bp.csv_2.csv\n",
      "walkfocus_zyy_epocflex_2023.03.26t15.11.11+08.00.md.bp.csv_3.csv\n",
      "walkfocus_zyy_epocflex_2023.03.26t15.13.31+08.00.md.bp.csv_0.csv\n",
      "walkfocus_zyy_epocflex_2023.03.26t15.13.31+08.00.md.bp.csv_1.csv\n",
      "walkfocus_zyy_epocflex_2023.03.26t15.13.31+08.00.md.bp.csv_3.csv\n",
      "walkfocus_zyy_epocflex_2023.03.26t15.15.53+08.00.md.bp.csv_0.csv\n",
      "walkfocus_zyy_epocflex_2023.03.26t15.15.53+08.00.md.bp.csv_1.csv\n",
      "walkfocus_zyy_epocflex_2023.03.26t15.15.53+08.00.md.bp.csv_2.csv\n",
      "walkfocus_zyy_epocflex_2023.03.26t15.18.08+08.00.md.bp.csv_1.csv\n",
      "walkfocus_zyy_epocflex_2023.03.26t15.18.08+08.00.md.bp.csv_3.csv\n",
      "walkl_bke_01_epocflex_2023.03.22t16.00.31+08.00.md.bp.csv_0.csv\n",
      "walkl_bke_01_epocflex_2023.03.22t16.00.31+08.00.md.bp.csv_1.csv\n",
      "walkl_bke_01_epocflex_2023.03.22t16.00.31+08.00.md.bp.csv_2.csv\n",
      "walkl_bke_01_epocflex_2023.03.22t16.00.31+08.00.md.bp.csv_3.csv\n",
      "walkl_cp_epocflex_2023.03.26t14.07.56+08.00.md.bp.csv_0.csv\n",
      "walkl_cp_epocflex_2023.03.26t14.07.56+08.00.md.bp.csv_1.csv\n",
      "walkl_cp_epocflex_2023.03.26t14.07.56+08.00.md.bp.csv_2.csv\n",
      "walkl_cp_epocflex_2023.03.26t14.07.56+08.00.md.bp.csv_3.csv\n",
      "walkl_cp_epocflex_2023.03.26t14.10.32+08.00.md.bp.csv_0.csv\n",
      "walkl_cp_epocflex_2023.03.26t14.10.32+08.00.md.bp.csv_1.csv\n",
      "walkl_cp_epocflex_2023.03.26t14.10.32+08.00.md.bp.csv_3.csv\n",
      "walkl_cp_epocflex_2023.03.26t14.10.32+08.00.md.bp.csv_4.csv\n",
      "walkl_cp_epocflex_2023.03.26t14.13.37+08.00.md.bp.csv_0.csv\n",
      "walkl_cp_epocflex_2023.03.26t14.13.37+08.00.md.bp.csv_1.csv\n",
      "walkl_cp_epocflex_2023.03.26t14.13.37+08.00.md.bp.csv_3.csv\n",
      "walkl_zyy_01_epocflex_2023.03.22t16.31.47+08.00.md.bp.csv_0.csv\n",
      "walkl_zyy_01_epocflex_2023.03.22t16.32.42+08.00.md.bp.csv_0.csv\n",
      "walkl_zyy_01_epocflex_2023.03.22t16.32.42+08.00.md.bp.csv_1.csv\n",
      "walkl_zyy_01_epocflex_2023.03.22t16.32.42+08.00.md.bp.csv_2.csv\n",
      "walkl_zyy_01_epocflex_2023.03.22t16.32.42+08.00.md.bp.csv_4.csv\n",
      "walkl_zyy_02_epocflex_2023.03.22t16.35.38+08.00.md.bp.csv_1.csv\n",
      "walkl_zyy_02_epocflex_2023.03.22t16.35.38+08.00.md.bp.csv_2.csv\n",
      "walkl_zyy_02_epocflex_2023.03.22t16.35.38+08.00.md.bp.csv_4.csv\n",
      "walkl_zyy_02_epocflex_2023.03.22t16.35.38+08.00.md.bp.csv_5.csv\n",
      "walkl_zyy_02_epocflex_2023.03.22t16.35.38+08.00.md.bp.csv_6.csv\n",
      "walkl_zyy_02_epocflex_2023.03.22t16.35.38+08.00.md.bp.csv_7.csv\n",
      "walkl_zyy_02_epocflex_2023.03.22t16.35.38+08.00.md.bp.csv_8.csv\n",
      "walkl_zyy_epocflex_2023.03.26t14.58.03+08.00.md.bp.csv_0.csv\n",
      "walkl_zyy_epocflex_2023.03.26t14.58.03+08.00.md.bp.csv_1.csv\n",
      "walkl_zyy_epocflex_2023.03.26t14.58.03+08.00.md.bp.csv_2.csv\n",
      "walkl_zyy_epocflex_2023.03.26t14.58.03+08.00.md.bp.csv_5.csv\n",
      "walkl_zyy_epocflex_2023.03.26t15.01.30+08.00.md.bp.csv_1.csv\n",
      "walkl_zyy_epocflex_2023.03.26t15.01.30+08.00.md.bp.csv_2.csv\n",
      "walkl_zyy_epocflex_2023.03.26t15.01.30+08.00.md.bp.csv_3.csv\n",
      "walkl_zyy_epocflex_2023.03.26t15.01.30+08.00.md.bp.csv_4.csv\n",
      "walkl_zyy_epocflex_2023.03.26t15.04.11+08.00.md.bp.csv_1.csv\n"
     ]
    }
   ],
   "source": [
    "train_file_list = os.listdir('C:/Users/a1882/Desktop/EEG/eegdata_3000/train')\n",
    "saved_path = os.getcwd()\n",
    "print(\"Current Working Directory is \" + saved_path)\n",
    "os.chdir(r\"C:\\Users\\a1882\\Desktop\\EEG\\eegdata_3000\\train\")\n",
    "for train_file_name in train_file_list:\n",
    "    print(train_file_name)\n",
    "os.chdir(saved_path)"
   ],
   "metadata": {
    "collapsed": false,
    "ExecuteTime": {
     "start_time": "2023-04-20T20:24:20.444987Z",
     "end_time": "2023-04-20T20:24:21.026954Z"
    }
   }
  },
  {
   "cell_type": "code",
   "execution_count": 230,
   "outputs": [
    {
     "name": "stdout",
     "output_type": "stream",
     "text": [
      "['lefthand', 'lefthand', 'lefthand', 'lefthand', 'lefthand', 'lefthand', 'read', 'read', 'read', 'read', 'read', 'read', 'read', 'read', 'read', 'read', 'read', 'read', 'read', 'read', 'read', 'read', 'read', 'read', 'read', 'read', 'read', 'read', 'rest', 'rest', 'rest', 'rest', 'rest', 'rest', 'rest', 'rest', 'rest', 'rest', 'rest', 'rest', 'rest', 'rest', 'rest', 'rest', 'rest', 'rest', 'rest', 'rest', 'rest', 'rest', 'rest', 'rest', 'rest', 'rest', 'rest', 'rest', 'rest', 'rest', 'rest', 'rest', 'rest', 'rest', 'rest', 'rest', 'rest', 'rest', 'walkbase', 'walkbase', 'walkbase', 'walkbase', 'walkbase', 'walkbase', 'walkbase', 'walkbase', 'walkbase', 'walkbase', 'walkbase', 'walkbase', 'walkbase', 'walkbase', 'walkbase', 'walkbase', 'walkbase', 'walkbase', 'walkbase', 'walkbase', 'walkbase', 'walkbase', 'walkbase', 'walkbase', 'walkbase', 'walkbase', 'walkbase', 'walkbase', 'walkbase', 'walkbase', 'walkbase', 'walkfocus', 'walkfocus', 'walkfocus', 'walkfocus', 'walkfocus', 'walkfocus', 'walkfocus', 'walkfocus', 'walkfocus', 'walkfocus', 'walkfocus', 'walkfocus', 'walkfocus', 'walkfocus', 'walkfocus', 'walkfocus', 'walkfocus', 'walkfocus', 'walkfocus', 'walkfocus', 'walkfocus', 'walkfocus', 'walkfocus', 'walkfocus', 'walkfocus', 'walkfocus', 'walkfocus', 'walkfocus', 'walkl', 'walkl', 'walkl', 'walkl', 'walkl', 'walkl', 'walkl', 'walkl', 'walkl', 'walkl', 'walkl', 'walkl', 'walkl', 'walkl', 'walkl', 'walkl', 'walkl', 'walkl', 'walkl', 'walkl', 'walkl', 'walkl', 'walkl', 'walkl', 'walkl', 'walkl', 'walkl', 'walkl', 'walkl', 'walkl', 'walkl', 'walkl', 'walkl', 'walkl', 'walkl', 'walkl']\n",
      "lefthand\n"
     ]
    }
   ],
   "source": [
    "train_labels = []\n",
    "for train_file_name in train_file_list:\n",
    "    train_labels.append(train_file_name.split('_')[0])\n",
    "\n",
    "print(train_labels)\n",
    "print(train_labels[3])\n",
    "\n",
    "label_map = {'lefthand': 0, 'read': 1, 'rest': 2, 'walkbase': 3, 'walkl': 4 ,'walkfocus': 5}\n",
    "\n",
    "encode_labels  = [label_map[train_label] for train_label in train_labels]\n",
    "\n",
    "train_label = torch.tensor(encode_labels, dtype=torch.int64)"
   ],
   "metadata": {
    "collapsed": false,
    "ExecuteTime": {
     "start_time": "2023-04-20T20:24:20.504536Z",
     "end_time": "2023-04-20T20:24:21.027951Z"
    }
   }
  },
  {
   "cell_type": "code",
   "execution_count": 231,
   "outputs": [
    {
     "name": "stdout",
     "output_type": "stream",
     "text": [
      "Current Working Directory is C:\\Users\\a1882\\Desktop\\EEG\n",
      "lefthand_zyy_04_epocflex_2023.03.22t16.48.29+08.00.md.bp.csv_1.csv\n",
      "lefthand_zyy_05_epocflex_2023.03.22t16.50.54+08.00.md.bp.csv_0.csv\n",
      "lefthand_zyy_05_epocflex_2023.03.22t16.50.54+08.00.md.bp.csv_3.csv\n",
      "lefthand_zyy_05_epocflex_2023.03.22t16.50.54+08.00.md.bp.csv_4.csv\n",
      "read_bke_01_epocflex_2023.03.22t15.41.00+08.00.md.bp.csv_1.csv\n",
      "read_bke_02_epocflex_2023.03.22t15.48.25+08.00.md.bp.csv_10.csv\n",
      "read_bke_02_epocflex_2023.03.22t15.48.25+08.00.md.bp.csv_12.csv\n",
      "read_bke_02_epocflex_2023.03.22t15.48.25+08.00.md.bp.csv_13.csv\n",
      "read_bke_02_epocflex_2023.03.22t15.48.25+08.00.md.bp.csv_3.csv\n",
      "read_bke_02_epocflex_2023.03.22t15.48.25+08.00.md.bp.csv_5.csv\n",
      "read_bke_02_epocflex_2023.03.22t15.48.25+08.00.md.bp.csv_6.csv\n",
      "read_bke_02_epocflex_2023.03.22t15.48.25+08.00.md.bp.csv_8.csv\n",
      "read_bke_03_epocflex_2023.03.22t16.04.38+08.00.md.bp.csv_1.csv\n",
      "read_bke_04_epocflex_2023.03.22t16.07.02+08.00.md.bp.csv_2.csv\n",
      "read_bke_04_epocflex_2023.03.22t16.07.02+08.00.md.bp.csv_3.csv\n",
      "read_bke_04_epocflex_2023.03.22t16.07.02+08.00.md.bp.csv_4.csv\n",
      "rest_cp_epocflex_2023.03.26t14.28.21+08.00.md.bp.csv_2.csv\n",
      "rest_cp_epocflex_2023.03.26t14.30.40+08.00.md.bp.csv_1.csv\n",
      "rest_cp_epocflex_2023.03.26t14.30.40+08.00.md.bp.csv_2.csv\n",
      "rest_cp_epocflex_2023.03.26t14.30.40+08.00.md.bp.csv_3.csv\n",
      "rest_cp_epocflex_2023.03.26t14.32.55+08.00.md.bp.csv_0.csv\n",
      "rest_cp_epocflex_2023.03.26t14.32.55+08.00.md.bp.csv_3.csv\n",
      "rest_zyy_01_epocflex_179733_2023.03.18t09.39.31+08.00.md.bp.csv_4.csv\n",
      "rest_zyy_02_epocflex_179733_2023.03.18t09.43.21+08.00.md.bp.csv_0.csv\n",
      "rest_zyy_02_epocflex_179733_2023.03.18t09.43.21+08.00.md.bp.csv_1.csv\n",
      "rest_zyy_04_epocflex_2023.03.22t16.41.16+08.00.md.bp.csv_1.csv\n",
      "rest_zyy_04_epocflex_2023.03.22t16.41.16+08.00.md.bp.csv_4.csv\n",
      "rest_zyy_epocflex_2023.03.26t15.20.49+08.00.md.bp.csv_1.csv\n",
      "rest_zyy_epocflex_2023.03.26t15.20.49+08.00.md.bp.csv_4.csv\n",
      "rest_zyy_epocflex_2023.03.26t15.23.18+08.00.md.bp.csv_1.csv\n",
      "rest_zyy_epocflex_2023.03.26t15.23.18+08.00.md.bp.csv_4.csv\n",
      "walkbase_bke_01_epocflex_2023.03.22t15.55.54+08.00.md.bp.csv_3.csv\n",
      "walkbase_cp_epocflex_2023.03.26t14.00.39+08.00.md.bp.csv_0.csv\n",
      "walkbase_cp_epocflex_2023.03.26t14.00.39+08.00.md.bp.csv_3.csv\n",
      "walkbase_cp_epocflex_2023.03.26t14.03.07+08.00.md.bp.csv_1.csv\n",
      "walkbase_cp_epocflex_2023.03.26t14.03.07+08.00.md.bp.csv_3.csv\n",
      "walkbase_cp_epocflex_2023.03.26t14.03.07+08.00.md.bp.csv_4.csv\n",
      "walkbase_zyy_01_epocflex_2023.03.22t16.23.52+08.00.md.bp.csv_1.csv\n",
      "walkbase_zyy_01_epocflex_2023.03.22t16.23.52+08.00.md.bp.csv_2.csv\n",
      "walkbase_zyy_02_epocflex_2023.03.22t16.26.47+08.00.md.bp.csv_2.csv\n",
      "walkbase_zyy_02_epocflex_2023.03.22t16.26.47+08.00.md.bp.csv_3.csv\n",
      "walkbase_zyy_epocflex_2023.03.26t13.57.27+08.00.md.bp.csv_1.csv\n",
      "walkbase_zyy_epocflex_2023.03.26t13.57.27+08.00.md.bp.csv_2.csv\n",
      "walkbase_zyy_epocflex_2023.03.26t14.48.56+08.00.md.bp.csv_0.csv\n",
      "walkbase_zyy_epocflex_2023.03.26t14.48.56+08.00.md.bp.csv_4.csv\n",
      "walkbase_zyy_epocflex_2023.03.26t14.51.36+08.00.md.bp.csv_3.csv\n",
      "walkbase_zyy_epocflex_2023.03.26t14.54.14+08.00.md.bp.csv_1.csv\n",
      "walkfocus_cp_epocflex_2023.03.26t14.23.07+08.00.md.bp.csv_4.csv\n",
      "walkfocus_zyy_epocflex_2023.03.26t15.07.27+08.00.md.bp.csv_3.csv\n",
      "walkfocus_zyy_epocflex_2023.03.26t15.11.11+08.00.md.bp.csv_1.csv\n",
      "walkfocus_zyy_epocflex_2023.03.26t15.11.11+08.00.md.bp.csv_4.csv\n",
      "walkfocus_zyy_epocflex_2023.03.26t15.13.31+08.00.md.bp.csv_2.csv\n",
      "walkfocus_zyy_epocflex_2023.03.26t15.15.53+08.00.md.bp.csv_3.csv\n",
      "walkfocus_zyy_epocflex_2023.03.26t15.18.08+08.00.md.bp.csv_0.csv\n",
      "walkfocus_zyy_epocflex_2023.03.26t15.18.08+08.00.md.bp.csv_2.csv\n",
      "walkl_cp_epocflex_2023.03.26t14.07.56+08.00.md.bp.csv_4.csv\n",
      "walkl_cp_epocflex_2023.03.26t14.10.32+08.00.md.bp.csv_2.csv\n",
      "walkl_cp_epocflex_2023.03.26t14.13.37+08.00.md.bp.csv_2.csv\n",
      "walkl_cp_epocflex_2023.03.26t14.13.37+08.00.md.bp.csv_4.csv\n",
      "walkl_zyy_01_epocflex_2023.03.22t16.32.42+08.00.md.bp.csv_3.csv\n",
      "walkl_zyy_02_epocflex_2023.03.22t16.35.38+08.00.md.bp.csv_0.csv\n",
      "walkl_zyy_02_epocflex_2023.03.22t16.35.38+08.00.md.bp.csv_3.csv\n",
      "walkl_zyy_02_epocflex_2023.03.22t16.35.38+08.00.md.bp.csv_9.csv\n",
      "walkl_zyy_epocflex_2023.03.26t14.58.03+08.00.md.bp.csv_3.csv\n",
      "walkl_zyy_epocflex_2023.03.26t14.58.03+08.00.md.bp.csv_4.csv\n",
      "walkl_zyy_epocflex_2023.03.26t15.01.30+08.00.md.bp.csv_0.csv\n",
      "walkl_zyy_epocflex_2023.03.26t15.04.11+08.00.md.bp.csv_0.csv\n",
      "walkl_zyy_epocflex_2023.03.26t15.04.11+08.00.md.bp.csv_2.csv\n",
      "walkl_zyy_epocflex_2023.03.26t15.04.11+08.00.md.bp.csv_3.csv\n"
     ]
    }
   ],
   "source": [
    "valid_file_list = os.listdir('C:/Users/a1882/Desktop/EEG/eegdata_3000/validation')\n",
    "saved_path = os.getcwd()\n",
    "print(\"Current Working Directory is \" + saved_path)\n",
    "os.chdir(r\"C:\\Users\\a1882\\Desktop\\EEG\\eegdata_3000\\validation\")\n",
    "for valid_file_name in valid_file_list:\n",
    "    print(valid_file_name)\n",
    "os.chdir(saved_path)"
   ],
   "metadata": {
    "collapsed": false,
    "ExecuteTime": {
     "start_time": "2023-04-20T20:24:20.553215Z",
     "end_time": "2023-04-20T20:24:21.028954Z"
    }
   }
  },
  {
   "cell_type": "code",
   "execution_count": 232,
   "outputs": [
    {
     "name": "stdout",
     "output_type": "stream",
     "text": [
      "['lefthand', 'lefthand', 'lefthand', 'lefthand', 'read', 'read', 'read', 'read', 'read', 'read', 'read', 'read', 'read', 'read', 'read', 'read', 'rest', 'rest', 'rest', 'rest', 'rest', 'rest', 'rest', 'rest', 'rest', 'rest', 'rest', 'rest', 'rest', 'rest', 'rest', 'walkbase', 'walkbase', 'walkbase', 'walkbase', 'walkbase', 'walkbase', 'walkbase', 'walkbase', 'walkbase', 'walkbase', 'walkbase', 'walkbase', 'walkbase', 'walkbase', 'walkbase', 'walkbase', 'walkfocus', 'walkfocus', 'walkfocus', 'walkfocus', 'walkfocus', 'walkfocus', 'walkfocus', 'walkfocus', 'walkl', 'walkl', 'walkl', 'walkl', 'walkl', 'walkl', 'walkl', 'walkl', 'walkl', 'walkl', 'walkl', 'walkl', 'walkl', 'walkl']\n",
      "lefthand\n",
      "tensor([0, 0, 0, 0, 1, 1, 1, 1, 1, 1, 1, 1, 1, 1, 1, 1, 2, 2, 2, 2, 2, 2, 2, 2,\n",
      "        2, 2, 2, 2, 2, 2, 2, 3, 3, 3, 3, 3, 3, 3, 3, 3, 3, 3, 3, 3, 3, 3, 3, 5,\n",
      "        5, 5, 5, 5, 5, 5, 5, 4, 4, 4, 4, 4, 4, 4, 4, 4, 4, 4, 4, 4, 4])\n"
     ]
    }
   ],
   "source": [
    "valid_labels = []\n",
    "for valid_file_name in valid_file_list:\n",
    "    valid_labels.append(valid_file_name.split('_')[0])\n",
    "\n",
    "print(valid_labels)\n",
    "print(valid_labels[3])\n",
    "\n",
    "label_map = {'lefthand': 0, 'read': 1, 'rest': 2, 'walkbase': 3, 'walkl': 4 ,'walkfocus': 5}\n",
    "\n",
    "encode_labels  = [label_map[valid_label] for valid_label in valid_labels]\n",
    "\n",
    "valid_label = torch.tensor(encode_labels, dtype=torch.int64)\n",
    "print(valid_label)"
   ],
   "metadata": {
    "collapsed": false,
    "ExecuteTime": {
     "start_time": "2023-04-20T20:24:20.604764Z",
     "end_time": "2023-04-20T20:24:21.029955Z"
    }
   }
  },
  {
   "cell_type": "code",
   "execution_count": 233,
   "outputs": [
    {
     "name": "stdout",
     "output_type": "stream",
     "text": [
      "6\n",
      "6\n"
     ]
    }
   ],
   "source": [
    "train_unique_objects = set(train_labels)\n",
    "train_class_number = len(train_unique_objects)\n",
    "print(train_class_number)\n",
    "\n",
    "valid_unique_objects = set(valid_labels)\n",
    "valid_class_number = len(valid_unique_objects)\n",
    "print(valid_class_number)"
   ],
   "metadata": {
    "collapsed": false,
    "ExecuteTime": {
     "start_time": "2023-04-20T20:24:20.689785Z",
     "end_time": "2023-04-20T20:24:21.030952Z"
    }
   }
  },
  {
   "cell_type": "code",
   "execution_count": 234,
   "outputs": [],
   "source": [
    "import os\n",
    "import pandas as pd\n",
    "import torch\n",
    "import torch.nn as nn\n",
    "import torch.optim as optim\n",
    "from torch.utils.data import Dataset, DataLoader\n",
    "\n",
    "class EEGDataset(Dataset):\n",
    "    def __init__(self, filelist, root_dir,data_label,transform=None):\n",
    "        self.filelist = filelist\n",
    "        self.root_dir = root_dir\n",
    "        self.data_label = data_label\n",
    "        self.transform = transform\n",
    "\n",
    "\n",
    "    def __len__(self):\n",
    "        return len(self.filelist)\n",
    "\n",
    "    def __getitem__(self, index):\n",
    "        #print('index:', index, 'len(self.filelist):', len(self.filelist), 'len(self.data_label):', len(self.data_label))\n",
    "        data_label = self.data_label[index]\n",
    "        file_path = os.path.join(self.root_dir, self.filelist[index])\n",
    "        eeg_data = np.array(pd.read_csv(file_path))\n",
    "        return eeg_data, data_label"
   ],
   "metadata": {
    "collapsed": false,
    "ExecuteTime": {
     "start_time": "2023-04-20T20:24:20.723315Z",
     "end_time": "2023-04-20T20:24:21.030952Z"
    }
   }
  },
  {
   "cell_type": "code",
   "execution_count": 235,
   "outputs": [],
   "source": [
    "class EEGNet(nn.Module):\n",
    "    def __init__(self, num_classes=train_class_number):\n",
    "        super(EEGNet, self).__init__()\n",
    "        self.conv1 = nn.Conv2d(1, 16, kernel_size=(1, 4), stride=(1, 2))\n",
    "        self.bn1 = nn.BatchNorm2d(16, eps=1e-05, momentum=0.1, affine=True, track_running_stats=True)\n",
    "        self.pool1 = nn.MaxPool2d(kernel_size=(1, 4), stride=(1, 4))\n",
    "        self.dropout1 = nn.Dropout(p=0.25)\n",
    "        self.conv2 = nn.Conv2d(16, 32, kernel_size=(1, 2), stride=(1, 2))\n",
    "        self.bn2 = nn.BatchNorm2d(32, eps=1e-05, momentum=0.1, affine=True, track_running_stats=True)\n",
    "        self.pool2 = nn.MaxPool2d(kernel_size=(1, 4), stride=(1, 4))\n",
    "        self.dropout2 = nn.Dropout(p=0.25)\n",
    "        self.fc1 = nn.Linear(47104, 128)\n",
    "        self.dropout3 = nn.Dropout(p=0.5)\n",
    "        self.fc2 = nn.Linear(128, 6)\n",
    "\n",
    "\n",
    "    def forward(self, x):\n",
    "        x = torch.unsqueeze(x, 1)\n",
    "        #print('x:', x.shape)\n",
    "        x = self.conv1(x)\n",
    "        #print('conv1:', x.shape)\n",
    "        x = self.bn1(x)\n",
    "        x = torch.relu(x)\n",
    "        x = self.pool1(x)\n",
    "        x = self.dropout1(x)\n",
    "        x = self.conv2(x)\n",
    "        #print('conv2:', x.shape)\n",
    "        x = self.bn2(x)\n",
    "        x = torch.relu(x)\n",
    "        x = self.pool2(x)\n",
    "        x = self.dropout2(x)\n",
    "        x = x.view(x.size(0), -1)\n",
    "        #print('flatten:', x.shape)\n",
    "        x = self.fc1(x)\n",
    "        x = torch.relu(x)\n",
    "        x = self.dropout3(x)\n",
    "        x = self.fc2(x)\n",
    "        return x\n",
    "\n",
    "# model = EEGNet()"
   ],
   "metadata": {
    "collapsed": false,
    "ExecuteTime": {
     "start_time": "2023-04-20T20:24:20.767312Z",
     "end_time": "2023-04-20T20:24:21.030952Z"
    }
   }
  },
  {
   "cell_type": "code",
   "execution_count": 236,
   "outputs": [
    {
     "name": "stdout",
     "output_type": "stream",
     "text": [
      "torch.Size([1, 6])\n"
     ]
    }
   ],
   "source": [
    "X = torch.randn(size=( 1, 32, 3000), dtype=torch.float32)\n",
    "model = EEGNet()\n",
    "output = model(X)\n",
    "print(output.shape)"
   ],
   "metadata": {
    "collapsed": false,
    "ExecuteTime": {
     "start_time": "2023-04-20T20:24:20.804850Z",
     "end_time": "2023-04-20T20:24:21.068955Z"
    }
   }
  },
  {
   "cell_type": "code",
   "execution_count": 237,
   "outputs": [],
   "source": [
    "train_dataset = EEGDataset(train_file_list, 'C:/Users/a1882/Desktop/EEG/eegdata_3000/train', train_label)\n",
    "valid_dataset = EEGDataset(valid_file_list, 'C:/Users/a1882/Desktop/EEG/eegdata_3000/validation', valid_label)"
   ],
   "metadata": {
    "collapsed": false,
    "ExecuteTime": {
     "start_time": "2023-04-20T20:24:21.005975Z",
     "end_time": "2023-04-20T20:24:21.073954Z"
    }
   }
  },
  {
   "cell_type": "code",
   "execution_count": 238,
   "outputs": [],
   "source": [
    "train_loader = DataLoader(train_dataset, batch_size=64, shuffle=True)\n",
    "valid_loader = DataLoader(valid_dataset, batch_size=64, shuffle=True)"
   ],
   "metadata": {
    "collapsed": false,
    "ExecuteTime": {
     "start_time": "2023-04-20T20:24:21.038957Z",
     "end_time": "2023-04-20T20:24:21.344596Z"
    }
   }
  },
  {
   "cell_type": "code",
   "execution_count": 239,
   "outputs": [
    {
     "name": "stdout",
     "output_type": "stream",
     "text": [
      "Using cpu device\n"
     ]
    }
   ],
   "source": [
    "device = (\n",
    "    \"cuda\"\n",
    "    if torch.cuda.is_available()\n",
    "    else \"mps\"\n",
    "    if torch.cuda.is_available()\n",
    "    else \"cpu\"\n",
    ")\n",
    "print(f\"Using {device} device\")"
   ],
   "metadata": {
    "collapsed": false,
    "ExecuteTime": {
     "start_time": "2023-04-20T20:24:21.104505Z",
     "end_time": "2023-04-20T20:24:21.368601Z"
    }
   }
  },
  {
   "cell_type": "code",
   "execution_count": 240,
   "outputs": [],
   "source": [
    "learning_rate = 0.0001\n",
    "batch_size = 64\n",
    "num_epochs = 100\n",
    "loss_fn = nn.CrossEntropyLoss()\n",
    "optimizer = torch.optim.Adam(model.parameters(), lr=learning_rate)\n",
    "scheduler = StepLR(optimizer, step_size=30, gamma=0.1)"
   ],
   "metadata": {
    "collapsed": false,
    "ExecuteTime": {
     "start_time": "2023-04-20T20:24:21.134499Z",
     "end_time": "2023-04-20T20:24:21.368601Z"
    }
   }
  },
  {
   "cell_type": "code",
   "execution_count": 241,
   "outputs": [],
   "source": [
    "def train(dataloader, model, loss_fn, optimizer):\n",
    "    size = len(dataloader.dataset)\n",
    "    for batch, (X, y) in enumerate(dataloader):\n",
    "        X, y = X.to(device), y.to(device)\n",
    "        # Compute prediction error\n",
    "        pred = model(X.float())\n",
    "        loss = loss_fn(pred, y)\n",
    "        # Backpropagation\n",
    "        optimizer.zero_grad()\n",
    "        loss.backward()\n",
    "        optimizer.step()\n",
    "        if batch % 100 == 0:\n",
    "            loss, current = loss.item(), batch * len(X)\n",
    "            print(f\"loss: {loss:>7f}  [{current:>5d}/{size:>5d}]\")\n",
    "            global train_loss\n",
    "            train_loss.append(loss)\n",
    "\n",
    "\n",
    "\n",
    "def test(dataloader, model,loss_fn):\n",
    "    size = len(dataloader.dataset)\n",
    "    num_batches = len(dataloader)\n",
    "    model.eval()\n",
    "    test_loss, correct = 0, 0\n",
    "    with torch.no_grad():\n",
    "        for X, y in dataloader:\n",
    "            X, y = X.to(device), y.to(device)\n",
    "            pred = model(X.float())\n",
    "            test_loss += loss_fn(pred, y).item()\n",
    "            correct += (pred.argmax(1) == y).type(torch.float).sum().item()\n",
    "    test_loss /= num_batches\n",
    "    correct /= size\n",
    "    print(f\"Test Error:\\n Accuracy: {(100 * correct):>0.1f}%, Avg loss: {test_loss:>8f} \\n\")\n",
    "    global valid_loss\n",
    "    valid_loss.append(test_loss)\n",
    "    global accuracy\n",
    "    accuracy.append(correct)"
   ],
   "metadata": {
    "collapsed": false,
    "ExecuteTime": {
     "start_time": "2023-04-20T20:24:21.179515Z",
     "end_time": "2023-04-20T20:24:21.372602Z"
    }
   }
  },
  {
   "cell_type": "code",
   "execution_count": null,
   "outputs": [
    {
     "name": "stdout",
     "output_type": "stream",
     "text": [
      "Epoch 1\n",
      "-------------------------------\n",
      "loss: 1.870425  [    0/  161]\n",
      "Test Error:\n",
      " Accuracy: 30.4%, Avg loss: 1.489581 \n",
      "\n",
      "Epoch 2\n",
      "-------------------------------\n",
      "loss: 1.226224  [    0/  161]\n",
      "Test Error:\n",
      " Accuracy: 55.1%, Avg loss: 1.358423 \n",
      "\n",
      "Epoch 3\n",
      "-------------------------------\n",
      "loss: 1.308096  [    0/  161]\n",
      "Test Error:\n",
      " Accuracy: 63.8%, Avg loss: 1.284454 \n",
      "\n",
      "Epoch 4\n",
      "-------------------------------\n",
      "loss: 1.072994  [    0/  161]\n",
      "Test Error:\n",
      " Accuracy: 71.0%, Avg loss: 1.448250 \n",
      "\n",
      "Epoch 5\n",
      "-------------------------------\n",
      "loss: 0.711540  [    0/  161]\n",
      "Test Error:\n",
      " Accuracy: 71.0%, Avg loss: 1.158284 \n",
      "\n",
      "Epoch 6\n",
      "-------------------------------\n",
      "loss: 0.903013  [    0/  161]\n",
      "Test Error:\n",
      " Accuracy: 63.8%, Avg loss: 1.529008 \n",
      "\n",
      "Epoch 7\n",
      "-------------------------------\n",
      "loss: 0.704386  [    0/  161]\n",
      "Test Error:\n",
      " Accuracy: 65.2%, Avg loss: 0.873027 \n",
      "\n",
      "Epoch 8\n",
      "-------------------------------\n",
      "loss: 0.693411  [    0/  161]\n",
      "Test Error:\n",
      " Accuracy: 71.0%, Avg loss: 1.028581 \n",
      "\n",
      "Epoch 9\n",
      "-------------------------------\n",
      "loss: 0.691839  [    0/  161]\n",
      "Test Error:\n",
      " Accuracy: 76.8%, Avg loss: 0.913481 \n",
      "\n",
      "Epoch 10\n",
      "-------------------------------\n",
      "loss: 0.512254  [    0/  161]\n",
      "Test Error:\n",
      " Accuracy: 72.5%, Avg loss: 0.922364 \n",
      "\n",
      "Epoch 11\n",
      "-------------------------------\n",
      "loss: 0.687970  [    0/  161]\n",
      "Test Error:\n",
      " Accuracy: 65.2%, Avg loss: 0.920233 \n",
      "\n",
      "Epoch 12\n",
      "-------------------------------\n",
      "loss: 0.836152  [    0/  161]\n",
      "Test Error:\n",
      " Accuracy: 63.8%, Avg loss: 0.979361 \n",
      "\n",
      "Epoch 13\n",
      "-------------------------------\n",
      "loss: 0.600567  [    0/  161]\n",
      "Test Error:\n",
      " Accuracy: 66.7%, Avg loss: 0.798758 \n",
      "\n",
      "Epoch 14\n",
      "-------------------------------\n",
      "loss: 0.458873  [    0/  161]\n",
      "Test Error:\n",
      " Accuracy: 71.0%, Avg loss: 0.911962 \n",
      "\n",
      "Epoch 15\n",
      "-------------------------------\n",
      "loss: 0.538901  [    0/  161]\n",
      "Test Error:\n",
      " Accuracy: 72.5%, Avg loss: 0.926267 \n",
      "\n",
      "Epoch 16\n",
      "-------------------------------\n",
      "loss: 0.585445  [    0/  161]\n",
      "Test Error:\n",
      " Accuracy: 71.0%, Avg loss: 0.874437 \n",
      "\n",
      "Epoch 17\n",
      "-------------------------------\n",
      "loss: 0.424330  [    0/  161]\n",
      "Test Error:\n",
      " Accuracy: 72.5%, Avg loss: 0.854901 \n",
      "\n",
      "Epoch 18\n",
      "-------------------------------\n",
      "loss: 0.333145  [    0/  161]\n",
      "Test Error:\n",
      " Accuracy: 68.1%, Avg loss: 0.781660 \n",
      "\n",
      "Epoch 19\n",
      "-------------------------------\n",
      "loss: 0.336878  [    0/  161]\n",
      "Test Error:\n",
      " Accuracy: 71.0%, Avg loss: 0.844102 \n",
      "\n",
      "Epoch 20\n",
      "-------------------------------\n",
      "loss: 0.268745  [    0/  161]\n",
      "Test Error:\n",
      " Accuracy: 72.5%, Avg loss: 0.910472 \n",
      "\n",
      "Epoch 21\n",
      "-------------------------------\n",
      "loss: 0.406312  [    0/  161]\n",
      "Test Error:\n",
      " Accuracy: 72.5%, Avg loss: 1.638309 \n",
      "\n",
      "Epoch 22\n",
      "-------------------------------\n",
      "loss: 0.286470  [    0/  161]\n"
     ]
    }
   ],
   "source": [
    "torch.cuda.empty_cache()\n",
    "# model = model = EEG_LSTM(input_size=31000, hidden_size=128, num_layers=2,num_classes=train_class_number).to(device)\n",
    "train_loss = []\n",
    "valid_loss = []\n",
    "accuracy = []\n",
    "for t in range(num_epochs):\n",
    "    print(f\"Epoch {t + 1}\\n-------------------------------\")\n",
    "    model.train(True)\n",
    "    train(train_loader, model, loss_fn, optimizer)\n",
    "\n",
    "    model.train(False)\n",
    "    test(valid_loader, model, loss_fn)\n",
    "\n",
    "print(\"Done!\")"
   ],
   "metadata": {
    "collapsed": false,
    "ExecuteTime": {
     "start_time": "2023-04-20T12:11:55.114650Z",
     "end_time": "2023-04-20T13:35:18.690802Z"
    },
    "pycharm": {
     "is_executing": true
    }
   }
  },
  {
   "cell_type": "code",
   "execution_count": null,
   "outputs": [],
   "source": [
    "import matplotlib.pyplot as plt\n",
    "%matplotlib inline\n",
    "hex_d1 = '#552a28'\n",
    "hex_d2 = '#005943'\n",
    "\n",
    "plt.figure()\n",
    "plt.plot(train_loss,hex_d1,label='train loss')\n",
    "plt.ylabel('train loss')\n",
    "plt.xlabel('epoch')\n",
    "plt.plot(valid_loss,hex_d2,label='valid loss')\n",
    "plt.ylabel('valid loss')\n",
    "plt.xlabel('epoch')\n",
    "plt.legend()\n",
    "\n",
    "plt.savefig('cnn_3000_100e_loss_2.png')\n",
    "plt.show()"
   ],
   "metadata": {
    "collapsed": false,
    "ExecuteTime": {
     "start_time": "2023-04-20T13:35:18.719807Z",
     "end_time": "2023-04-20T13:35:19.210799Z"
    },
    "pycharm": {
     "is_executing": true
    }
   }
  },
  {
   "cell_type": "code",
   "execution_count": null,
   "outputs": [],
   "source": [],
   "metadata": {
    "collapsed": false,
    "ExecuteTime": {
     "start_time": "2023-04-20T13:35:19.215794Z",
     "end_time": "2023-04-20T13:35:19.225796Z"
    },
    "pycharm": {
     "is_executing": true
    }
   }
  },
  {
   "cell_type": "code",
   "execution_count": null,
   "outputs": [],
   "source": [
    "import matplotlib.pyplot as plt\n",
    "%matplotlib inline\n",
    "\n",
    "\n",
    "plt.figure()\n",
    "plt.plot(accuracy, color = '#550300', label='accuracy')\n",
    "plt.ylabel('accuracy')\n",
    "plt.xlabel('epoch')\n",
    "plt.legend()\n",
    "plt.savefig('cnn_3000_100e_accuracy_2.png')\n",
    "plt.show()"
   ],
   "metadata": {
    "collapsed": false,
    "ExecuteTime": {
     "start_time": "2023-04-20T13:35:19.261337Z",
     "end_time": "2023-04-20T13:35:19.603961Z"
    },
    "pycharm": {
     "is_executing": true
    }
   }
  },
  {
   "cell_type": "code",
   "execution_count": null,
   "outputs": [],
   "source": [
    "model.eval()\n",
    "model = EEGNet()\n",
    "save_path = './model_saved/cnn_3000_100e_1.pt'\n",
    "# torch.save(model, save_path)\n",
    "# loaded_model = torch.load(save_path)\n",
    "torch.save(model.state_dict(), save_path)\n",
    "loaded_model = EEGNet()\n",
    "loaded_model.load_state_dict(torch.load(save_path))"
   ],
   "metadata": {
    "collapsed": false,
    "ExecuteTime": {
     "start_time": "2023-04-20T13:35:19.605961Z",
     "end_time": "2023-04-20T13:35:19.884049Z"
    },
    "pycharm": {
     "is_executing": true
    }
   }
  },
  {
   "cell_type": "code",
   "execution_count": null,
   "outputs": [],
   "source": [
    "import onnx\n",
    "import onnxruntime\n",
    "from torch import nn\n",
    "onnx_file_name = \"./cnn_3000_100e.onnx\"\n",
    "torch.load(save_path, map_location=torch.device('cpu'))"
   ],
   "metadata": {
    "collapsed": false,
    "ExecuteTime": {
     "start_time": "2023-04-20T13:35:19.886050Z",
     "end_time": "2023-04-20T13:35:20.062146Z"
    },
    "pycharm": {
     "is_executing": true
    }
   }
  },
  {
   "cell_type": "code",
   "execution_count": null,
   "outputs": [],
   "source": [
    "model.eval()\n",
    "batch_size = 1\n",
    "dummy_input = torch.randn(batch_size, 32, 3000,requires_grad=True ,dtype=torch.float32)\n",
    "output = model(dummy_input)\n",
    "torch.onnx.export(model, dummy_input, onnx_file_name, verbose=True, input_names=['input'], output_names=['output'],\n",
    " dynamic_axes={'input': {0: 'batch_size'}, 'output': {0: 'batch_size'}})\n"
   ],
   "metadata": {
    "collapsed": false,
    "ExecuteTime": {
     "start_time": "2023-04-20T13:35:20.063144Z",
     "end_time": "2023-04-20T13:35:20.653929Z"
    },
    "pycharm": {
     "is_executing": true
    }
   }
  },
  {
   "cell_type": "markdown",
   "source": [],
   "metadata": {
    "collapsed": false
   }
  },
  {
   "cell_type": "code",
   "execution_count": null,
   "outputs": [],
   "source": [
    "import onnx\n",
    "# 我们可以使用异常处理的方法进行检验\n",
    "try:\n",
    "    # 当我们的模型不可用时，将会报出异常\n",
    "    onnx.checker.check_model(onnx_file_name)\n",
    "except onnx.checker.ValidationError as e:\n",
    "    print(\"The model is invalid: %s\"%e)\n",
    "else:\n",
    "    # 模型可用时，将不会报出异常，并会输出“The model is valid!”\n",
    "    print(\"The model is valid!\")"
   ],
   "metadata": {
    "collapsed": false,
    "ExecuteTime": {
     "start_time": "2023-04-20T13:35:20.656931Z",
     "end_time": "2023-04-20T13:35:21.175618Z"
    },
    "pycharm": {
     "is_executing": true
    }
   }
  },
  {
   "cell_type": "code",
   "execution_count": null,
   "outputs": [],
   "source": [
    "# import onnxruntime\n",
    "# import numpy as np\n",
    "# sess = onnxruntime.InferenceSession(onnx_file_name)\n",
    "#\n",
    "# def to_numpy(tensor):\n",
    "#     return tensor.detach().cpu().numpy() if tensor.requires_grad else tensor.cpu().numpy()\n",
    "#\n",
    "# input_name = sess.get_inputs()[0].name\n",
    "# label_name = sess.get_outputs()[0].name\n",
    "#\n",
    "# np.testing.assert_almost_equal(\n",
    "#     to_numpy(output),\n",
    "#     sess.run([label_name], {input_name: to_numpy(dummy_input)})[0]\n",
    "# )\n"
   ],
   "metadata": {
    "collapsed": false,
    "ExecuteTime": {
     "start_time": "2023-04-20T13:35:21.178619Z",
     "end_time": "2023-04-20T13:35:21.397751Z"
    },
    "pycharm": {
     "is_executing": true
    }
   }
  },
  {
   "cell_type": "code",
   "execution_count": null,
   "outputs": [],
   "source": [
    "signal = pd.read_csv(\"C:\\\\Users\\\\a1882\\Desktop\\EEG\\eegdata_3000\\\\validation\\\\walkl_cp_epocflex_2023.03.26t14.13.37+08.00.md.bp.csv_2.csv\")\n",
    "model = EEGNet()\n",
    "model.load_state_dict(torch.load(save_path))\n",
    "model.eval()\n",
    "input = torch.from_numpy(signal.values)\n",
    "input = input.unsqueeze(0)\n",
    "with torch.no_grad():\n",
    "    output = model(input.float())\n",
    "    print(output)\n",
    "# probabilities = torch.nn.functional.softmax(output, dim=1)\n",
    "# print(probabilities)\n",
    "\n",
    "_, pred = torch.max(output, dim=1)  # 找到预测分数最大的类别，得到预测类别\n",
    "print(pred.item())  # 输出预测类别的整数值"
   ],
   "metadata": {
    "collapsed": false,
    "ExecuteTime": {
     "start_time": "2023-04-20T13:35:21.400754Z",
     "end_time": "2023-04-20T13:35:21.755787Z"
    },
    "pycharm": {
     "is_executing": true
    }
   }
  },
  {
   "cell_type": "code",
   "execution_count": null,
   "outputs": [],
   "source": [
    "# pro = probabilities*100\n",
    "# print(pro)"
   ],
   "metadata": {
    "collapsed": false,
    "ExecuteTime": {
     "start_time": "2023-04-20T13:35:21.757788Z",
     "end_time": "2023-04-20T13:35:21.828310Z"
    },
    "pycharm": {
     "is_executing": true
    }
   }
  },
  {
   "cell_type": "code",
   "execution_count": null,
   "outputs": [],
   "source": [],
   "metadata": {
    "collapsed": false,
    "ExecuteTime": {
     "start_time": "2023-04-20T13:35:21.775320Z",
     "end_time": "2023-04-20T13:35:21.831313Z"
    },
    "pycharm": {
     "is_executing": true
    }
   }
  }
 ],
 "metadata": {
  "kernelspec": {
   "display_name": "Python 3",
   "language": "python",
   "name": "python3"
  },
  "language_info": {
   "codemirror_mode": {
    "name": "ipython",
    "version": 2
   },
   "file_extension": ".py",
   "mimetype": "text/x-python",
   "name": "python",
   "nbconvert_exporter": "python",
   "pygments_lexer": "ipython2",
   "version": "2.7.6"
  }
 },
 "nbformat": 4,
 "nbformat_minor": 0
}
